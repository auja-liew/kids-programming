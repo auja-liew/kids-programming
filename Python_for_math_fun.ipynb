{
  "nbformat": 4,
  "nbformat_minor": 0,
  "metadata": {
    "colab": {
      "name": "Python for math fun.ipynb",
      "provenance": [],
      "collapsed_sections": [
        "zaOtyAurJGDR"
      ],
      "include_colab_link": true
    },
    "kernelspec": {
      "name": "python3",
      "display_name": "Python 3"
    }
  },
  "cells": [
    {
      "cell_type": "markdown",
      "metadata": {
        "id": "view-in-github",
        "colab_type": "text"
      },
      "source": [
        "<a href=\"https://colab.research.google.com/github/auja-liew/kids-programming/blob/main/Python_for_math_fun.ipynb\" target=\"_parent\"><img src=\"https://colab.research.google.com/assets/colab-badge.svg\" alt=\"Open In Colab\"/></a>"
      ]
    },
    {
      "cell_type": "markdown",
      "metadata": {
        "id": "Ll1FJKQcIlmt"
      },
      "source": [
        "##This is Python for Math Fun - Simple Geometry\n",
        "### Weichang Li (weichang.lis@gmail.com)\n",
        "#### version November 12, 2020 \n",
        "Happy SHIFT+ENTERING (press shift + Enter keys to run line by line)!"
      ]
    },
    {
      "cell_type": "markdown",
      "metadata": {
        "id": "Hu9VzsZ45FBj"
      },
      "source": [
        "In this code we will demonstrate how to calculate inner angles of different equal lateral polygons and how that can be used to draw these polygons"
      ]
    },
    {
      "cell_type": "code",
      "metadata": {
        "id": "3PDNMsXXshQ7",
        "outputId": "362bb757-5540-4c33-94b9-9348f24e16f4",
        "colab": {
          "base_uri": "https://localhost:8080/"
        }
      },
      "source": [
        "# This will install Google Colab version of Turtle (https://github.com/tolgaatam/ColabTurtle) for html based drawing\n",
        "# For local machine, one could use Turtle directly (https://docs.python.org/3/library/turtle.html)\n",
        "!pip3 install ColabTurtle"
      ],
      "execution_count": 30,
      "outputs": [
        {
          "output_type": "stream",
          "text": [
            "Requirement already satisfied: ColabTurtle in /usr/local/lib/python3.6/dist-packages (2.0.0)\n"
          ],
          "name": "stdout"
        }
      ]
    },
    {
      "cell_type": "markdown",
      "metadata": {
        "id": "wWRYdkJzIqW3"
      },
      "source": [
        "##Dependencies"
      ]
    },
    {
      "cell_type": "code",
      "metadata": {
        "id": "7X42jJWlAuSl"
      },
      "source": [
        "import ColabTurtle #or simply import ColabTurtle should work fine\n",
        "from ColabTurtle.Turtle import *\n",
        "#import cv2\n",
        "#from google.colab.patches import cv2_imshow\n",
        "from google.colab import output\n",
        "import time \n",
        "import os, sys"
      ],
      "execution_count": 31,
      "outputs": []
    },
    {
      "cell_type": "code",
      "metadata": {
        "id": "Y2ggDA4I5prO"
      },
      "source": [
        ""
      ],
      "execution_count": 31,
      "outputs": []
    },
    {
      "cell_type": "markdown",
      "metadata": {
        "id": "lFqI32cMI2vq"
      },
      "source": [
        "##Initialize ColabTurtle for your pen to draw\n",
        "### this will show a small circle with an arrow"
      ]
    },
    {
      "cell_type": "code",
      "metadata": {
        "id": "8PrUTSzwsvRs",
        "outputId": "ae7da4da-e165-4b12-eae1-ecb433a76e49",
        "colab": {
          "base_uri": "https://localhost:8080/",
          "height": 520
        }
      },
      "source": [
        "# let's name our pen as Alex\n",
        "alex = ColabTurtle.Turtle\n",
        "#alex = Turtle\n",
        "alex.initializeTurtle()\n"
      ],
      "execution_count": 32,
      "outputs": [
        {
          "output_type": "display_data",
          "data": {
            "text/html": [
              "\n",
              "      <svg width=\"800\" height=\"500\">\n",
              "        <rect width=\"100%\" height=\"100%\" fill=\"black\"/>\n",
              "        \n",
              "        \n",
              "      <g visibility=visible transform=\"rotate(180,400,250) translate(400, 250)\">\n",
              "        <circle stroke=\"white\" stroke-width=\"3\" fill=\"transparent\" r=\"12\" cx=\"0\" cy=\"0\"/>\n",
              "        <polygon points=\"0,19 3,16 -3,16\" style=\"fill:white;stroke:white;stroke-width:2\"/>\n",
              "      </g>\n",
              "    \n",
              "      </svg>\n",
              "    "
            ],
            "text/plain": [
              "<IPython.core.display.HTML object>"
            ]
          },
          "metadata": {
            "tags": []
          }
        }
      ]
    },
    {
      "cell_type": "markdown",
      "metadata": {
        "id": "Q6KBxGhSFhZh"
      },
      "source": [
        "### Draw a Square"
      ]
    },
    {
      "cell_type": "code",
      "metadata": {
        "id": "_ejN5sQ4Gdst",
        "outputId": "2a3df12c-80f7-4869-acc9-5efb94cb273e",
        "colab": {
          "base_uri": "https://localhost:8080/",
          "height": 520
        }
      },
      "source": [
        "alex.initializeTurtle(initial_speed=5) # initialize with clean canvas\n",
        "L = 100 # side length\n",
        "a = 90 # outer angle\n",
        "\n",
        "# draw like you would do by hand \n",
        "alex.right(90)\n",
        "alex.forward(L) #circle of side L = 50\n",
        "alex.left(a)\n",
        "alex.forward(L)\n",
        "alex.left(a)\n",
        "alex.forward(L)\n",
        "alex.left(a)\n",
        "alex.forward(L)\n"
      ],
      "execution_count": 6,
      "outputs": [
        {
          "output_type": "display_data",
          "data": {
            "text/html": [
              "\n",
              "      <svg width=\"800\" height=\"500\">\n",
              "        <rect width=\"100%\" height=\"100%\" fill=\"black\"/>\n",
              "        <line x1=\"400\" y1=\"250\" x2=\"500.0\" y2=\"250.0\" stroke-linecap=\"round\" style=\"stroke:white;stroke-width:4\"/><line x1=\"500.0\" y1=\"250.0\" x2=\"500.0\" y2=\"150.0\" stroke-linecap=\"round\" style=\"stroke:white;stroke-width:4\"/><line x1=\"500.0\" y1=\"150.0\" x2=\"400.0\" y2=\"150.0\" stroke-linecap=\"round\" style=\"stroke:white;stroke-width:4\"/><line x1=\"400.0\" y1=\"150.0\" x2=\"400.0\" y2=\"250.0\" stroke-linecap=\"round\" style=\"stroke:white;stroke-width:4\"/>\n",
              "        \n",
              "      <g visibility=visible transform=\"rotate(0,400.0,250.0) translate(400.0, 250.0)\">\n",
              "        <circle stroke=\"white\" stroke-width=\"3\" fill=\"transparent\" r=\"12\" cx=\"0\" cy=\"0\"/>\n",
              "        <polygon points=\"0,19 3,16 -3,16\" style=\"fill:white;stroke:white;stroke-width:2\"/>\n",
              "      </g>\n",
              "    \n",
              "      </svg>\n",
              "    "
            ],
            "text/plain": [
              "<IPython.core.display.HTML object>"
            ]
          },
          "metadata": {
            "tags": []
          }
        }
      ]
    },
    {
      "cell_type": "markdown",
      "metadata": {
        "id": "UtzV2XZeChfw"
      },
      "source": [
        "## Draw a rectangle \n",
        "by Audrey"
      ]
    },
    {
      "cell_type": "code",
      "metadata": {
        "id": "UDt78htvCpWI",
        "outputId": "eebd6f65-110b-4b60-cb04-ff6ee1d24085",
        "colab": {
          "base_uri": "https://localhost:8080/",
          "height": 520
        }
      },
      "source": [
        "alex.initializeTurtle(initial_speed=5) # initialize with clean canvas\n",
        "alex.color('red')\n",
        "W = 60\n",
        "H = 160\n",
        "a = 90\n",
        "\n",
        "#draw what you would like to do by hand\n",
        "alex.left(90)\n",
        "alex.backward(W)\n",
        "alex.right(90)\n",
        "alex.backward(H)\n",
        "alex.right(90)\n",
        "alex.backward(W)\n",
        "alex.right(90)\n",
        "alex.backward(H)"
      ],
      "execution_count": 16,
      "outputs": [
        {
          "output_type": "display_data",
          "data": {
            "text/html": [
              "\n",
              "      <svg width=\"800\" height=\"500\">\n",
              "        <rect width=\"100%\" height=\"100%\" fill=\"black\"/>\n",
              "        <line x1=\"400\" y1=\"250\" x2=\"460.0\" y2=\"250.0\" stroke-linecap=\"round\" style=\"stroke:red;stroke-width:4\"/><line x1=\"460.0\" y1=\"250.0\" x2=\"460.00000000000006\" y2=\"410.0\" stroke-linecap=\"round\" style=\"stroke:red;stroke-width:4\"/><line x1=\"460.00000000000006\" y1=\"410.0\" x2=\"400.00000000000006\" y2=\"410.0\" stroke-linecap=\"round\" style=\"stroke:red;stroke-width:4\"/><line x1=\"400.00000000000006\" y1=\"410.0\" x2=\"400.00000000000006\" y2=\"250.0\" stroke-linecap=\"round\" style=\"stroke:red;stroke-width:4\"/>\n",
              "        \n",
              "      <g visibility=visible transform=\"rotate(0,400.00000000000006,250.0) translate(400.00000000000006, 250.0)\">\n",
              "        <circle stroke=\"red\" stroke-width=\"3\" fill=\"transparent\" r=\"12\" cx=\"0\" cy=\"0\"/>\n",
              "        <polygon points=\"0,19 3,16 -3,16\" style=\"fill:red;stroke:red;stroke-width:2\"/>\n",
              "      </g>\n",
              "    \n",
              "      </svg>\n",
              "    "
            ],
            "text/plain": [
              "<IPython.core.display.HTML object>"
            ]
          },
          "metadata": {
            "tags": []
          }
        }
      ]
    },
    {
      "cell_type": "markdown",
      "metadata": {
        "id": "fAgy3sr4KmSk"
      },
      "source": [
        "### Draw an Equal Lateral Triangle"
      ]
    },
    {
      "cell_type": "code",
      "metadata": {
        "id": "Jp5XUskWLCp6",
        "outputId": "553dee9d-c790-4bb7-9e5e-9594b3c8b39a",
        "colab": {
          "base_uri": "https://localhost:8080/",
          "height": 521
        }
      },
      "source": [
        "alex.initializeTurtle() # initialize with clean canvas\n",
        "alex.color('green') #pen color\n",
        "L = 100 #side length\n",
        "a = 120 #outer angle\n",
        "\n",
        "# draw like you would do by hand \n",
        "alex.right(90)\n",
        "alex.forward(L) #circle of side L = 50\n",
        "alex.left(a)\n",
        "alex.forward(L)\n",
        "alex.left(a)\n",
        "alex.forward(L)\n"
      ],
      "execution_count": null,
      "outputs": [
        {
          "output_type": "display_data",
          "data": {
            "text/html": [
              "\n",
              "      <svg width=\"800\" height=\"500\">\n",
              "        <rect width=\"100%\" height=\"100%\" fill=\"black\"/>\n",
              "        <line x1=\"400\" y1=\"250\" x2=\"500.0\" y2=\"250.0\" stroke-linecap=\"round\" style=\"stroke:green;stroke-width:4\"/><line x1=\"500.0\" y1=\"250.0\" x2=\"449.99999999999994\" y2=\"163.39745962155615\" stroke-linecap=\"round\" style=\"stroke:green;stroke-width:4\"/><line x1=\"449.99999999999994\" y1=\"163.39745962155615\" x2=\"399.99999999999994\" y2=\"250.00000000000003\" stroke-linecap=\"round\" style=\"stroke:green;stroke-width:4\"/>\n",
              "        \n",
              "      <g visibility=visible transform=\"rotate(30,399.99999999999994,250.00000000000003) translate(399.99999999999994, 250.00000000000003)\">\n",
              "        <circle stroke=\"green\" stroke-width=\"3\" fill=\"transparent\" r=\"12\" cx=\"0\" cy=\"0\"/>\n",
              "        <polygon points=\"0,19 3,16 -3,16\" style=\"fill:green;stroke:green;stroke-width:2\"/>\n",
              "      </g>\n",
              "    \n",
              "      </svg>\n",
              "    "
            ],
            "text/plain": [
              "<IPython.core.display.HTML object>"
            ]
          },
          "metadata": {
            "tags": []
          }
        }
      ]
    },
    {
      "cell_type": "markdown",
      "metadata": {
        "id": "jrrahNMJkFsR"
      },
      "source": [
        "##Draw a Right Triangle"
      ]
    },
    {
      "cell_type": "code",
      "metadata": {
        "id": "3fYELGVRkTB1",
        "outputId": "6c985a45-1585-4d65-d2de-197a1bbf23a9",
        "colab": {
          "base_uri": "https://localhost:8080/",
          "height": 521
        }
      },
      "source": [
        "ww = 800\n",
        "wh = 500\n",
        "WINDOW_SIZE = (ww, wh) # this is the canvas size\n",
        "alex.initializeTurtle(initial_window_size=WINDOW_SIZE)\n",
        "#it's a tall triangle, let's move the origin down a little bit\n",
        "alex.penup()\n",
        "alex.goto(int(ww/2),int(wh*3/4))\n",
        "alex.color('blue')\n",
        "alex.pendown()\n",
        "\n",
        "# length and angles of a right triangle\n",
        "L1 = 30\n",
        "L2 = 40\n",
        "L3 = 50\n",
        "scale = 5\n",
        "a1 = 90\n",
        "a2 = 180-36.869898 # Right triangle angle calculation\n",
        "\n",
        "# now draw as you would do by hand\n",
        "alex.right(90)\n",
        "alex.forward(L1*scale) #circle of side L = 50\n",
        "alex.left(a1)\n",
        "alex.forward(L2*scale)\n",
        "alex.left(a2)\n",
        "alex.forward(L3*scale)"
      ],
      "execution_count": null,
      "outputs": [
        {
          "output_type": "display_data",
          "data": {
            "text/html": [
              "\n",
              "      <svg width=\"800\" height=\"500\">\n",
              "        <rect width=\"100%\" height=\"100%\" fill=\"black\"/>\n",
              "        <line x1=\"400\" y1=\"375\" x2=\"550.0\" y2=\"375.0\" stroke-linecap=\"round\" style=\"stroke:blue;stroke-width:4\"/><line x1=\"550.0\" y1=\"375.0\" x2=\"550.0\" y2=\"175.0\" stroke-linecap=\"round\" style=\"stroke:blue;stroke-width:4\"/><line x1=\"550.0\" y1=\"175.0\" x2=\"399.99999876376245\" y2=\"374.9999990728218\" stroke-linecap=\"round\" style=\"stroke:blue;stroke-width:4\"/>\n",
              "        \n",
              "      <g visibility=visible transform=\"rotate(36.869898000000006,399.99999876376245,374.9999990728218) translate(399.99999876376245, 374.9999990728218)\">\n",
              "        <circle stroke=\"blue\" stroke-width=\"3\" fill=\"transparent\" r=\"12\" cx=\"0\" cy=\"0\"/>\n",
              "        <polygon points=\"0,19 3,16 -3,16\" style=\"fill:blue;stroke:blue;stroke-width:2\"/>\n",
              "      </g>\n",
              "    \n",
              "      </svg>\n",
              "    "
            ],
            "text/plain": [
              "<IPython.core.display.HTML object>"
            ]
          },
          "metadata": {
            "tags": []
          }
        }
      ]
    },
    {
      "cell_type": "markdown",
      "metadata": {
        "id": "X5ZsGqnTFOXs"
      },
      "source": [
        "##Ayy draw a star :D\n",
        "by Audrey"
      ]
    },
    {
      "cell_type": "code",
      "metadata": {
        "id": "8idj8NZRFXKk",
        "outputId": "8e20f033-3e14-4860-b335-c9e4f03aa2e1",
        "colab": {
          "base_uri": "https://localhost:8080/",
          "height": 520
        }
      },
      "source": [
        "alex.initializeTurtle() # initialize with clean canvas\n",
        "alex.color('purple')\n",
        "L = 200\n",
        "a = 144\n",
        "alex.right(90)\n",
        "alex.forward(L)\n",
        "alex.right(a)\n",
        "alex.forward(L)\n",
        "alex.right(a)\n",
        "alex.forward(L)\n",
        "alex.right(a)\n",
        "alex.forward(L)\n",
        "alex.right(a)\n",
        "alex.forward(L)\n"
      ],
      "execution_count": 20,
      "outputs": [
        {
          "output_type": "display_data",
          "data": {
            "text/html": [
              "\n",
              "      <svg width=\"800\" height=\"500\">\n",
              "        <rect width=\"100%\" height=\"100%\" fill=\"black\"/>\n",
              "        <line x1=\"400\" y1=\"250\" x2=\"600.0\" y2=\"250.0\" stroke-linecap=\"round\" style=\"stroke:purple;stroke-width:4\"/><line x1=\"600.0\" y1=\"250.0\" x2=\"438.19660112501055\" y2=\"367.55705045849464\" stroke-linecap=\"round\" style=\"stroke:purple;stroke-width:4\"/><line x1=\"438.19660112501055\" y1=\"367.55705045849464\" x2=\"500.0\" y2=\"177.34574719946391\" stroke-linecap=\"round\" style=\"stroke:purple;stroke-width:4\"/><line x1=\"500.0\" y1=\"177.34574719946391\" x2=\"561.8033988749895\" y2=\"367.5570504584946\" stroke-linecap=\"round\" style=\"stroke:purple;stroke-width:4\"/><line x1=\"561.8033988749895\" y1=\"367.5570504584946\" x2=\"400.0\" y2=\"250.0\" stroke-linecap=\"round\" style=\"stroke:purple;stroke-width:4\"/>\n",
              "        \n",
              "      <g visibility=visible transform=\"rotate(126,400.0,250.0) translate(400.0, 250.0)\">\n",
              "        <circle stroke=\"purple\" stroke-width=\"3\" fill=\"transparent\" r=\"12\" cx=\"0\" cy=\"0\"/>\n",
              "        <polygon points=\"0,19 3,16 -3,16\" style=\"fill:purple;stroke:purple;stroke-width:2\"/>\n",
              "      </g>\n",
              "    \n",
              "      </svg>\n",
              "    "
            ],
            "text/plain": [
              "<IPython.core.display.HTML object>"
            ]
          },
          "metadata": {
            "tags": []
          }
        }
      ]
    },
    {
      "cell_type": "markdown",
      "metadata": {
        "id": "mHlk6OoFlHVe"
      },
      "source": [
        "##Draw an Hexagon"
      ]
    },
    {
      "cell_type": "code",
      "metadata": {
        "id": "trtwQFZvlNwx",
        "outputId": "3d86b762-e6fb-4dcd-873b-c450d15b88fc",
        "colab": {
          "base_uri": "https://localhost:8080/",
          "height": 521
        }
      },
      "source": [
        "ww = 800\n",
        "wh = 500\n",
        "WINDOW_SIZE = (ww, wh)\n",
        "alex.initializeTurtle(initial_window_size=WINDOW_SIZE)\n",
        "#it's a large polygon, let's move the origin down a little bit\n",
        "alex.penup()\n",
        "alex.goto(int(ww/2),int(wh*3/4))\n",
        "alex.color('orange')\n",
        "alex.pendown()\n",
        "\n",
        "L = 100 \n",
        "a = 60 #outer angle of hexagon\n",
        "\n",
        "# now draw as you would do by hand\n",
        "alex.left(a)\n",
        "alex.forward(L)\n",
        "alex.right(a)\n",
        "alex.forward(L)\n",
        "alex.right(a)\n",
        "alex.forward(L)\n",
        "alex.right(a)\n",
        "alex.forward(L)\n",
        "alex.right(a)\n",
        "alex.forward(L)\n",
        "alex.right(a)\n",
        "alex.forward(L)\n"
      ],
      "execution_count": null,
      "outputs": [
        {
          "output_type": "display_data",
          "data": {
            "text/html": [
              "\n",
              "      <svg width=\"800\" height=\"500\">\n",
              "        <rect width=\"100%\" height=\"100%\" fill=\"black\"/>\n",
              "        <line x1=\"400\" y1=\"375\" x2=\"313.39745962155615\" y2=\"325.0\" stroke-linecap=\"round\" style=\"stroke:orange;stroke-width:4\"/><line x1=\"313.39745962155615\" y1=\"325.0\" x2=\"313.39745962155615\" y2=\"225.0\" stroke-linecap=\"round\" style=\"stroke:orange;stroke-width:4\"/><line x1=\"313.39745962155615\" y1=\"225.0\" x2=\"400.0\" y2=\"174.99999999999994\" stroke-linecap=\"round\" style=\"stroke:orange;stroke-width:4\"/><line x1=\"400.0\" y1=\"174.99999999999994\" x2=\"486.6025403784439\" y2=\"224.99999999999994\" stroke-linecap=\"round\" style=\"stroke:orange;stroke-width:4\"/><line x1=\"486.6025403784439\" y1=\"224.99999999999994\" x2=\"486.6025403784439\" y2=\"324.99999999999994\" stroke-linecap=\"round\" style=\"stroke:orange;stroke-width:4\"/><line x1=\"486.6025403784439\" y1=\"324.99999999999994\" x2=\"400.0\" y2=\"374.99999999999994\" stroke-linecap=\"round\" style=\"stroke:orange;stroke-width:4\"/>\n",
              "        \n",
              "      <g visibility=visible transform=\"rotate(60,400.0,374.99999999999994) translate(400.0, 374.99999999999994)\">\n",
              "        <circle stroke=\"orange\" stroke-width=\"3\" fill=\"transparent\" r=\"12\" cx=\"0\" cy=\"0\"/>\n",
              "        <polygon points=\"0,19 3,16 -3,16\" style=\"fill:orange;stroke:orange;stroke-width:2\"/>\n",
              "      </g>\n",
              "    \n",
              "      </svg>\n",
              "    "
            ],
            "text/plain": [
              "<IPython.core.display.HTML object>"
            ]
          },
          "metadata": {
            "tags": []
          }
        }
      ]
    },
    {
      "cell_type": "markdown",
      "metadata": {
        "id": "ZYybQrIRmCWt"
      },
      "source": [
        "##Draw a Pentagon"
      ]
    },
    {
      "cell_type": "code",
      "metadata": {
        "id": "vU8_V2WJmF2z",
        "outputId": "c2966fb3-592e-4cc6-bc65-449d7073c299",
        "colab": {
          "base_uri": "https://localhost:8080/",
          "height": 521
        }
      },
      "source": [
        "ww = 800\n",
        "wh = 500\n",
        "WINDOW_SIZE = (ww, wh)\n",
        "alex.initializeTurtle(initial_window_size=WINDOW_SIZE)\n",
        "#it's a large polygon, let's move the origin down a little bit\n",
        "alex.penup()\n",
        "alex.goto(int(ww/2),int(wh*3/4))\n",
        "alex.color('purple')\n",
        "alex.pendown()\n",
        "\n",
        "L = 100 # side length\n",
        "a = 72 #outer angle of hexagon, wonder how this is calculated?\n",
        "\n",
        "# tell alex to draw as you would do by hand\n",
        "alex.right(90)\n",
        "alex.forward(L)\n",
        "alex.left(a)\n",
        "alex.forward(L)\n",
        "alex.left(a)\n",
        "alex.forward(L)\n",
        "alex.left(a)\n",
        "alex.forward(L)\n",
        "alex.left(a)\n",
        "alex.forward(L)\n"
      ],
      "execution_count": null,
      "outputs": [
        {
          "output_type": "display_data",
          "data": {
            "text/html": [
              "\n",
              "      <svg width=\"800\" height=\"500\">\n",
              "        <rect width=\"100%\" height=\"100%\" fill=\"black\"/>\n",
              "        <line x1=\"400\" y1=\"375\" x2=\"500.0\" y2=\"375.0\" stroke-linecap=\"round\" style=\"stroke:purple;stroke-width:4\"/><line x1=\"500.0\" y1=\"375.0\" x2=\"530.9016994374947\" y2=\"279.89434837048464\" stroke-linecap=\"round\" style=\"stroke:purple;stroke-width:4\"/><line x1=\"530.9016994374947\" y1=\"279.89434837048464\" x2=\"449.99999999999994\" y2=\"221.11582314123734\" stroke-linecap=\"round\" style=\"stroke:purple;stroke-width:4\"/><line x1=\"449.99999999999994\" y1=\"221.11582314123734\" x2=\"369.0983005625052\" y2=\"279.89434837048464\" stroke-linecap=\"round\" style=\"stroke:purple;stroke-width:4\"/><line x1=\"369.0983005625052\" y1=\"279.89434837048464\" x2=\"399.99999999999994\" y2=\"375.0\" stroke-linecap=\"round\" style=\"stroke:purple;stroke-width:4\"/>\n",
              "        \n",
              "      <g visibility=visible transform=\"rotate(-18,399.99999999999994,375.0) translate(399.99999999999994, 375.0)\">\n",
              "        <circle stroke=\"purple\" stroke-width=\"3\" fill=\"transparent\" r=\"12\" cx=\"0\" cy=\"0\"/>\n",
              "        <polygon points=\"0,19 3,16 -3,16\" style=\"fill:purple;stroke:purple;stroke-width:2\"/>\n",
              "      </g>\n",
              "    \n",
              "      </svg>\n",
              "    "
            ],
            "text/plain": [
              "<IPython.core.display.HTML object>"
            ]
          },
          "metadata": {
            "tags": []
          }
        }
      ]
    },
    {
      "cell_type": "markdown",
      "metadata": {
        "id": "ESC1YEf5uVnz"
      },
      "source": [
        "## Now use loop "
      ]
    },
    {
      "cell_type": "code",
      "metadata": {
        "id": "0INjgQOkmhhJ",
        "outputId": "4e7bca4a-6cb7-4032-86b6-8032be9da2bf",
        "colab": {
          "base_uri": "https://localhost:8080/",
          "height": 521
        }
      },
      "source": [
        "# let's using loop to save the number of repeated lines of codes\n",
        "import numpy as np\n",
        "ww = 800\n",
        "wh = 500\n",
        "WINDOW_SIZE = (ww, wh)\n",
        "alex.initializeTurtle(initial_window_size=WINDOW_SIZE)\n",
        "#it's a large polygon, let's move the origin down a little bit\n",
        "alex.penup()\n",
        "alex.goto(int(ww/2),int(wh*3/4))\n",
        "alex.color('purple')\n",
        "alex.pendown()\n",
        "\n",
        "L = 100 #side length\n",
        "a = 72 #outer angle of hexagon, wonder how this is calculated?\n",
        "\n",
        "# Alex is smarter now and understand how to use loop\n",
        "alex.right(90)\n",
        "Nsides = 5\n",
        "for u in np.arange(Nsides):\n",
        "  alex.forward(L)\n",
        "  alex.left(a)\n"
      ],
      "execution_count": null,
      "outputs": [
        {
          "output_type": "display_data",
          "data": {
            "text/html": [
              "\n",
              "      <svg width=\"800\" height=\"500\">\n",
              "        <rect width=\"100%\" height=\"100%\" fill=\"black\"/>\n",
              "        <line x1=\"400\" y1=\"375\" x2=\"500.0\" y2=\"375.0\" stroke-linecap=\"round\" style=\"stroke:purple;stroke-width:4\"/><line x1=\"500.0\" y1=\"375.0\" x2=\"530.9016994374947\" y2=\"279.89434837048464\" stroke-linecap=\"round\" style=\"stroke:purple;stroke-width:4\"/><line x1=\"530.9016994374947\" y1=\"279.89434837048464\" x2=\"449.99999999999994\" y2=\"221.11582314123734\" stroke-linecap=\"round\" style=\"stroke:purple;stroke-width:4\"/><line x1=\"449.99999999999994\" y1=\"221.11582314123734\" x2=\"369.0983005625052\" y2=\"279.89434837048464\" stroke-linecap=\"round\" style=\"stroke:purple;stroke-width:4\"/><line x1=\"369.0983005625052\" y1=\"279.89434837048464\" x2=\"399.99999999999994\" y2=\"375.0\" stroke-linecap=\"round\" style=\"stroke:purple;stroke-width:4\"/>\n",
              "        \n",
              "      <g visibility=visible transform=\"rotate(-90,399.99999999999994,375.0) translate(399.99999999999994, 375.0)\">\n",
              "        <circle stroke=\"purple\" stroke-width=\"3\" fill=\"transparent\" r=\"12\" cx=\"0\" cy=\"0\"/>\n",
              "        <polygon points=\"0,19 3,16 -3,16\" style=\"fill:purple;stroke:purple;stroke-width:2\"/>\n",
              "      </g>\n",
              "    \n",
              "      </svg>\n",
              "    "
            ],
            "text/plain": [
              "<IPython.core.display.HTML object>"
            ]
          },
          "metadata": {
            "tags": []
          }
        }
      ]
    },
    {
      "cell_type": "markdown",
      "metadata": {
        "id": "raRogo90nJAW"
      },
      "source": [
        "##Draw an Octagon"
      ]
    },
    {
      "cell_type": "code",
      "metadata": {
        "id": "S2ZJTgD_nNJz",
        "outputId": "97ec5269-bcd3-4055-d81b-4355375d78bf",
        "colab": {
          "base_uri": "https://localhost:8080/",
          "height": 521
        }
      },
      "source": [
        "WINDOW_SIZE = (ww, wh)\n",
        "alex.initializeTurtle(initial_window_size=WINDOW_SIZE)\n",
        "# sometimes we could move to the left to center the polygon\n",
        "alex.penup()\n",
        "alex.goto(int(ww/4),int(wh*1/2))\n",
        "alex.color('yellow')\n",
        "alex.pendown()\n",
        "\n",
        "L = 100\n",
        "a = 45 #outer angle of Octagon, wonder how this is calculated?\n",
        "Nsides = 8\n",
        "for u in np.arange(Nsides):\n",
        "  alex.right(a)\n",
        "  alex.forward(L)"
      ],
      "execution_count": null,
      "outputs": [
        {
          "output_type": "display_data",
          "data": {
            "text/html": [
              "\n",
              "      <svg width=\"800\" height=\"500\">\n",
              "        <rect width=\"100%\" height=\"100%\" fill=\"black\"/>\n",
              "        <line x1=\"200\" y1=\"250\" x2=\"270.71067811865476\" y2=\"179.28932188134524\" stroke-linecap=\"round\" style=\"stroke:yellow;stroke-width:4\"/><line x1=\"270.71067811865476\" y1=\"179.28932188134524\" x2=\"370.71067811865476\" y2=\"179.28932188134524\" stroke-linecap=\"round\" style=\"stroke:yellow;stroke-width:4\"/><line x1=\"370.71067811865476\" y1=\"179.28932188134524\" x2=\"441.4213562373095\" y2=\"250.0\" stroke-linecap=\"round\" style=\"stroke:yellow;stroke-width:4\"/><line x1=\"441.4213562373095\" y1=\"250.0\" x2=\"441.4213562373095\" y2=\"350.0\" stroke-linecap=\"round\" style=\"stroke:yellow;stroke-width:4\"/><line x1=\"441.4213562373095\" y1=\"350.0\" x2=\"370.71067811865476\" y2=\"420.71067811865476\" stroke-linecap=\"round\" style=\"stroke:yellow;stroke-width:4\"/><line x1=\"370.71067811865476\" y1=\"420.71067811865476\" x2=\"270.71067811865476\" y2=\"420.71067811865476\" stroke-linecap=\"round\" style=\"stroke:yellow;stroke-width:4\"/><line x1=\"270.71067811865476\" y1=\"420.71067811865476\" x2=\"200.0\" y2=\"350.0\" stroke-linecap=\"round\" style=\"stroke:yellow;stroke-width:4\"/><line x1=\"200.0\" y1=\"350.0\" x2=\"199.99999999999997\" y2=\"250.0\" stroke-linecap=\"round\" style=\"stroke:yellow;stroke-width:4\"/>\n",
              "        \n",
              "      <g visibility=visible transform=\"rotate(180,199.99999999999997,250.0) translate(199.99999999999997, 250.0)\">\n",
              "        <circle stroke=\"yellow\" stroke-width=\"3\" fill=\"transparent\" r=\"12\" cx=\"0\" cy=\"0\"/>\n",
              "        <polygon points=\"0,19 3,16 -3,16\" style=\"fill:yellow;stroke:yellow;stroke-width:2\"/>\n",
              "      </g>\n",
              "    \n",
              "      </svg>\n",
              "    "
            ],
            "text/plain": [
              "<IPython.core.display.HTML object>"
            ]
          },
          "metadata": {
            "tags": []
          }
        }
      ]
    },
    {
      "cell_type": "markdown",
      "metadata": {
        "id": "-IiXQ1z29ETC"
      },
      "source": [
        "## So now you know how to draw simple polygons, how about polygon of any number of sides? \n",
        "## As you probably noticed from the codes above, the key is to know the turning angle. Here we are going to show you how to calculate the angles for any equal lateral polygon!"
      ]
    },
    {
      "cell_type": "markdown",
      "metadata": {
        "id": "BoCCobspFwtG"
      },
      "source": [
        "![](http://drive.google.com/uc?export=view&id=1PF5TtaVyvVvvoRKcU_zjhWxPmKSrDHix)"
      ]
    },
    {
      "cell_type": "code",
      "metadata": {
        "id": "3Se5YaPDq_ly"
      },
      "source": [
        "def polygon_angle(n):\n",
        "    phi = 360/n\n",
        "    beta = (180-phi)/2\n",
        "    alpha = 2*beta\n",
        "    gamma = phi\n",
        "    return phi,beta,alpha,gamma\n",
        "    "
      ],
      "execution_count": 21,
      "outputs": []
    },
    {
      "cell_type": "code",
      "metadata": {
        "id": "AeMLcf4OrJtj"
      },
      "source": [
        "import numpy as np\n",
        "def draw_polygon(n,pen_color):\n",
        "    # compute the inner and outer angles of the polygon\n",
        "    [a,b,c,d] = polygon_angle(n)\n",
        "\n",
        "\n",
        "    #initialize with a clean canvas\n",
        "    ww = 800\n",
        "    wh = 500\n",
        "    WINDOW_SIZE = (ww, wh)\n",
        "    alex.initializeTurtle(initial_window_size=WINDOW_SIZE)\n",
        "    # move the pen to the left and lower place\n",
        "    alex.penup()\n",
        "    alex.goto(int(ww*2/5),int(wh*7/8))\n",
        "    alex.pendown()\n",
        "    alex.speed(7)\n",
        "    alex.color(pen_color)\n",
        "\n",
        "    # now draw through loop\n",
        "    L = int(1000.0/n)\n",
        "    alex.right(90)\n",
        "    alex.forward(L)\n",
        "    print('L = ', L)\n",
        "    for i in np.arange(n-1):\n",
        "        alex.left(d)\n",
        "        alex.forward(L)"
      ],
      "execution_count": 26,
      "outputs": []
    },
    {
      "cell_type": "code",
      "metadata": {
        "id": "bT-PFAVSAqpz",
        "outputId": "9ef3fcb4-a56e-4c86-d96b-da457c631602",
        "colab": {
          "base_uri": "https://localhost:8080/",
          "height": 1000
        }
      },
      "source": [
        "PEN_COLORS = ('white', 'yellow', 'orange', 'red', 'green', 'blue', 'purple', 'grey')\n",
        "\n",
        "for i, nside in enumerate([3,5,7,9,11,13,15, 50]):\n",
        "    print('Now drawing ',nside,'-sided polygon')\n",
        "    pcolor = PEN_COLORS[i]\n",
        "    draw_polygon(nside,pcolor)"
      ],
      "execution_count": 27,
      "outputs": [
        {
          "output_type": "stream",
          "text": [
            "Now drawing  3 -sided polygon\n"
          ],
          "name": "stdout"
        },
        {
          "output_type": "display_data",
          "data": {
            "text/html": [
              "\n",
              "      <svg width=\"800\" height=\"500\">\n",
              "        <rect width=\"100%\" height=\"100%\" fill=\"black\"/>\n",
              "        <line x1=\"320\" y1=\"437\" x2=\"653.0\" y2=\"437.0\" stroke-linecap=\"round\" style=\"stroke:white;stroke-width:4\"/><line x1=\"653.0\" y1=\"437.0\" x2=\"486.4999999999999\" y2=\"148.61354053978204\" stroke-linecap=\"round\" style=\"stroke:white;stroke-width:4\"/><line x1=\"486.4999999999999\" y1=\"148.61354053978204\" x2=\"320.0\" y2=\"437.0000000000001\" stroke-linecap=\"round\" style=\"stroke:white;stroke-width:4\"/>\n",
              "        \n",
              "      <g visibility=visible transform=\"rotate(30.0,320.0,437.0000000000001) translate(320.0, 437.0000000000001)\">\n",
              "        <circle stroke=\"white\" stroke-width=\"3\" fill=\"transparent\" r=\"12\" cx=\"0\" cy=\"0\"/>\n",
              "        <polygon points=\"0,19 3,16 -3,16\" style=\"fill:white;stroke:white;stroke-width:2\"/>\n",
              "      </g>\n",
              "    \n",
              "      </svg>\n",
              "    "
            ],
            "text/plain": [
              "<IPython.core.display.HTML object>"
            ]
          },
          "metadata": {
            "tags": []
          }
        },
        {
          "output_type": "stream",
          "text": [
            "L =  333\n",
            "Now drawing  5 -sided polygon\n"
          ],
          "name": "stdout"
        },
        {
          "output_type": "display_data",
          "data": {
            "text/html": [
              "\n",
              "      <svg width=\"800\" height=\"500\">\n",
              "        <rect width=\"100%\" height=\"100%\" fill=\"black\"/>\n",
              "        <line x1=\"320\" y1=\"437\" x2=\"520.0\" y2=\"437.0\" stroke-linecap=\"round\" style=\"stroke:yellow;stroke-width:4\"/><line x1=\"520.0\" y1=\"437.0\" x2=\"581.8033988749894\" y2=\"246.78869674096927\" stroke-linecap=\"round\" style=\"stroke:yellow;stroke-width:4\"/><line x1=\"581.8033988749894\" y1=\"246.78869674096927\" x2=\"419.9999999999999\" y2=\"129.23164628247468\" stroke-linecap=\"round\" style=\"stroke:yellow;stroke-width:4\"/><line x1=\"419.9999999999999\" y1=\"129.23164628247468\" x2=\"258.19660112501043\" y2=\"246.78869674096933\" stroke-linecap=\"round\" style=\"stroke:yellow;stroke-width:4\"/><line x1=\"258.19660112501043\" y1=\"246.78869674096933\" x2=\"319.99999999999994\" y2=\"437.0\" stroke-linecap=\"round\" style=\"stroke:yellow;stroke-width:4\"/>\n",
              "        \n",
              "      <g visibility=visible transform=\"rotate(-18.0,319.99999999999994,437.0) translate(319.99999999999994, 437.0)\">\n",
              "        <circle stroke=\"yellow\" stroke-width=\"3\" fill=\"transparent\" r=\"12\" cx=\"0\" cy=\"0\"/>\n",
              "        <polygon points=\"0,19 3,16 -3,16\" style=\"fill:yellow;stroke:yellow;stroke-width:2\"/>\n",
              "      </g>\n",
              "    \n",
              "      </svg>\n",
              "    "
            ],
            "text/plain": [
              "<IPython.core.display.HTML object>"
            ]
          },
          "metadata": {
            "tags": []
          }
        },
        {
          "output_type": "stream",
          "text": [
            "L =  200\n",
            "Now drawing  7 -sided polygon\n"
          ],
          "name": "stdout"
        },
        {
          "output_type": "display_data",
          "data": {
            "text/html": [
              "\n",
              "      <svg width=\"800\" height=\"500\">\n",
              "        <rect width=\"100%\" height=\"100%\" fill=\"black\"/>\n",
              "        <line x1=\"320\" y1=\"437\" x2=\"462.0\" y2=\"437.0\" stroke-linecap=\"round\" style=\"stroke:orange;stroke-width:4\"/><line x1=\"462.0\" y1=\"437.0\" x2=\"550.5355518639401\" y2=\"325.97992948953976\" stroke-linecap=\"round\" style=\"stroke:orange;stroke-width:4\"/><line x1=\"550.5355518639401\" y1=\"325.97992948953976\" x2=\"518.9375792421433\" y2=\"187.54016595972084\" stroke-linecap=\"round\" style=\"stroke:orange;stroke-width:4\"/><line x1=\"518.9375792421433\" y1=\"187.54016595972084\" x2=\"390.9999999999998\" y2=\"125.92867500502771\" stroke-linecap=\"round\" style=\"stroke:orange;stroke-width:4\"/><line x1=\"390.9999999999998\" y1=\"125.92867500502771\" x2=\"263.06242075785633\" y2=\"187.5401659597211\" stroke-linecap=\"round\" style=\"stroke:orange;stroke-width:4\"/><line x1=\"263.06242075785633\" y1=\"187.5401659597211\" x2=\"231.46444813605984\" y2=\"325.97992948954004\" stroke-linecap=\"round\" style=\"stroke:orange;stroke-width:4\"/><line x1=\"231.46444813605984\" y1=\"325.97992948954004\" x2=\"320.0000000000001\" y2=\"437.00000000000017\" stroke-linecap=\"round\" style=\"stroke:orange;stroke-width:4\"/>\n",
              "        \n",
              "      <g visibility=visible transform=\"rotate(-38.57142857142864,320.0000000000001,437.00000000000017) translate(320.0000000000001, 437.00000000000017)\">\n",
              "        <circle stroke=\"orange\" stroke-width=\"3\" fill=\"transparent\" r=\"12\" cx=\"0\" cy=\"0\"/>\n",
              "        <polygon points=\"0,19 3,16 -3,16\" style=\"fill:orange;stroke:orange;stroke-width:2\"/>\n",
              "      </g>\n",
              "    \n",
              "      </svg>\n",
              "    "
            ],
            "text/plain": [
              "<IPython.core.display.HTML object>"
            ]
          },
          "metadata": {
            "tags": []
          }
        },
        {
          "output_type": "stream",
          "text": [
            "L =  142\n",
            "Now drawing  9 -sided polygon\n"
          ],
          "name": "stdout"
        },
        {
          "output_type": "display_data",
          "data": {
            "text/html": [
              "\n",
              "      <svg width=\"800\" height=\"500\">\n",
              "        <rect width=\"100%\" height=\"100%\" fill=\"black\"/>\n",
              "        <line x1=\"320\" y1=\"437\" x2=\"431.0\" y2=\"437.0\" stroke-linecap=\"round\" style=\"stroke:red;stroke-width:4\"/><line x1=\"431.0\" y1=\"437.0\" x2=\"516.0309331862065\" y2=\"365.6505753247941\" stroke-linecap=\"round\" style=\"stroke:red;stroke-width:4\"/><line x1=\"516.0309331862065\" y1=\"365.6505753247941\" x2=\"535.3058809072357\" y2=\"256.336914740439\" stroke-linecap=\"round\" style=\"stroke:red;stroke-width:4\"/><line x1=\"535.3058809072357\" y1=\"256.336914740439\" x2=\"479.8058809072357\" y2=\"160.20809492036634\" stroke-linecap=\"round\" style=\"stroke:red;stroke-width:4\"/><line x1=\"479.8058809072357\" y1=\"160.20809492036634\" x2=\"375.4999999999999\" y2=\"122.24385901121711\" stroke-linecap=\"round\" style=\"stroke:red;stroke-width:4\"/><line x1=\"375.4999999999999\" y1=\"122.24385901121711\" x2=\"271.1941190927641\" y2=\"160.20809492036636\" stroke-linecap=\"round\" style=\"stroke:red;stroke-width:4\"/><line x1=\"271.1941190927641\" y1=\"160.20809492036636\" x2=\"215.6941190927641\" y2=\"256.33691474043906\" stroke-linecap=\"round\" style=\"stroke:red;stroke-width:4\"/><line x1=\"215.6941190927641\" y1=\"256.33691474043906\" x2=\"234.96906681379338\" y2=\"365.65057532479415\" stroke-linecap=\"round\" style=\"stroke:red;stroke-width:4\"/><line x1=\"234.96906681379338\" y1=\"365.65057532479415\" x2=\"319.99999999999994\" y2=\"437.0\" stroke-linecap=\"round\" style=\"stroke:red;stroke-width:4\"/>\n",
              "        \n",
              "      <g visibility=visible transform=\"rotate(-50.0,319.99999999999994,437.0) translate(319.99999999999994, 437.0)\">\n",
              "        <circle stroke=\"red\" stroke-width=\"3\" fill=\"transparent\" r=\"12\" cx=\"0\" cy=\"0\"/>\n",
              "        <polygon points=\"0,19 3,16 -3,16\" style=\"fill:red;stroke:red;stroke-width:2\"/>\n",
              "      </g>\n",
              "    \n",
              "      </svg>\n",
              "    "
            ],
            "text/plain": [
              "<IPython.core.display.HTML object>"
            ]
          },
          "metadata": {
            "tags": []
          }
        },
        {
          "output_type": "stream",
          "text": [
            "L =  111\n",
            "Now drawing  11 -sided polygon\n"
          ],
          "name": "stdout"
        },
        {
          "output_type": "display_data",
          "data": {
            "text/html": [
              "\n",
              "      <svg width=\"800\" height=\"500\">\n",
              "        <rect width=\"100%\" height=\"100%\" fill=\"black\"/>\n",
              "        <line x1=\"320\" y1=\"437\" x2=\"410.0\" y2=\"437.0\" stroke-linecap=\"round\" style=\"stroke:green;stroke-width:4\"/><line x1=\"410.0\" y1=\"437.0\" x2=\"485.71281795480627\" y2=\"388.34232642899616\" stroke-linecap=\"round\" style=\"stroke:green;stroke-width:4\"/><line x1=\"485.71281795480627\" y1=\"388.34232642899616\" x2=\"523.100169124976\" y2=\"306.4754468470895\" stroke-linecap=\"round\" style=\"stroke:green;stroke-width:4\"/><line x1=\"523.100169124976\" y1=\"306.4754468470895\" x2=\"510.29183368038025\" y2=\"217.39151707780553\" stroke-linecap=\"round\" style=\"stroke:green;stroke-width:4\"/><line x1=\"510.29183368038025\" y1=\"217.39151707780553\" x2=\"451.3543676253045\" y2=\"149.37405538592236\" stroke-linecap=\"round\" style=\"stroke:green;stroke-width:4\"/><line x1=\"451.3543676253045\" y1=\"149.37405538592236\" x2=\"364.9999999999997\" y2=\"124.01812527019375\" stroke-linecap=\"round\" style=\"stroke:green;stroke-width:4\"/><line x1=\"364.9999999999997\" y1=\"124.01812527019375\" x2=\"278.64563237469497\" y2=\"149.3740553859225\" stroke-linecap=\"round\" style=\"stroke:green;stroke-width:4\"/><line x1=\"278.64563237469497\" y1=\"149.3740553859225\" x2=\"219.70816631961935\" y2=\"217.39151707780576\" stroke-linecap=\"round\" style=\"stroke:green;stroke-width:4\"/><line x1=\"219.70816631961935\" y1=\"217.39151707780576\" x2=\"206.89983087502372\" y2=\"306.4754468470897\" stroke-linecap=\"round\" style=\"stroke:green;stroke-width:4\"/><line x1=\"206.89983087502372\" y1=\"306.4754468470897\" x2=\"244.28718204519353\" y2=\"388.34232642899633\" stroke-linecap=\"round\" style=\"stroke:green;stroke-width:4\"/><line x1=\"244.28718204519353\" y1=\"388.34232642899633\" x2=\"319.99999999999983\" y2=\"437.0000000000001\" stroke-linecap=\"round\" style=\"stroke:green;stroke-width:4\"/>\n",
              "        \n",
              "      <g visibility=visible transform=\"rotate(-57.27272727272729,319.99999999999983,437.0000000000001) translate(319.99999999999983, 437.0000000000001)\">\n",
              "        <circle stroke=\"green\" stroke-width=\"3\" fill=\"transparent\" r=\"12\" cx=\"0\" cy=\"0\"/>\n",
              "        <polygon points=\"0,19 3,16 -3,16\" style=\"fill:green;stroke:green;stroke-width:2\"/>\n",
              "      </g>\n",
              "    \n",
              "      </svg>\n",
              "    "
            ],
            "text/plain": [
              "<IPython.core.display.HTML object>"
            ]
          },
          "metadata": {
            "tags": []
          }
        },
        {
          "output_type": "stream",
          "text": [
            "L =  90\n",
            "Now drawing  13 -sided polygon\n"
          ],
          "name": "stdout"
        },
        {
          "output_type": "display_data",
          "data": {
            "text/html": [
              "\n",
              "      <svg width=\"800\" height=\"500\">\n",
              "        <rect width=\"100%\" height=\"100%\" fill=\"black\"/>\n",
              "        <line x1=\"320\" y1=\"437\" x2=\"396.0\" y2=\"437.0\" stroke-linecap=\"round\" style=\"stroke:blue;stroke-width:4\"/><line x1=\"396.0\" y1=\"437.0\" x2=\"463.294657949644\" y2=\"401.6810389246736\" stroke-linecap=\"round\" style=\"stroke:blue;stroke-width:4\"/><line x1=\"463.294657949644\" y1=\"401.6810389246736\" x2=\"506.46757870121183\" y2=\"339.1342651167557\" stroke-linecap=\"round\" style=\"stroke:blue;stroke-width:4\"/><line x1=\"506.46757870121183\" y1=\"339.1342651167557\" x2=\"515.6283664006164\" y2=\"263.6883906853036\" stroke-linecap=\"round\" style=\"stroke:blue;stroke-width:4\"/><line x1=\"515.6283664006164\" y1=\"263.6883906853036\" x2=\"488.67839498538376\" y2=\"192.62715624121205\" stroke-linecap=\"round\" style=\"stroke:blue;stroke-width:4\"/><line x1=\"488.67839498538376\" y1=\"192.62715624121205\" x2=\"431.7915781243801\" y2=\"142.22983421491156\" stroke-linecap=\"round\" style=\"stroke:blue;stroke-width:4\"/><line x1=\"431.7915781243801\" y1=\"142.22983421491156\" x2=\"358.0000000000002\" y2=\"124.04184372905706\" stroke-linecap=\"round\" style=\"stroke:blue;stroke-width:4\"/><line x1=\"358.0000000000002\" y1=\"124.04184372905706\" x2=\"284.2084218756203\" y2=\"142.22983421491136\" stroke-linecap=\"round\" style=\"stroke:blue;stroke-width:4\"/><line x1=\"284.2084218756203\" y1=\"142.22983421491136\" x2=\"227.3216050146165\" y2=\"192.6271562412117\" stroke-linecap=\"round\" style=\"stroke:blue;stroke-width:4\"/><line x1=\"227.3216050146165\" y1=\"192.6271562412117\" x2=\"200.37163359938364\" y2=\"263.6883906853032\" stroke-linecap=\"round\" style=\"stroke:blue;stroke-width:4\"/><line x1=\"200.37163359938364\" y1=\"263.6883906853032\" x2=\"209.53242129878805\" y2=\"339.13426511675533\" stroke-linecap=\"round\" style=\"stroke:blue;stroke-width:4\"/><line x1=\"209.53242129878805\" y1=\"339.13426511675533\" x2=\"252.7053420503558\" y2=\"401.6810389246733\" stroke-linecap=\"round\" style=\"stroke:blue;stroke-width:4\"/><line x1=\"252.7053420503558\" y1=\"401.6810389246733\" x2=\"319.99999999999966\" y2=\"436.99999999999983\" stroke-linecap=\"round\" style=\"stroke:blue;stroke-width:4\"/>\n",
              "        \n",
              "      <g visibility=visible transform=\"rotate(-62.30769230769221,319.99999999999966,436.99999999999983) translate(319.99999999999966, 436.99999999999983)\">\n",
              "        <circle stroke=\"blue\" stroke-width=\"3\" fill=\"transparent\" r=\"12\" cx=\"0\" cy=\"0\"/>\n",
              "        <polygon points=\"0,19 3,16 -3,16\" style=\"fill:blue;stroke:blue;stroke-width:2\"/>\n",
              "      </g>\n",
              "    \n",
              "      </svg>\n",
              "    "
            ],
            "text/plain": [
              "<IPython.core.display.HTML object>"
            ]
          },
          "metadata": {
            "tags": []
          }
        },
        {
          "output_type": "stream",
          "text": [
            "L =  76\n",
            "Now drawing  15 -sided polygon\n"
          ],
          "name": "stdout"
        },
        {
          "output_type": "display_data",
          "data": {
            "text/html": [
              "\n",
              "      <svg width=\"800\" height=\"500\">\n",
              "        <rect width=\"100%\" height=\"100%\" fill=\"black\"/>\n",
              "        <line x1=\"320\" y1=\"437\" x2=\"386.0\" y2=\"437.0\" stroke-linecap=\"round\" style=\"stroke:purple;stroke-width:4\"/><line x1=\"386.0\" y1=\"437.0\" x2=\"446.29400020441165\" y2=\"410.1553815569972\" stroke-linecap=\"round\" style=\"stroke:purple;stroke-width:4\"/><line x1=\"446.29400020441165\" y1=\"410.1553815569972\" x2=\"490.45662022409624\" y2=\"361.1078230754892\" stroke-linecap=\"round\" style=\"stroke:purple;stroke-width:4\"/><line x1=\"490.45662022409624\" y1=\"361.1078230754892\" x2=\"510.85174185284274\" y2=\"298.33809300000905\" stroke-linecap=\"round\" style=\"stroke:purple;stroke-width:4\"/><line x1=\"510.85174185284274\" y1=\"298.33809300000905\" x2=\"503.95286327717764\" y2=\"232.699647905703\" stroke-linecap=\"round\" style=\"stroke:purple;stroke-width:4\"/><line x1=\"503.95286327717764\" y1=\"232.699647905703\" x2=\"470.9528632771776\" y2=\"175.54197125593006\" stroke-linecap=\"round\" style=\"stroke:purple;stroke-width:4\"/><line x1=\"470.9528632771776\" y1=\"175.54197125593006\" x2=\"417.55774164843103\" y2=\"136.74814460462684\" stroke-linecap=\"round\" style=\"stroke:purple;stroke-width:4\"/><line x1=\"417.55774164843103\" y1=\"136.74814460462684\" x2=\"352.9999999999999\" y2=\"123.02597301065472\" stroke-linecap=\"round\" style=\"stroke:purple;stroke-width:4\"/><line x1=\"352.9999999999999\" y1=\"123.02597301065472\" x2=\"288.44225835156874\" y2=\"136.74814460462684\" stroke-linecap=\"round\" style=\"stroke:purple;stroke-width:4\"/><line x1=\"288.44225835156874\" y1=\"136.74814460462684\" x2=\"235.04713672282222\" y2=\"175.5419712559301\" stroke-linecap=\"round\" style=\"stroke:purple;stroke-width:4\"/><line x1=\"235.04713672282222\" y1=\"175.5419712559301\" x2=\"202.04713672282224\" y2=\"232.69964790570305\" stroke-linecap=\"round\" style=\"stroke:purple;stroke-width:4\"/><line x1=\"202.04713672282224\" y1=\"232.69964790570305\" x2=\"195.14825814715712\" y2=\"298.33809300000905\" stroke-linecap=\"round\" style=\"stroke:purple;stroke-width:4\"/><line x1=\"195.14825814715712\" y1=\"298.33809300000905\" x2=\"215.54337977590365\" y2=\"361.1078230754892\" stroke-linecap=\"round\" style=\"stroke:purple;stroke-width:4\"/><line x1=\"215.54337977590365\" y1=\"361.1078230754892\" x2=\"259.7059997955883\" y2=\"410.1553815569972\" stroke-linecap=\"round\" style=\"stroke:purple;stroke-width:4\"/><line x1=\"259.7059997955883\" y1=\"410.1553815569972\" x2=\"319.99999999999994\" y2=\"437.0\" stroke-linecap=\"round\" style=\"stroke:purple;stroke-width:4\"/>\n",
              "        \n",
              "      <g visibility=visible transform=\"rotate(-66.0,319.99999999999994,437.0) translate(319.99999999999994, 437.0)\">\n",
              "        <circle stroke=\"purple\" stroke-width=\"3\" fill=\"transparent\" r=\"12\" cx=\"0\" cy=\"0\"/>\n",
              "        <polygon points=\"0,19 3,16 -3,16\" style=\"fill:purple;stroke:purple;stroke-width:2\"/>\n",
              "      </g>\n",
              "    \n",
              "      </svg>\n",
              "    "
            ],
            "text/plain": [
              "<IPython.core.display.HTML object>"
            ]
          },
          "metadata": {
            "tags": []
          }
        },
        {
          "output_type": "stream",
          "text": [
            "L =  66\n",
            "Now drawing  50 -sided polygon\n"
          ],
          "name": "stdout"
        },
        {
          "output_type": "display_data",
          "data": {
            "text/html": [
              "\n",
              "      <svg width=\"800\" height=\"500\">\n",
              "        <rect width=\"100%\" height=\"100%\" fill=\"black\"/>\n",
              "        <line x1=\"320\" y1=\"437\" x2=\"340.0\" y2=\"437.0\" stroke-linecap=\"round\" style=\"stroke:grey;stroke-width:4\"/><line x1=\"340.0\" y1=\"437.0\" x2=\"359.84229402628955\" y2=\"434.4933353287139\" stroke-linecap=\"round\" style=\"stroke:grey;stroke-width:4\"/><line x1=\"359.84229402628955\" y1=\"434.4933353287139\" x2=\"379.2139572488622\" y2=\"429.5195375854168\" stroke-linecap=\"round\" style=\"stroke:grey;stroke-width:4\"/><line x1=\"379.2139572488622\" y1=\"429.5195375854168\" x2=\"397.8094869666272\" y2=\"422.15704653172327\" stroke-linecap=\"round\" style=\"stroke:grey;stroke-width:4\"/><line x1=\"397.8094869666272\" y1=\"422.15704653172327\" x2=\"415.3356205675045\" y2=\"412.521973049689\" stroke-linecap=\"round\" style=\"stroke:grey;stroke-width:4\"/><line x1=\"415.3356205675045\" y1=\"412.521973049689\" x2=\"431.5159604550035\" y2=\"400.76626800383957\" stroke-linecap=\"round\" style=\"stroke:grey;stroke-width:4\"/><line x1=\"431.5159604550035\" y1=\"400.76626800383957\" x2=\"446.09533300343173\" y2=\"387.07532588526584\" stroke-linecap=\"round\" style=\"stroke:grey;stroke-width:4\"/><line x1=\"446.09533300343173\" y1=\"387.07532588526584\" x2=\"458.84381279840557\" y2=\"371.66506102975006\" stroke-linecap=\"round\" style=\"stroke:grey;stroke-width:4\"/><line x1=\"458.84381279840557\" y1=\"371.66506102975006\" x2=\"469.56034869798555\" y2=\"354.7785025197098\" stroke-linecap=\"round\" style=\"stroke:grey;stroke-width:4\"/><line x1=\"469.56034869798555\" y1=\"354.7785025197098\" x2=\"478.07593452928705\" y2=\"336.6819614703894\" stroke-linecap=\"round\" style=\"stroke:grey;stroke-width:4\"/><line x1=\"478.07593452928705\" y1=\"336.6819614703894\" x2=\"484.256274416786\" y2=\"317.66083114448634\" stroke-linecap=\"round\" style=\"stroke:grey;stroke-width:4\"/><line x1=\"484.256274416786\" y1=\"317.66083114448634\" x2=\"488.00390070850057\" y2=\"298.01508612991256\" stroke-linecap=\"round\" style=\"stroke:grey;stroke-width:4\"/><line x1=\"488.00390070850057\" y1=\"298.01508612991256\" x2=\"489.25971109908687\" y2=\"278.0545515613471\" stroke-linecap=\"round\" style=\"stroke:grey;stroke-width:4\"/><line x1=\"489.25971109908687\" y1=\"278.0545515613471\" x2=\"488.0039007085007\" y2=\"258.0940169927817\" stroke-linecap=\"round\" style=\"stroke:grey;stroke-width:4\"/><line x1=\"488.0039007085007\" y1=\"258.0940169927817\" x2=\"484.25627441678625\" y2=\"238.4482719782079\" stroke-linecap=\"round\" style=\"stroke:grey;stroke-width:4\"/><line x1=\"484.25627441678625\" y1=\"238.4482719782079\" x2=\"478.07593452928734\" y2=\"219.42714165230484\" stroke-linecap=\"round\" style=\"stroke:grey;stroke-width:4\"/><line x1=\"478.07593452928734\" y1=\"219.42714165230484\" x2=\"469.56034869798594\" y2=\"201.33060060298442\" stroke-linecap=\"round\" style=\"stroke:grey;stroke-width:4\"/><line x1=\"469.56034869798594\" y1=\"201.33060060298442\" x2=\"458.8438127984061\" y2=\"184.44404209294407\" stroke-linecap=\"round\" style=\"stroke:grey;stroke-width:4\"/><line x1=\"458.8438127984061\" y1=\"184.44404209294407\" x2=\"446.09533300343236\" y2=\"169.03377723742824\" stroke-linecap=\"round\" style=\"stroke:grey;stroke-width:4\"/><line x1=\"446.09533300343236\" y1=\"169.03377723742824\" x2=\"431.5159604550042\" y2=\"155.34283511885442\" stroke-linecap=\"round\" style=\"stroke:grey;stroke-width:4\"/><line x1=\"431.5159604550042\" y1=\"155.34283511885442\" x2=\"415.33562056750526\" y2=\"143.58713007300491\" stroke-linecap=\"round\" style=\"stroke:grey;stroke-width:4\"/><line x1=\"415.33562056750526\" y1=\"143.58713007300491\" x2=\"397.809486966628\" y2=\"133.95205659097053\" stroke-linecap=\"round\" style=\"stroke:grey;stroke-width:4\"/><line x1=\"397.809486966628\" y1=\"133.95205659097053\" x2=\"379.21395724886304\" y2=\"126.58956553727688\" stroke-linecap=\"round\" style=\"stroke:grey;stroke-width:4\"/><line x1=\"379.21395724886304\" y1=\"126.58956553727688\" x2=\"359.84229402629046\" y2=\"121.6157677939797\" stroke-linecap=\"round\" style=\"stroke:grey;stroke-width:4\"/><line x1=\"359.84229402629046\" y1=\"121.6157677939797\" x2=\"340.0000000000009\" y2=\"119.10910312269353\" stroke-linecap=\"round\" style=\"stroke:grey;stroke-width:4\"/><line x1=\"340.0000000000009\" y1=\"119.10910312269353\" x2=\"320.0000000000009\" y2=\"119.10910312269343\" stroke-linecap=\"round\" style=\"stroke:grey;stroke-width:4\"/><line x1=\"320.0000000000009\" y1=\"119.10910312269343\" x2=\"300.15770597371136\" y2=\"121.61576779397942\" stroke-linecap=\"round\" style=\"stroke:grey;stroke-width:4\"/><line x1=\"300.15770597371136\" y1=\"121.61576779397942\" x2=\"280.7860427511387\" y2=\"126.58956553727641\" stroke-linecap=\"round\" style=\"stroke:grey;stroke-width:4\"/><line x1=\"280.7860427511387\" y1=\"126.58956553727641\" x2=\"262.19051303337363\" y2=\"133.95205659096987\" stroke-linecap=\"round\" style=\"stroke:grey;stroke-width:4\"/><line x1=\"262.19051303337363\" y1=\"133.95205659096987\" x2=\"244.6643794324963\" y2=\"143.5871300730041\" stroke-linecap=\"round\" style=\"stroke:grey;stroke-width:4\"/><line x1=\"244.6643794324963\" y1=\"143.5871300730041\" x2=\"228.48403954499727\" y2=\"155.34283511885346\" stroke-linecap=\"round\" style=\"stroke:grey;stroke-width:4\"/><line x1=\"228.48403954499727\" y1=\"155.34283511885346\" x2=\"213.90466699656895\" y2=\"169.03377723742713\" stroke-linecap=\"round\" style=\"stroke:grey;stroke-width:4\"/><line x1=\"213.90466699656895\" y1=\"169.03377723742713\" x2=\"201.15618720159506\" y2=\"184.44404209294282\" stroke-linecap=\"round\" style=\"stroke:grey;stroke-width:4\"/><line x1=\"201.15618720159506\" y1=\"184.44404209294282\" x2=\"190.43965130201502\" y2=\"201.33060060298305\" stroke-linecap=\"round\" style=\"stroke:grey;stroke-width:4\"/><line x1=\"190.43965130201502\" y1=\"201.33060060298305\" x2=\"181.92406547071346\" y2=\"219.4271416523034\" stroke-linecap=\"round\" style=\"stroke:grey;stroke-width:4\"/><line x1=\"181.92406547071346\" y1=\"219.4271416523034\" x2=\"175.7437255832144\" y2=\"238.44827197820644\" stroke-linecap=\"round\" style=\"stroke:grey;stroke-width:4\"/><line x1=\"175.7437255832144\" y1=\"238.44827197820644\" x2=\"171.99609929149977\" y2=\"258.0940169927802\" stroke-linecap=\"round\" style=\"stroke:grey;stroke-width:4\"/><line x1=\"171.99609929149977\" y1=\"258.0940169927802\" x2=\"170.74028890091338\" y2=\"278.05455156134565\" stroke-linecap=\"round\" style=\"stroke:grey;stroke-width:4\"/><line x1=\"170.74028890091338\" y1=\"278.05455156134565\" x2=\"171.99609929149952\" y2=\"298.0150861299111\" stroke-linecap=\"round\" style=\"stroke:grey;stroke-width:4\"/><line x1=\"171.99609929149952\" y1=\"298.0150861299111\" x2=\"175.7437255832139\" y2=\"317.66083114448486\" stroke-linecap=\"round\" style=\"stroke:grey;stroke-width:4\"/><line x1=\"175.7437255832139\" y1=\"317.66083114448486\" x2=\"181.92406547071272\" y2=\"336.681961470388\" stroke-linecap=\"round\" style=\"stroke:grey;stroke-width:4\"/><line x1=\"181.92406547071272\" y1=\"336.681961470388\" x2=\"190.43965130201406\" y2=\"354.7785025197084\" stroke-linecap=\"round\" style=\"stroke:grey;stroke-width:4\"/><line x1=\"190.43965130201406\" y1=\"354.7785025197084\" x2=\"201.1561872015939\" y2=\"371.66506102974876\" stroke-linecap=\"round\" style=\"stroke:grey;stroke-width:4\"/><line x1=\"201.1561872015939\" y1=\"371.66506102974876\" x2=\"213.9046669965676\" y2=\"387.0753258852646\" stroke-linecap=\"round\" style=\"stroke:grey;stroke-width:4\"/><line x1=\"213.9046669965676\" y1=\"387.0753258852646\" x2=\"228.48403954499577\" y2=\"400.76626800383843\" stroke-linecap=\"round\" style=\"stroke:grey;stroke-width:4\"/><line x1=\"228.48403954499577\" y1=\"400.76626800383843\" x2=\"244.66437943249466\" y2=\"412.521973049688\" stroke-linecap=\"round\" style=\"stroke:grey;stroke-width:4\"/><line x1=\"244.66437943249466\" y1=\"412.521973049688\" x2=\"262.1905130333719\" y2=\"422.15704653172236\" stroke-linecap=\"round\" style=\"stroke:grey;stroke-width:4\"/><line x1=\"262.1905130333719\" y1=\"422.15704653172236\" x2=\"280.78604275113685\" y2=\"429.519537585416\" stroke-linecap=\"round\" style=\"stroke:grey;stroke-width:4\"/><line x1=\"280.78604275113685\" y1=\"429.519537585416\" x2=\"300.1577059737094\" y2=\"434.4933353287132\" stroke-linecap=\"round\" style=\"stroke:grey;stroke-width:4\"/><line x1=\"300.1577059737094\" y1=\"434.4933353287132\" x2=\"319.999999999999\" y2=\"436.99999999999943\" stroke-linecap=\"round\" style=\"stroke:grey;stroke-width:4\"/>\n",
              "        \n",
              "      <g visibility=visible transform=\"rotate(-82.79999999999967,319.999999999999,436.99999999999943) translate(319.999999999999, 436.99999999999943)\">\n",
              "        <circle stroke=\"grey\" stroke-width=\"3\" fill=\"transparent\" r=\"12\" cx=\"0\" cy=\"0\"/>\n",
              "        <polygon points=\"0,19 3,16 -3,16\" style=\"fill:grey;stroke:grey;stroke-width:2\"/>\n",
              "      </g>\n",
              "    \n",
              "      </svg>\n",
              "    "
            ],
            "text/plain": [
              "<IPython.core.display.HTML object>"
            ]
          },
          "metadata": {
            "tags": []
          }
        },
        {
          "output_type": "stream",
          "text": [
            "L =  20\n"
          ],
          "name": "stdout"
        }
      ]
    },
    {
      "cell_type": "code",
      "metadata": {
        "id": "uiAIM4tFAcUF"
      },
      "source": [
        ""
      ],
      "execution_count": 29,
      "outputs": []
    },
    {
      "cell_type": "markdown",
      "metadata": {
        "id": "iKuvJAYCNYd_"
      },
      "source": [
        "## Draw a colorful spiral"
      ]
    },
    {
      "cell_type": "code",
      "metadata": {
        "id": "MVJ7lYOx4McW",
        "outputId": "540c5bd9-08d3-418b-b3be-00ef2343305d",
        "colab": {
          "base_uri": "https://localhost:8080/",
          "height": 620
        }
      },
      "source": [
        "import numpy as np\n",
        "import random\n",
        "PEN_COLORS = ('white', 'yellow', 'orange', 'red', 'green', 'blue', 'purple', 'grey')\n",
        "pen_color = 'purple'\n",
        "ww = 800\n",
        "wh = 600\n",
        "WINDOW_SIZE = (ww, wh)\n",
        "# let's name our pen as Alex\n",
        "alex = ColabTurtle.Turtle\n",
        "alex.initializeTurtle(initial_window_size=WINDOW_SIZE)\n",
        "# move the pen to the left and lower place\n",
        "alex.penup()\n",
        "alex.goto(int(ww*1/2),int(wh*1/2))\n",
        "alex.pendown()\n",
        "alex.speed(7)\n",
        "alex.color(pen_color)\n",
        "\n",
        "random.seed()\n",
        "N = 256\n",
        "for n in np.arange(N):\n",
        "  color_rn = random.randrange(8)\n",
        "  alex.color(PEN_COLORS[color_rn])\n",
        "  angle_rn = 51 #53 #67#random.randrange(180) #change angle to get different patterns\n",
        "  alex.right(angle_rn)\n",
        "  length_rn = int(20+n) #random.randrange(60) # change length increment\n",
        "  alex.forward(length_rn)\n"
      ],
      "execution_count": 29,
      "outputs": [
        {
          "output_type": "display_data",
          "data": {
            "text/html": [
              "\n",
              "      <svg width=\"800\" height=\"600\">\n",
              "        <rect width=\"100%\" height=\"100%\" fill=\"black\"/>\n",
              "        <line x1=\"400\" y1=\"300\" x2=\"415.5429192291394\" y2=\"287.4135921790032\" stroke-linecap=\"round\" style=\"stroke:grey;stroke-width:4\"/><line x1=\"415.5429192291394\" y1=\"287.4135921790032\" x2=\"436.0840188445493\" y2=\"291.7797376861762\" stroke-linecap=\"round\" style=\"stroke:purple;stroke-width:4\"/><line x1=\"436.0840188445493\" y1=\"291.7797376861762\" x2=\"446.0718098388193\" y2=\"311.3818812183203\" stroke-linecap=\"round\" style=\"stroke:green;stroke-width:4\"/><line x1=\"446.0718098388193\" y1=\"311.3818812183203\" x2=\"436.7168670480759\" y2=\"332.3934267441001\" stroke-linecap=\"round\" style=\"stroke:orange;stroke-width:4\"/><line x1=\"436.7168670480759\" y1=\"332.3934267441001\" x2=\"413.5346472171383\" y2=\"338.60508382656064\" stroke-linecap=\"round\" style=\"stroke:grey;stroke-width:4\"/><line x1=\"413.5346472171383\" y1=\"338.60508382656064\" x2=\"393.3092223577646\" y2=\"323.9104525192488\" stroke-linecap=\"round\" style=\"stroke:grey;stroke-width:4\"/><line x1=\"393.3092223577646\" y1=\"323.9104525192488\" x2=\"391.94848749544803\" y2=\"297.94608461562984\" stroke-linecap=\"round\" style=\"stroke:white;stroke-width:4\"/><line x1=\"391.94848749544803\" y1=\"297.94608461562984\" x2=\"412.01339778333767\" y2=\"279.87955824394066\" stroke-linecap=\"round\" style=\"stroke:blue;stroke-width:4\"/><line x1=\"412.01339778333767\" y1=\"279.87955824394066\" x2=\"439.6686713200015\" y2=\"284.2597232650671\" stroke-linecap=\"round\" style=\"stroke:white;stroke-width:4\"/><line x1=\"439.6686713200015\" y1=\"284.2597232650671\" x2=\"454.1686713200015\" y2=\"309.37445997481586\" stroke-linecap=\"round\" style=\"stroke:purple;stroke-width:4\"/><line x1=\"454.1686713200015\" y1=\"309.37445997481586\" x2=\"443.41763283364253\" y2=\"337.3818727697319\" stroke-linecap=\"round\" style=\"stroke:green;stroke-width:4\"/><line x1=\"443.41763283364253\" y1=\"337.3818727697319\" x2=\"413.9348808284928\" y2=\"346.96139959535526\" stroke-linecap=\"round\" style=\"stroke:purple;stroke-width:4\"/><line x1=\"413.9348808284928\" y1=\"346.96139959535526\" x2=\"387.0974226542392\" y2=\"329.5329504748744\" stroke-linecap=\"round\" style=\"stroke:grey;stroke-width:4\"/><line x1=\"387.0974226542392\" y1=\"329.5329504748744\" x2=\"383.64798336640666\" y2=\"296.7137279277214\" stroke-linecap=\"round\" style=\"stroke:green;stroke-width:4\"/><line x1=\"383.64798336640666\" y1=\"296.7137279277214\" x2=\"407.6896139267493\" y2=\"272.67209736737874\" stroke-linecap=\"round\" style=\"stroke:red;stroke-width:4\"/><line x1=\"407.6896139267493\" y1=\"272.67209736737874\" x2=\"442.49788026463887\" y2=\"276.3305935817466\" stroke-linecap=\"round\" style=\"stroke:grey;stroke-width:4\"/><line x1=\"442.49788026463887\" y1=\"276.3305935817466\" x2=\"462.10488552517984\" y2=\"306.5227340277819\" stroke-linecap=\"round\" style=\"stroke:red;stroke-width:4\"/><line x1=\"462.10488552517984\" y1=\"306.5227340277819\" x2=\"450.6712567333068\" y2=\"341.71182513070255\" stroke-linecap=\"round\" style=\"stroke:grey;stroke-width:4\"/><line x1=\"450.6712567333068\" y1=\"341.71182513070255\" x2=\"415.19520052641315\" y2=\"355.329807213424\" stroke-linecap=\"round\" style=\"stroke:green;stroke-width:4\"/><line x1=\"415.19520052641315\" y1=\"355.329807213424\" x2=\"381.42020977882004\" y2=\"335.829807213424\" stroke-linecap=\"round\" style=\"stroke:red;stroke-width:4\"/><line x1=\"381.42020977882004\" y1=\"335.829807213424\" x2=\"375.1628311772108\" y2=\"296.3222735896185\" stroke-linecap=\"round\" style=\"stroke:orange;stroke-width:4\"/><line x1=\"375.1628311772108\" y1=\"296.3222735896185\" x2=\"402.59718603792396\" y2=\"265.8533357450453\" stroke-linecap=\"round\" style=\"stroke:purple;stroke-width:4\"/><line x1=\"402.59718603792396\" y1=\"265.8533357450453\" x2=\"444.53962649761604\" y2=\"268.05144590724893\" stroke-linecap=\"round\" style=\"stroke:red;stroke-width:4\"/><line x1=\"444.53962649761604\" y1=\"268.05144590724893\" x2=\"469.8143923461924\" y2=\"302.83917666537167\" stroke-linecap=\"round\" style=\"stroke:blue;stroke-width:4\"/><line x1=\"469.8143923461924\" y1=\"302.83917666537167\" x2=\"458.4263543616815\" y2=\"345.3399130220907\" stroke-linecap=\"round\" style=\"stroke:grey;stroke-width:4\"/><line x1=\"458.4263543616815\" y1=\"345.3399130220907\" x2=\"417.3168087677644\" y2=\"363.6430619605017\" stroke-linecap=\"round\" style=\"stroke:white;stroke-width:4\"/><line x1=\"417.3168087677644\" y1=\"363.6430619605017\" x2=\"376.3305086550995\" y2=\"342.75949897248256\" stroke-linecap=\"round\" style=\"stroke:purple;stroke-width:4\"/><line x1=\"376.3305086550995\" y1=\"342.75949897248256\" x2=\"366.5586591866648\" y2=\"296.7865617379937\" stroke-linecap=\"round\" style=\"stroke:yellow;stroke-width:4\"/><line x1=\"366.5586591866648\" y1=\"296.7865617379937\" x2=\"396.766037957057\" y2=\"259.48355558805906\" stroke-linecap=\"round\" style=\"stroke:blue;stroke-width:4\"/><line x1=\"396.766037957057\" y1=\"259.48355558805906\" x2=\"445.766037957057\" y2=\"259.48355558805906\" stroke-linecap=\"round\" style=\"stroke:blue;stroke-width:4\"/><line x1=\"445.766037957057\" y1=\"259.48355558805906\" x2=\"477.2320575095489\" y2=\"298.3408536609076\" stroke-linecap=\"round\" style=\"stroke:red;stroke-width:4\"/><line x1=\"477.2320575095489\" y1=\"298.3408536609076\" x2=\"466.6285612778432\" y2=\"348.2263812983317\" stroke-linecap=\"round\" style=\"stroke:purple;stroke-width:4\"/><line x1=\"466.6285612778432\" y1=\"348.2263812983317\" x2=\"420.29622202004805\" y2=\"371.83388728478815\" stroke-linecap=\"round\" style=\"stroke:white;stroke-width:4\"/><line x1=\"420.29622202004805\" y1=\"371.83388728478815\" x2=\"371.8783127649902\" y2=\"350.27684520177075\" stroke-linecap=\"round\" style=\"stroke:green;stroke-width:4\"/><line x1=\"371.8783127649902\" y1=\"350.27684520177075\" x2=\"357.90208432945406\" y2=\"298.1168505821611\" stroke-linecap=\"round\" style=\"stroke:purple;stroke-width:4\"/><line x1=\"357.90208432945406\" y1=\"298.1168505821611\" x2=\"390.2302732055401\" y2=\"253.62091589153897\" stroke-linecap=\"round\" style=\"stroke:yellow;stroke-width:4\"/><line x1=\"390.2302732055401\" y1=\"253.62091589153897\" x2=\"446.1535271517962\" y2=\"250.69010234193408\" stroke-linecap=\"round\" style=\"stroke:grey;stroke-width:4\"/><line x1=\"446.1535271517962\" y1=\"250.69010234193408\" x2=\"484.29397171425114\" y2=\"293.04935739414555\" stroke-linecap=\"round\" style=\"stroke:blue;stroke-width:4\"/><line x1=\"484.29397171425114\" y1=\"293.04935739414555\" x2=\"475.22077274191776\" y2=\"350.3352811486635\" stroke-linecap=\"round\" style=\"stroke:purple;stroke-width:4\"/><line x1=\"475.22077274191776\" y1=\"350.3352811486635\" x2=\"424.12527391863586\" y2=\"379.8352811486635\" stroke-linecap=\"round\" style=\"stroke:red;stroke-width:4\"/><line x1=\"424.12527391863586\" y1=\"379.8352811486635\" x2=\"368.1104483288037\" y2=\"358.33320417594547\" stroke-linecap=\"round\" style=\"stroke:grey;stroke-width:4\"/><line x1=\"368.1104483288037\" y1=\"358.33320417594547\" x2=\"349.26041167193193\" y2=\"300.3187566819411\" stroke-linecap=\"round\" style=\"stroke:green;stroke-width:4\"/><line x1=\"349.26041167193193\" y1=\"300.3187566819411\" x2=\"383.0280318428636\" y2=\"248.3211814693248\" stroke-linecap=\"round\" style=\"stroke:orange;stroke-width:4\"/><line x1=\"383.0280318428636\" y1=\"248.3211814693248\" x2=\"445.6829112510648\" y2=\"241.73588828346266\" stroke-linecap=\"round\" style=\"stroke:orange;stroke-width:4\"/><line x1=\"445.6829112510648\" y1=\"241.73588828346266\" x2=\"490.9377452470039\" y2=\"286.99072227940167\" stroke-linecap=\"round\" style=\"stroke:orange;stroke-width:4\"/><line x1=\"490.9377452470039\" y1=\"286.99072227940167\" x2=\"484.1433951346064\" y2=\"351.63464547833945\" stroke-linecap=\"round\" style=\"stroke:green;stroke-width:4\"/><line x1=\"484.1433951346064\" y1=\"351.63464547833945\" x2=\"428.79113765020844\" y2=\"387.58082178933125\" stroke-linecap=\"round\" style=\"stroke:purple;stroke-width:4\"/><line x1=\"428.79113765020844\" y1=\"387.58082178933125\" x2=\"365.0703510584332\" y2=\"366.8766831662098\" stroke-linecap=\"round\" style=\"stroke:orange;stroke-width:4\"/><line x1=\"365.0703510584332\" y1=\"366.8766831662098\" x2=\"340.7013304893527\" y2=\"303.3932141644001\" stroke-linecap=\"round\" style=\"stroke:orange;stroke-width:4\"/><line x1=\"340.7013304893527\" y1=\"303.3932141644001\" x2=\"375.2013304893527\" y2=\"243.63746130327382\" stroke-linecap=\"round\" style=\"stroke:orange;stroke-width:4\"/><line x1=\"375.2013304893527\" y1=\"243.63746130327382\" x2=\"444.3395143310123\" y2=\"232.68704875045765\" stroke-linecap=\"round\" style=\"stroke:orange;stroke-width:4\"/><line x1=\"444.3395143310123\" y1=\"232.68704875045765\" x2=\"497.1027969399073\" y2=\"280.1953218019366\" stroke-linecap=\"round\" style=\"stroke:yellow;stroke-width:4\"/><line x1=\"497.1027969399073\" y1=\"280.1953218019366\" x2=\"493.3346080904154\" y2=\"352.0966483042659\" stroke-linecap=\"round\" style=\"stroke:blue;stroke-width:4\"/><line x1=\"493.3346080904154\" y1=\"352.0966483042659\" x2=\"434.2763675010442\" y2=\"395.00497172161647\" stroke-linecap=\"round\" style=\"stroke:white;stroke-width:4\"/><line x1=\"434.2763675010442\" y1=\"395.00497172161647\" x2=\"362.79785635565315\" y2=\"375.8523623840299\" stroke-linecap=\"round\" style=\"stroke:orange;stroke-width:4\"/><line x1=\"362.79785635565315\" y1=\"375.8523623840299\" x2=\"332.2926081249681\" y2=\"307.33645306083486\" stroke-linecap=\"round\" style=\"stroke:purple;stroke-width:4\"/><line x1=\"332.2926081249681\" y1=\"307.33645306083486\" x2=\"366.7958861051737\" y2=\"239.6199572225189\" stroke-linecap=\"round\" style=\"stroke:orange;stroke-width:4\"/><line x1=\"366.7958861051737\" y1=\"239.6199572225189\" x2=\"442.1132513616767\" y2=\"223.6107570295514\" stroke-linecap=\"round\" style=\"stroke:grey;stroke-width:4\"/><line x1=\"442.1132513616767\" y1=\"223.6107570295514\" x2=\"502.7306363553204\" y2=\"272.6977475314387\" stroke-linecap=\"round\" style=\"stroke:purple;stroke-width:4\"/><line x1=\"502.7306363553204\" y1=\"272.6977475314387\" x2=\"502.7306363553204\" y2=\"351.6977475314387\" stroke-linecap=\"round\" style=\"stroke:purple;stroke-width:4\"/><line x1=\"502.7306363553204\" y1=\"351.6977475314387\" x2=\"440.55895943876277\" y2=\"402.04337881542574\" stroke-linecap=\"round\" style=\"stroke:orange;stroke-width:4\"/><line x1=\"440.55895943876277\" y1=\"402.04337881542574\" x2=\"361.3290037793245\" y2=\"385.2025318591872\" stroke-linecap=\"round\" style=\"stroke:green;stroke-width:4\"/><line x1=\"361.3290037793245\" y1=\"385.2025318591872\" x2=\"324.1017828006817\" y2=\"312.1399968757411\" stroke-linecap=\"round\" style=\"stroke:blue;stroke-width:4\"/><line x1=\"324.1017828006817\" y1=\"312.1399968757411\" x2=\"357.8609241759731\" y2=\"236.31572389140518\" stroke-linecap=\"round\" style=\"stroke:grey;stroke-width:4\"/><line x1=\"357.8609241759731\" y1=\"236.31572389140518\" x2=\"438.99869358425485\" y2=\"214.57492410279343\" stroke-linecap=\"round\" style=\"stroke:yellow;stroke-width:4\"/><line x1=\"438.99869358425485\" y1=\"214.57492410279343\" x2=\"507.7651381061254\" y2=\"264.53667054765367\" stroke-linecap=\"round\" style=\"stroke:grey;stroke-width:4\"/><line x1=\"507.7651381061254\" y1=\"264.53667054765367\" x2=\"512.2660303430185\" y2=\"350.418810536547\" stroke-linecap=\"round\" style=\"stroke:green;stroke-width:4\"/><line x1=\"512.2660303430185\" y1=\"350.418810536547\" x2=\"447.61243052648524\" y2=\"408.6331732897677\" stroke-linecap=\"round\" style=\"stroke:white;stroke-width:4\"/><line x1=\"447.61243052648524\" y1=\"408.6331732897677\" x2=\"360.6958565541131\" y2=\"394.86694036622737\" stroke-linecap=\"round\" style=\"stroke:purple;stroke-width:4\"/><line x1=\"360.6958565541131\" y1=\"394.86694036622737\" x2=\"316.19585655411305\" y2=\"317.79067942941236\" stroke-linecap=\"round\" style=\"stroke:red;stroke-width:4\"/><line x1=\"316.19585655411305\" y1=\"317.79067942941236\" x2=\"348.4489720131901\" y2=\"233.7684410446642\" stroke-linecap=\"round\" style=\"stroke:grey;stroke-width:4\"/><line x1=\"348.4489720131901\" y1=\"233.7684410446642\" x2=\"434.99511499604904\" y2=\"205.64789455654397\" stroke-linecap=\"round\" style=\"stroke:blue;stroke-width:4\"/><line x1=\"434.99511499604904\" y1=\"205.64789455654397\" x2=\"512.152807247028\" y2=\"255.75468577792645\" stroke-linecap=\"round\" style=\"stroke:grey;stroke-width:4\"/><line x1=\"512.152807247028\" y1=\"255.75468577792645\" x2=\"521.8739543309198\" y2=\"348.24522204717584\" stroke-linecap=\"round\" style=\"stroke:blue;stroke-width:4\"/><line x1=\"521.8739543309198\" y1=\"348.24522204717584\" x2=\"455.40591689938435\" y2=\"414.71325947871134\" stroke-linecap=\"round\" style=\"stroke:grey;stroke-width:4\"/><line x1=\"455.40591689938435\" y1=\"414.71325947871134\" x2=\"360.9263368393984\" y2=\"404.78305546828426\" stroke-linecap=\"round\" style=\"stroke:red;stroke-width:4\"/><line x1=\"360.9263368393984\" y1=\"404.78305546828426\" x2=\"308.6409894779558\" y2=\"324.27068094552357\" stroke-linecap=\"round\" style=\"stroke:white;stroke-width:4\"/><line x1=\"308.6409894779558\" y1=\"324.27068094552357\" x2=\"338.6156379323257\" y2=\"232.01819886489366\" stroke-linecap=\"round\" style=\"stroke:yellow;stroke-width:4\"/><line x1=\"338.6156379323257\" y1=\"232.01819886489366\" x2=\"430.10651972905146\" y2=\"196.8981398094542\" stroke-linecap=\"round\" style=\"stroke:green;stroke-width:4\"/><line x1=\"430.10651972905146\" y1=\"196.8981398094542\" x2=\"515.8430347037108\" y2=\"246.3981398094542\" stroke-linecap=\"round\" style=\"stroke:yellow;stroke-width:4\"/><line x1=\"515.8430347037108\" y1=\"246.3981398094542\" x2=\"531.486481207734\" y2=\"345.16697386896794\" stroke-linecap=\"round\" style=\"stroke:grey;stroke-width:4\"/><line x1=\"531.486481207734\" y1=\"345.16697386896794\" x2=\"463.9042899654893\" y2=\"420.22460124218475\" stroke-linecap=\"round\" style=\"stroke:orange;stroke-width:4\"/><line x1=\"463.9042899654893\" y1=\"420.22460124218475\" x2=\"362.04407742052274\" y2=\"414.8863337054045\" stroke-linecap=\"round\" style=\"stroke:grey;stroke-width:4\"/><line x1=\"362.04407742052274\" y1=\"414.8863337054045\" x2=\"301.502196434398\" y2=\"331.557583284785\" stroke-linecap=\"round\" style=\"stroke:blue;stroke-width:4\"/><line x1=\"301.502196434398\" y1=\"331.557583284785\" x2=\"328.4193771250601\" y2=\"231.10129735072186\" stroke-linecap=\"round\" style=\"stroke:green;stroke-width:4\"/><line x1=\"328.4193771250601\" y1=\"231.10129735072186\" x2=\"424.3416501775332\" y2=\"188.39394982776284\" stroke-linecap=\"round\" style=\"stroke:blue;stroke-width:4\"/><line x1=\"424.3416501775332\" y1=\"188.39394982776284\" x2=\"518.7883417415002\" y2=\"236.5169428001548\" stroke-linecap=\"round\" style=\"stroke:red;stroke-width:4\"/><line x1=\"518.7883417415002\" y1=\"236.5169428001548\" x2=\"541.0348926590004\" y2=\"341.178736078672\" stroke-linecap=\"round\" style=\"stroke:grey;stroke-width:4\"/><line x1=\"541.0348926590004\" y1=\"341.178736078672\" x2=\"473.068290425618\" y2=\"425.1104999160249\" stroke-linecap=\"round\" style=\"stroke:white;stroke-width:4\"/><line x1=\"473.068290425618\" y1=\"425.1104999160249\" x2=\"364.068290425618\" y2=\"425.1104999160249\" stroke-linecap=\"round\" style=\"stroke:blue;stroke-width:4\"/><line x1=\"364.068290425618\" y1=\"425.1104999160249\" x2=\"294.8430474101358\" y2=\"339.6244441557581\" stroke-linecap=\"round\" style=\"stroke:purple;stroke-width:4\"/><line x1=\"294.8430474101358\" y1=\"339.6244441557581\" x2=\"317.92124509090706\" y2=\"231.0500604743057\" stroke-linecap=\"round\" style=\"stroke:green;stroke-width:4\"/><line x1=\"317.92124509090706\" y1=\"231.0500604743057\" x2=\"417.7139758000043\" y2=\"180.20312450347643\" stroke-linecap=\"round\" style=\"stroke:grey;stroke-width:4\"/><line x1=\"417.7139758000043\" y1=\"180.20312450347643\" x2=\"520.9446125136182\" y2=\"226.16436517104185\" stroke-linecap=\"round\" style=\"stroke:orange;stroke-width:4\"/><line x1=\"520.9446125136182\" y1=\"226.16436517104185\" x2=\"550.4499836553055\" y2=\"336.27990936799563\" stroke-linecap=\"round\" style=\"stroke:purple;stroke-width:4\"/><line x1=\"550.4499836553055\" y1=\"336.27990936799563\" x2=\"482.85467964167105\" y2=\"429.3168637211146\" stroke-linecap=\"round\" style=\"stroke:green;stroke-width:4\"/><line x1=\"482.85467964167105\" y1=\"429.3168637211146\" x2=\"367.0136536101405\" y2=\"435.3878346452961\" stroke-linecap=\"round\" style=\"stroke:white;stroke-width:4\"/><line x1=\"367.0136536101405\" y1=\"435.3878346452961\" x2=\"288.7253726661541\" y2=\"348.439890064441\" stroke-linecap=\"round\" style=\"stroke:green;stroke-width:4\"/><line x1=\"288.7253726661541\" y1=\"348.439890064441\" x2=\"307.18463954090134\" y2=\"231.89266587421474\" stroke-linecap=\"round\" style=\"stroke:white;stroke-width:4\"/><line x1=\"307.18463954090134\" y1=\"231.89266587421474\" x2=\"410.2416625912495\" y2=\"172.39266587421469\" stroke-linecap=\"round\" style=\"stroke:yellow;stroke-width:4\"/><line x1=\"410.2416625912495\" y1=\"172.39266587421469\" x2=\"522.2713137709137\" y2=\"215.39681981965072\" stroke-linecap=\"round\" style=\"stroke:purple;stroke-width:4\"/><line x1=\"522.2713137709137\" y1=\"215.39681981965072\" x2=\"559.6623700902824\" y2=\"330.4746582913643\" stroke-linecap=\"round\" style=\"stroke:green;stroke-width:4\"/><line x1=\"559.6623700902824\" y1=\"330.4746582913643\" x2=\"493.21640781844906\" y2=\"432.792467580706\" stroke-linecap=\"round\" style=\"stroke:blue;stroke-width:4\"/><line x1=\"493.21640781844906\" y1=\"432.792467580706\" x2=\"370.89021468815145\" y2=\"445.6494685626274\" stroke-linecap=\"round\" style=\"stroke:grey;stroke-width:4\"/><line x1=\"370.89021468815145\" y1=\"445.6494685626274\" x2=\"283.2089738210195\" y2=\"357.96822769549556\" stroke-linecap=\"round\" style=\"stroke:red;stroke-width:4\"/><line x1=\"283.2089738210195\" y1=\"357.96822769549556\" x2=\"296.27503172947615\" y2=\"233.6529907744614\" stroke-linecap=\"round\" style=\"stroke:white;stroke-width:4\"/><line x1=\"296.27503172947615\" y1=\"233.6529907744614\" x2=\"401.9475232905996\" y2=\"165.02847236256798\" stroke-linecap=\"round\" style=\"stroke:white;stroke-width:4\"/><line x1=\"401.9475232905996\" y1=\"165.02847236256798\" x2=\"522.7317008600841\" y2=\"204.2736306481863\" stroke-linecap=\"round\" style=\"stroke:green;stroke-width:4\"/><line x1=\"522.7317008600841\" y1=\"204.2736306481863\" x2=\"568.6027984018825\" y2=\"323.77192523982814\" stroke-linecap=\"round\" style=\"stroke:purple;stroke-width:4\"/><line x1=\"568.6027984018825\" y1=\"323.77192523982814\" x2=\"504.1027984018825\" y2=\"435.4892023280207\" stroke-linecap=\"round\" style=\"stroke:yellow;stroke-width:4\"/><line x1=\"504.1027984018825\" y1=\"435.4892023280207\" x2=\"375.70331412451463\" y2=\"455.8256827832507\" stroke-linecap=\"round\" style=\"stroke:blue;stroke-width:4\"/><line x1=\"375.70331412451463\" y1=\"455.8256827832507\" x2=\"278.35134198697597\" y2=\"368.1695733502403\" stroke-linecap=\"round\" style=\"stroke:blue;stroke-width:4\"/><line x1=\"278.35134198697597\" y1=\"368.1695733502403\" x2=\"285.2596882110446\" y2=\"236.35047476263654\" stroke-linecap=\"round\" style=\"stroke:green;stroke-width:4\"/><line x1=\"285.2596882110446\" y1=\"236.35047476263654\" x2=\"392.8589484629126\" y2=\"158.17503620773758\" stroke-linecap=\"round\" style=\"stroke:green;stroke-width:4\"/><line x1=\"392.8589484629126\" y1=\"158.17503620773758\" x2=\"522.2930091856477\" y2=\"192.85678825147536\" stroke-linecap=\"round\" style=\"stroke:green;stroke-width:4\"/><line x1=\"522.2930091856477\" y1=\"192.85678825147536\" x2=\"577.2024560008808\" y2=\"316.18542503322647\" stroke-linecap=\"round\" style=\"stroke:green;stroke-width:4\"/><line x1=\"577.2024560008808\" y1=\"316.18542503322647\" x2=\"515.4597480363025\" y2=\"437.3623123228445\" stroke-linecap=\"round\" style=\"stroke:grey;stroke-width:4\"/><line x1=\"515.4597480363025\" y1=\"437.3623123228445\" x2=\"381.4535267357711\" y2=\"465.8462139648775\" stroke-linecap=\"round\" style=\"stroke:red;stroke-width:4\"/><line x1=\"381.4535267357711\" y1=\"465.8462139648775\" x2=\"274.2073840547091\" y2=\"378.9999999999999\" stroke-linecap=\"round\" style=\"stroke:purple;stroke-width:4\"/><line x1=\"274.2073840547091\" y1=\"378.9999999999999\" x2=\"274.2073840547091\" y2=\"239.9999999999999\" stroke-linecap=\"round\" style=\"stroke:blue;stroke-width:4\"/><line x1=\"274.2073840547091\" y1=\"239.9999999999999\" x2=\"383.007818658685\" y2=\"151.89514525302258\" stroke-linecap=\"round\" style=\"stroke:yellow;stroke-width:4\"/><line x1=\"383.007818658685\" y1=\"151.89514525302258\" x2=\"520.9266303621516\" y2=\"181.21069365832665\" stroke-linecap=\"round\" style=\"stroke:white;stroke-width:4\"/><line x1=\"520.9266303621516\" y1=\"181.21069365832665\" x2=\"585.3932813251673\" y2=\"307.7336200930749\" stroke-linecap=\"round\" style=\"stroke:yellow;stroke-width:4\"/><line x1=\"585.3932813251673\" y1=\"307.7336200930749\" x2=\"527.2299413653279\" y2=\"438.3706205359668\" stroke-linecap=\"round\" style=\"stroke:green;stroke-width:4\"/><line x1=\"527.2299413653279\" y1=\"438.3706205359668\" x2=\"388.1366223797021\" y2=\"475.6405630307298\" stroke-linecap=\"round\" style=\"stroke:red;stroke-width:4\"/><line x1=\"388.1366223797021\" y1=\"475.6405630307298\" x2=\"270.8291581953347\" y2=\"390.41170144832125\" stroke-linecap=\"round\" style=\"stroke:orange;stroke-width:4\"/><line x1=\"270.8291581953347\" y1=\"390.41170144832125\" x2=\"263.1881085838648\" y2=\"244.61178937415346\" stroke-linecap=\"round\" style=\"stroke:orange;stroke-width:4\"/><line x1=\"263.1881085838648\" y1=\"244.61178937415346\" x2=\"372.43039792904176\" y2=\"146.2495902394013\" stroke-linecap=\"round\" style=\"stroke:red;stroke-width:4\"/><line x1=\"372.43039792904176\" y1=\"146.2495902394013\" x2=\"518.6082723371221\" y2=\"169.40189106535547\" stroke-linecap=\"round\" style=\"stroke:grey;stroke-width:4\"/><line x1=\"518.6082723371221\" y1=\"169.40189106535547\" x2=\"593.1082723371221\" y2=\"298.43967622923685\" stroke-linecap=\"round\" style=\"stroke:grey;stroke-width:4\"/><line x1=\"593.1082723371221\" y1=\"298.43967622923685\" x2=\"539.353079905327\" y2=\"438.47674020381714\" stroke-linecap=\"round\" style=\"stroke:blue;stroke-width:4\"/><line x1=\"539.353079905327\" y1=\"438.47674020381714\" x2=\"395.74354594475886\" y2=\"485.13830635443423\" stroke-linecap=\"round\" style=\"stroke:white;stroke-width:4\"/><line x1=\"395.74354594475886\" y1=\"485.13830635443423\" x2=\"268.2656196170544\" y2=\"402.35317303215015\" stroke-linecap=\"round\" style=\"stroke:orange;stroke-width:4\"/><line x1=\"268.2656196170544\" y1=\"402.35317303215015\" x2=\"252.27276473710347\" y2=\"250.19132304080432\" stroke-linecap=\"round\" style=\"stroke:yellow;stroke-width:4\"/><line x1=\"252.27276473710347\" y1=\"250.19132304080432\" x2=\"361.16720903983173\" y2=\"141.29687873807597\" stroke-linecap=\"round\" style=\"stroke:blue;stroke-width:4\"/><line x1=\"361.16720903983173\" y1=\"141.29687873807597\" x2=\"515.3181028219141\" y2=\"157.49879054456227\" stroke-linecap=\"round\" style=\"stroke:red;stroke-width:4\"/><line x1=\"515.3181028219141\" y1=\"157.49879054456227\" x2=\"600.2817922842582\" y2=\"288.3313991440484\" stroke-linecap=\"round\" style=\"stroke:green;stroke-width:4\"/><line x1=\"600.2817922842582\" y1=\"288.3313991440484\" x2=\"551.7661241673915\" y2=\"437.6472722023875\" stroke-linecap=\"round\" style=\"stroke:grey;stroke-width:4\"/><line x1=\"551.7661241673915\" y1=\"437.6472722023875\" x2=\"404.26041678083357\" y2=\"494.26940823054497\" stroke-linecap=\"round\" style=\"stroke:purple;stroke-width:4\"/><line x1=\"404.26041678083357\" y1=\"494.26940823054497\" x2=\"266.5623775791078\" y2=\"414.76940823054497\" stroke-linecap=\"round\" style=\"stroke:green;stroke-width:4\"/><line x1=\"266.5623775791078\" y1=\"414.76940823054497\" x2=\"241.53286317267086\" y2=\"256.73927373532297\" stroke-linecap=\"round\" style=\"stroke:green;stroke-width:4\"/><line x1=\"241.53286317267086\" y1=\"256.73927373532297\" x2=\"349.262890796447\" y2=\"137.09295683346244\" stroke-linecap=\"round\" style=\"stroke:green;stroke-width:4\"/><line x1=\"349.262890796447\" y1=\"137.09295683346244\" x2=\"511.04087542668793\" y2=\"145.57138174481935\" stroke-linecap=\"round\" style=\"stroke:green;stroke-width:4\"/><line x1=\"511.04087542668793\" y1=\"145.57138174481935\" x2=\"606.8498715503611\" y2=\"277.44115182793576\" stroke-linecap=\"round\" style=\"stroke:yellow;stroke-width:4\"/><line x1=\"606.8498715503611\" y1=\"277.44115182793576\" x2=\"564.4035481535476\" y2=\"435.8529873393429\" stroke-linecap=\"round\" style=\"stroke:purple;stroke-width:4\"/><line x1=\"564.4035481535476\" y1=\"435.8529873393429\" x2=\"413.6685476425185\" y2=\"502.96453344685\" stroke-linecap=\"round\" style=\"stroke:grey;stroke-width:4\"/><line x1=\"413.6685476425185\" y1=\"502.96453344685\" x2=\"265.76146462724944\" y2=\"427.60211049008524\" stroke-linecap=\"round\" style=\"stroke:grey;stroke-width:4\"/><line x1=\"265.76146462724944\" y1=\"427.60211049008524\" x2=\"231.04021226068355\" y2=\"264.2514611675397\" stroke-linecap=\"round\" style=\"stroke:orange;stroke-width:4\"/><line x1=\"231.04021226068355\" y1=\"264.2514611675397\" x2=\"336.76603795705626\" y2=\"133.69093964276857\" stroke-linecap=\"round\" style=\"stroke:grey;stroke-width:4\"/><line x1=\"336.76603795705626\" y1=\"133.69093964276857\" x2=\"505.76603795705626\" y2=\"133.69093964276857\" stroke-linecap=\"round\" style=\"stroke:blue;stroke-width:4\"/><line x1=\"505.76603795705626\" y1=\"133.69093964276857\" x2=\"612.7505044355287\" y2=\"265.80575309045366\" stroke-linecap=\"round\" style=\"stroke:green;stroke-width:4\"/><line x1=\"612.7505044355287\" y1=\"265.80575309045366\" x2=\"577.1976053056918\" y2=\"433.06899281593445\" stroke-linecap=\"round\" style=\"stroke:blue;stroke-width:4\"/><line x1=\"577.1976053056918\" y1=\"433.06899281593445\" x2=\"423.94448314529257\" y2=\"511.1553587711365\" stroke-linecap=\"round\" style=\"stroke:blue;stroke-width:4\"/><line x1=\"423.94448314529257\" y1=\"511.1553587711365\" x2=\"265.9011189731226\" y2=\"440.78991951902304\" stroke-linecap=\"round\" style=\"stroke:green;stroke-width:4\"/><line x1=\"265.9011189731226\" y1=\"440.78991951902304\" x2=\"220.86660512528402\" y2=\"272.71882574472517\" stroke-linecap=\"round\" style=\"stroke:orange;stroke-width:4\"/><line x1=\"220.86660512528402\" y1=\"272.71882574472517\" x2=\"323.7290242764668\" y2=\"131.14085172910933\" stroke-linecap=\"round\" style=\"stroke:orange;stroke-width:4\"/><line x1=\"323.7290242764668\" y1=\"131.14085172910933\" x2=\"499.4878223932718\" y2=\"121.92972343035112\" stroke-linecap=\"round\" style=\"stroke:purple;stroke-width:4\"/><line x1=\"499.4878223932718\" y1=\"121.92972343035112\" x2=\"617.9239397187897\" y2=\"253.4663575398499\" stroke-linecap=\"round\" style=\"stroke:purple;stroke-width:4\"/><line x1=\"617.9239397187897\" y1=\"253.4663575398499\" x2=\"590.0786049416287\" y2=\"429.27488216578445\" stroke-linecap=\"round\" style=\"stroke:orange;stroke-width:4\"/><line x1=\"590.0786049416287\" y1=\"429.27488216578445\" x2=\"435.0600576642141\" y2=\"518.7748821657844\" stroke-linecap=\"round\" style=\"stroke:white;stroke-width:4\"/><line x1=\"435.0600576642141\" y1=\"518.7748821657844\" x2=\"267.0155808947178\" y2=\"454.2686512476304\" stroke-linecap=\"round\" style=\"stroke:yellow;stroke-width:4\"/><line x1=\"267.0155808947178\" y1=\"454.2686512476304\" x2=\"211.08350491285228\" y2=\"282.1274217982076\" stroke-linecap=\"round\" style=\"stroke:red;stroke-width:4\"/><line x1=\"211.08350491285228\" y1=\"282.1274217982076\" x2=\"310.20780928558713\" y2=\"129.48937843214037\" stroke-linecap=\"round\" style=\"stroke:purple;stroke-width:4\"/><line x1=\"310.20780928558713\" y1=\"129.48937843214037\" x2=\"492.2053161379812\" y2=\"110.36066965415979\" stroke-linecap=\"round\" style=\"stroke:green;stroke-width:4\"/><line x1=\"492.2053161379812\" y1=\"110.36066965415979\" x2=\"622.312963876306\" y2=\"240.46831739248455\" stroke-linecap=\"round\" style=\"stroke:yellow;stroke-width:4\"/><line x1=\"622.312963876306\" y1=\"240.46831739248455\" x2=\"602.97519817179\" y2=\"424.4548680356151\" stroke-linecap=\"round\" style=\"stroke:green;stroke-width:4\"/><line x1=\"602.97519817179\" y1=\"424.4548680356151\" x2=\"446.9824725339412\" y2=\"525.7577285484102\" stroke-linecap=\"round\" style=\"stroke:yellow;stroke-width:4\"/><line x1=\"446.9824725339412\" y1=\"525.7577285484102\" x2=\"269.1349039867474\" y2=\"467.9715506002951\" stroke-linecap=\"round\" style=\"stroke:blue;stroke-width:4\"/><line x1=\"269.1349039867474\" y1=\"467.9715506002951\" x2=\"201.76172947223088\" y2=\"292.4584304188212\" stroke-linecap=\"round\" style=\"stroke:yellow;stroke-width:4\"/><line x1=\"201.76172947223088\" y1=\"292.4584304188212\" x2=\"296.2617294722309\" y2=\"128.77962910356229\" stroke-linecap=\"round\" style=\"stroke:orange;stroke-width:4\"/><line x1=\"296.2617294722309\" y1=\"128.77962910356229\" x2=\"483.9225141853071\" y2=\"99.05708074591837\" stroke-linecap=\"round\" style=\"stroke:yellow;stroke-width:4\"/><line x1=\"483.9225141853071\" y1=\"99.05708074591837\" x2=\"625.8631758514894\" y2=\"226.8610265604603\" stroke-linecap=\"round\" style=\"stroke:orange;stroke-width:4\"/><line x1=\"625.8631758514894\" y1=\"226.8610265604603\" x2=\"615.8146722528442\" y2=\"418.5978972333385\" stroke-linecap=\"round\" style=\"stroke:grey;stroke-width:4\"/><line x1=\"615.8146722528442\" y1=\"418.5978972333385\" x2=\"459.6743923384793\" y2=\"532.0404509257858\" stroke-linecap=\"round\" style=\"stroke:purple;stroke-width:4\"/><line x1=\"459.6743923384793\" y1=\"532.0404509257858\" x2=\"272.28478203840007\" y2=\"481.82955617589676\" stroke-linecap=\"round\" style=\"stroke:green;stroke-width:4\"/><line x1=\"272.28478203840007\" y1=\"481.82955617589676\" x2=\"192.97113663861904\" y2=\"303.68819193558954\" stroke-linecap=\"round\" style=\"stroke:green;stroke-width:4\"/><line x1=\"192.97113663861904\" y1=\"303.68819193558954\" x2=\"281.95327458757015\" y2=\"129.05091319466945\" stroke-linecap=\"round\" style=\"stroke:white;stroke-width:4\"/><line x1=\"281.95327458757015\" y1=\"129.05091319466945\" x2=\"474.64835193212986\" y2=\"88.09231010357075\" stroke-linecap=\"round\" style=\"stroke:grey;stroke-width:4\"/><line x1=\"474.64835193212986\" y1=\"88.09231010357075\" x2=\"628.5232523006101\" y2=\"212.69774753143855\" stroke-linecap=\"round\" style=\"stroke:yellow;stroke-width:4\"/><line x1=\"628.5232523006101\" y1=\"212.69774753143855\" x2=\"628.5232523006101\" y2=\"411.69774753143855\" stroke-linecap=\"round\" style=\"stroke:green;stroke-width:4\"/><line x1=\"628.5232523006101\" y1=\"411.69774753143855\" x2=\"473.0940600092159\" y2=\"537.561825741406\" stroke-linecap=\"round\" style=\"stroke:grey;stroke-width:4\"/><line x1=\"473.0940600092159\" y1=\"537.561825741406\" x2=\"276.486392261721\" y2=\"495.7715758870363\" stroke-linecap=\"round\" style=\"stroke:blue;stroke-width:4\"/><line x1=\"276.486392261721\" y1=\"495.7715758870363\" x2=\"184.78031131433252\" y2=\"315.78825800098605\" stroke-linecap=\"round\" style=\"stroke:purple;stroke-width:4\"/><line x1=\"184.78031131433252\" y1=\"315.78825800098605\" x2=\"267.3478498587199\" y2=\"130.33853009953802\" stroke-linecap=\"round\" style=\"stroke:grey;stroke-width:4\"/><line x1=\"267.3478498587199\" y1=\"130.33853009953802\" x2=\"464.3967184216898\" y2=\"77.5394448986238\" stroke-linecap=\"round\" style=\"stroke:green;stroke-width:4\"/><line x1=\"464.3967184216898\" y1=\"77.5394448986238\" x2=\"630.2452022685541\" y2=\"198.0354216185808\" stroke-linecap=\"round\" style=\"stroke:yellow;stroke-width:4\"/><line x1=\"630.2452022685541\" y1=\"198.0354216185808\" x2=\"641.0264092546005\" y2=\"403.75310577802304\" stroke-linecap=\"round\" style=\"stroke:white;stroke-width:4\"/><line x1=\"641.0264092546005\" y1=\"403.75310577802304\" x2=\"487.19543038077995\" y2=\"542.2631412943067\" stroke-linecap=\"round\" style=\"stroke:grey;stroke-width:4\"/><line x1=\"487.19543038077995\" y1=\"542.2631412943067\" x2=\"281.75625553699126\" y2=\"509.72477256593874\" stroke-linecap=\"round\" style=\"stroke:red;stroke-width:4\"/><line x1=\"281.75625553699126\" y1=\"509.72477256593874\" x2=\"177.25625553699115\" y2=\"328.7254631749911\" stroke-linecap=\"round\" style=\"stroke:green;stroke-width:4\"/><line x1=\"177.25625553699115\" y1=\"328.7254631749911\" x2=\"252.51352494150422\" y2=\"132.67357361057873\" stroke-linecap=\"round\" style=\"stroke:yellow;stroke-width:4\"/><line x1=\"252.51352494150422\" y1=\"132.67357361057873\" x2=\"453.1864498797816\" y2=\"67.47098779746479\" stroke-linecap=\"round\" style=\"stroke:yellow;stroke-width:4\"/><line x1=\"453.1864498797816\" y1=\"67.47098779746479\" x2=\"630.9846102842115\" y2=\"182.9344632206505\" stroke-linecap=\"round\" style=\"stroke:green;stroke-width:4\"/><line x1=\"630.9846102842115\" y1=\"182.9344632206505\" x2=\"653.2491729602217\" y2=\"394.76762693409273\" stroke-linecap=\"round\" style=\"stroke:orange;stroke-width:4\"/><line x1=\"653.2491729602217\" y1=\"394.76762693409273\" x2=\"501.92832178630056\" y2=\"546.0884781080139\" stroke-linecap=\"round\" style=\"stroke:blue;stroke-width:4\"/><line x1=\"501.92832178630056\" y1=\"546.0884781080139\" x2=\"288.1061142821218\" y2=\"523.6148585054684\" stroke-linecap=\"round\" style=\"stroke:blue;stroke-width:4\"/><line x1=\"288.1061142821218\" y1=\"523.6148585054684\" x2=\"170.46408271887594\" y2=\"342.4620158292568\" stroke-linecap=\"round\" style=\"stroke:green;stroke-width:4\"/><line x1=\"170.46408271887594\" y1=\"342.4620158292568\" x2=\"237.52077049823947\" y2=\"136.08275179320847\" stroke-linecap=\"round\" style=\"stroke:yellow;stroke-width:4\"/><line x1=\"237.52077049823947\" y1=\"136.08275179320847\" x2=\"441.04130347462944\" y2=\"57.9585387923329\" stroke-linecap=\"round\" style=\"stroke:red;stroke-width:4\"/><line x1=\"441.04130347462944\" y1=\"57.9585387923329\" x2=\"630.7008669034215\" y2=\"167.4585387923329\" stroke-linecap=\"round\" style=\"stroke:blue;stroke-width:4\"/><line x1=\"630.7008669034215\" y1=\"167.4585387923329\" x2=\"665.1164492122723\" y2=\"384.7499737232632\" stroke-linecap=\"round\" style=\"stroke:grey;stroke-width:4\"/><line x1=\"665.1164492122723\" y1=\"384.7499737232632\" x2=\"517.2385852069647\" y2=\"548.9849801537673\" stroke-linecap=\"round\" style=\"stroke:white;stroke-width:4\"/><line x1=\"517.2385852069647\" y1=\"548.9849801537673\" x2=\"295.5428284914493\" y2=\"537.3663978678338\" stroke-linecap=\"round\" style=\"stroke:grey;stroke-width:4\"/><line x1=\"295.5428284914493\" y1=\"537.3663978678338\" x2=\"164.46671723022777\" y2=\"356.9556081222206\" stroke-linecap=\"round\" style=\"stroke:white;stroke-width:4\"/><line x1=\"164.46671723022777\" y1=\"356.9556081222206\" x2=\"222.4421833331923\" y2=\"140.5882230334693\" stroke-linecap=\"round\" style=\"stroke:yellow;stroke-width:4\"/><line x1=\"222.4421833331923\" y1=\"140.5882230334693\" x2=\"427.9899113027775\" y2=\"49.072478341414254\" stroke-linecap=\"round\" style=\"stroke:red;stroke-width:4\"/><line x1=\"427.9899113027775\" y1=\"49.072478341414254\" x2=\"629.3573857693486\" y2=\"151.6743312825518\" stroke-linecap=\"round\" style=\"stroke:yellow;stroke-width:4\"/><line x1=\"629.3573857693486\" y1=\"151.6743312825518\" x2=\"676.55333958498\" y2=\"373.7138366491257\" stroke-linecap=\"round\" style=\"stroke:grey;stroke-width:4\"/><line x1=\"676.55333958498\" y1=\"373.7138366491257\" x2=\"533.0682904256171\" y2=\"550.9031158613151\" stroke-linecap=\"round\" style=\"stroke:green;stroke-width:4\"/><line x1=\"533.0682904256171\" y1=\"550.9031158613151\" x2=\"304.0682904256171\" y2=\"550.9031158613151\" stroke-linecap=\"round\" style=\"stroke:orange;stroke-width:4\"/><line x1=\"304.0682904256171\" y1=\"550.9031158613151\" x2=\"159.3246004841544\" y2=\"372.15954472621183\" stroke-linecap=\"round\" style=\"stroke:white;stroke-width:4\"/><line x1=\"159.3246004841544\" y1=\"372.15954472621183\" x2=\"207.3522010630568\" y2=\"146.20744895670273\" stroke-linecap=\"round\" style=\"stroke:yellow;stroke-width:4\"/><line x1=\"207.3522010630568\" y1=\"146.20744895670273\" x2=\"414.06571467475817\" y2=\"40.88165301712783\" stroke-linecap=\"round\" style=\"stroke:yellow;stroke-width:4\"/><line x1=\"414.06571467475817\" y1=\"40.88165301712783\" x2=\"626.9218063054842\" y2=\"135.65129085378928\" stroke-linecap=\"round\" style=\"stroke:yellow;stroke-width:4\"/><line x1=\"626.9218063054842\" y1=\"135.65129085378928\" x2=\"687.4854628594741\" y2=\"361.67793420543126\" stroke-linecap=\"round\" style=\"stroke:green;stroke-width:4\"/><line x1=\"687.4854628594741\" y1=\"361.67793420543126\" x2=\"549.3559285707429\" y2=\"551.796927883544\" stroke-linecap=\"round\" style=\"stroke:grey;stroke-width:4\"/><line x1=\"549.3559285707429\" y1=\"551.796927883544\" x2=\"313.67935836866343\" y2=\"564.1482135568787\" stroke-linecap=\"round\" style=\"stroke:grey;stroke-width:4\"/><line x1=\"313.67935836866343\" y1=\"564.1482135568787\" x2=\"155.09540466161405\" y2=\"388.02288991873615\" stroke-linecap=\"round\" style=\"stroke:green;stroke-width:4\"/><line x1=\"155.09540466161405\" y1=\"388.02288991873615\" x2=\"192.32680734118895\" y2=\"152.95306485709335\" stroke-linecap=\"round\" style=\"stroke:yellow;stroke-width:4\"/><line x1=\"192.32680734118895\" y1=\"152.95306485709335\" x2=\"399.30687884566976\" y2=\"33.45306485709325\" stroke-linecap=\"round\" style=\"stroke:grey;stroke-width:4\"/><line x1=\"399.30687884566976\" y1=\"33.45306485709325\" x2=\"623.3661812049982\" y2=\"119.46137274796531\" stroke-linecap=\"round\" style=\"stroke:orange;stroke-width:4\"/><line x1=\"623.3661812049982\" y1=\"119.46137274796531\" x2=\"697.8392768493604\" y2=\"348.6659931750973\" stroke-linecap=\"round\" style=\"stroke:blue;stroke-width:4\"/><line x1=\"697.8392768493604\" y1=\"348.6659931750973\" x2=\"566.0366303757239\" y2=\"551.6242706178899\" stroke-linecap=\"round\" style=\"stroke:grey;stroke-width:4\"/><line x1=\"566.0366303757239\" y1=\"551.6242706178899\" x2=\"324.36780980123353\" y2=\"577.0246871919297\" stroke-linecap=\"round\" style=\"stroke:red;stroke-width:4\"/><line x1=\"324.36780980123353\" y1=\"577.0246871919297\" x2=\"151.8337551917159\" y2=\"404.49063258241216\" stroke-linecap=\"round\" style=\"stroke:green;stroke-width:4\"/><line x1=\"151.8337551917159\" y1=\"404.49063258241216\" x2=\"177.4432286922909\" y2=\"160.8327682171852\" stroke-linecap=\"round\" style=\"stroke:orange;stroke-width:4\"/><line x1=\"177.4432286922909\" y1=\"160.8327682171852\" x2=\"383.7561884068652\" y2=\"26.851565603488552\" stroke-linecap=\"round\" style=\"stroke:orange;stroke-width:4\"/><line x1=\"383.7561884068652\" y1=\"26.851565603488552\" x2=\"618.6671479317681\" y2=\"103.17876321410056\" stroke-linecap=\"round\" style=\"stroke:yellow;stroke-width:4\"/><line x1=\"618.6671479317681\" y1=\"103.17876321410056\" x2=\"707.5423994190025\" y2=\"334.7067089854066\" stroke-linecap=\"round\" style=\"stroke:purple;stroke-width:4\"/><line x1=\"707.5423994190025\" y1=\"334.7067089854066\" x2=\"583.0423994190025\" y2=\"550.3470345277318\" stroke-linecap=\"round\" style=\"stroke:blue;stroke-width:4\"/><line x1=\"583.0423994190025\" y1=\"550.3470345277318\" x2=\"336.12031427021816\" y2=\"589.4556507877895\" stroke-linecap=\"round\" style=\"stroke:yellow;stroke-width:4\"/><line x1=\"336.12031427021816\" y1=\"589.4556507877895\" x2=\"149.5909630753922\" y2=\"421.5038685917161\" stroke-linecap=\"round\" style=\"stroke:orange;stroke-width:4\"/><line x1=\"149.5909630753922\" y1=\"421.5038685917161\" x2=\"162.7796240486141\" y2=\"169.8492258335635\" stroke-linecap=\"round\" style=\"stroke:red;stroke-width:4\"/><line x1=\"162.7796240486141\" y1=\"169.8492258335635\" x2=\"367.46092362547574\" y2=\"21.139557003567745\" stroke-linecap=\"round\" style=\"stroke:purple;stroke-width:4\"/><line x1=\"367.46092362547574\" y1=\"21.139557003567745\" x2=\"612.8060835028991\" y2=\"86.87959445960801\" stroke-linecap=\"round\" style=\"stroke:purple;stroke-width:4\"/><line x1=\"612.8060835028991\" y1=\"86.87959445960801\" x2=\"716.5239274872282\" y2=\"319.8336861584712\" stroke-linecap=\"round\" style=\"stroke:orange;stroke-width:4\"/><line x1=\"716.5239274872282\" y1=\"319.8336861584712\" x2=\"600.3023595539042\" y2=\"547.9313563506934\" stroke-linecap=\"round\" style=\"stroke:green;stroke-width:4\"/><line x1=\"600.3023595539042\" y1=\"547.9313563506934\" x2=\"348.9184261653162\" y2=\"601.3646608908575\" stroke-linecap=\"round\" style=\"stroke:orange;stroke-width:4\"/><line x1=\"348.9184261653162\" y1=\"601.3646608908575\" x2=\"148.41476810941774\" y2=\"438.99999999999943\" stroke-linecap=\"round\" style=\"stroke:green;stroke-width:4\"/><line x1=\"148.41476810941774\" y1=\"438.99999999999943\" x2=\"148.41476810941768\" y2=\"179.99999999999943\" stroke-linecap=\"round\" style=\"stroke:grey;stroke-width:4\"/><line x1=\"148.41476810941768\" y1=\"179.99999999999943\" x2=\"350.47271808823007\" y2=\"16.376698327041595\" stroke-linecap=\"round\" style=\"stroke:red;stroke-width:4\"/><line x1=\"350.47271808823007\" y1=\"16.376698327041595\" x2=\"605.7692418797533\" y2=\"70.64164963047679\" stroke-linecap=\"round\" style=\"stroke:yellow;stroke-width:4\"/><line x1=\"605.7692418797533\" y1=\"70.64164963047679\" x2=\"724.7147528115146\" y2=\"304.08535896782917\" stroke-linecap=\"round\" style=\"stroke:white;stroke-width:4\"/><line x1=\"724.7147528115146\" y1=\"304.08535896782917\" x2=\"617.7430156825791\" y2=\"544.3478143278332\" stroke-linecap=\"round\" style=\"stroke:blue;stroke-width:4\"/><line x1=\"617.7430156825791\" y1=\"544.3478143278332\" x2=\"362.7385975422651\" y2=\"612.6760422348988\" stroke-linecap=\"round\" style=\"stroke:orange;stroke-width:4\"/><line x1=\"362.7385975422651\" y1=\"612.6760422348988\" x2=\"148.349094032904\" y2=\"456.91295037739343\" stroke-linecap=\"round\" style=\"stroke:blue;stroke-width:4\"/><line x1=\"148.349094032904\" y1=\"456.91295037739343\" x2=\"134.4277296722808\" y2=\"191.2774941326768\" stroke-linecap=\"round\" style=\"stroke:orange;stroke-width:4\"/><line x1=\"134.4277296722808\" y1=\"191.2774941326768\" x2=\"332.84739807474506\" y2=\"12.61962223486168\" stroke-linecap=\"round\" style=\"stroke:purple;stroke-width:4\"/><line x1=\"332.84739807474506\" y1=\"12.61962223486168\" x2=\"597.547873354242\" y2=\"54.54405886564355\" stroke-linecap=\"round\" style=\"stroke:grey;stroke-width:4\"/><line x1=\"597.547873354242\" y1=\"54.54405886564355\" x2=\"732.047873354242\" y2=\"287.50489248365756\" stroke-linecap=\"round\" style=\"stroke:grey;stroke-width:4\"/><line x1=\"732.047873354242\" y1=\"287.50489248365756\" x2=\"635.288526977011\" y2=\"539.571607637902\" stroke-linecap=\"round\" style=\"stroke:orange;stroke-width:4\"/><line x1=\"635.288526977011\" y1=\"539.571607637902\" x2=\"377.55221106102437\" y2=\"623.3152131135129\" stroke-linecap=\"round\" style=\"stroke:blue;stroke-width:4\"/><line x1=\"377.55221106102437\" y1=\"623.3152131135129\" x2=\"149.43381657986902\" y2=\"475.17339558942547\" stroke-linecap=\"round\" style=\"stroke:blue;stroke-width:4\"/><line x1=\"149.43381657986902\" y1=\"475.17339558942547\" x2=\"120.89754610779966\" y2=\"203.6689181538868\" stroke-linecap=\"round\" style=\"stroke:red;stroke-width:4\"/><line x1=\"120.89754610779966\" y1=\"203.6689181538868\" x2=\"314.6448041529136\" y2=\"9.921660108772755\" stroke-linecap=\"round\" style=\"stroke:red;stroke-width:4\"/><line x1=\"314.6448041529136\" y1=\"9.921660108772755\" x2=\"588.1383253791887\" y2=\"38.666987507377456\" stroke-linecap=\"round\" style=\"stroke:purple;stroke-width:4\"/>\n",
              "        \n",
              "      <g visibility=visible transform=\"rotate(-84,588.1383253791887,38.666987507377456) translate(588.1383253791887, 38.666987507377456)\">\n",
              "        <circle stroke=\"purple\" stroke-width=\"3\" fill=\"transparent\" r=\"12\" cx=\"0\" cy=\"0\"/>\n",
              "        <polygon points=\"0,19 3,16 -3,16\" style=\"fill:purple;stroke:purple;stroke-width:2\"/>\n",
              "      </g>\n",
              "    \n",
              "      </svg>\n",
              "    "
            ],
            "text/plain": [
              "<IPython.core.display.HTML object>"
            ]
          },
          "metadata": {
            "tags": []
          }
        }
      ]
    },
    {
      "cell_type": "markdown",
      "metadata": {
        "id": "lTl6X2om4MqL"
      },
      "source": [
        "## Draw multple interconnected colorful spirals"
      ]
    },
    {
      "cell_type": "code",
      "metadata": {
        "id": "aTaCzP-ONcrF",
        "outputId": "8598cfdf-9d4c-4b26-922f-43b9cabfa030",
        "colab": {
          "base_uri": "https://localhost:8080/",
          "height": 1000
        }
      },
      "source": [
        "import numpy as np\n",
        "import random\n",
        "PEN_COLORS = ('white', 'yellow', 'orange', 'red', 'green', 'blue', 'purple', 'grey')\n",
        "pen_color = 'purple'\n",
        "ww = 1000\n",
        "wh = 1000\n",
        "WINDOW_SIZE = (ww, wh)\n",
        "# let's name our pen as Alex\n",
        "alex = ColabTurtle.Turtle\n",
        "alex.initializeTurtle(initial_window_size=WINDOW_SIZE)\n",
        "# move the pen to the left and lower place\n",
        "alex.penup()\n",
        "alex.goto(int(ww*2/3),int(wh*1/3))\n",
        "alex.pendown()\n",
        "alex.speed(7)\n",
        "alex.color(pen_color)\n",
        "\n",
        "random.seed()\n",
        "N = 356\n",
        "for n in np.arange(N):\n",
        "  color_rn = random.randrange(8)\n",
        "  alex.color(PEN_COLORS[color_rn])\n",
        "  angle_rn = 51 #53 #67#random.randrange(180)\n",
        "  alex.right(angle_rn)\n",
        "  length_rn = int(20+n%60) #random.randrange(60)\n",
        "  if (n>0) and (n%60==0):\n",
        "    alex.forward(240)\n",
        "  if (n>0) and (n%89==0):\n",
        "    alex.forward(360)\n",
        "  alex.forward(length_rn)\n",
        "\n"
      ],
      "execution_count": 26,
      "outputs": [
        {
          "output_type": "display_data",
          "data": {
            "text/html": [
              "\n",
              "      <svg width=\"1000\" height=\"1000\">\n",
              "        <rect width=\"100%\" height=\"100%\" fill=\"black\"/>\n",
              "        <line x1=\"666\" y1=\"333\" x2=\"681.5429192291394\" y2=\"320.4135921790032\" stroke-linecap=\"round\" style=\"stroke:orange;stroke-width:4\"/><line x1=\"681.5429192291394\" y1=\"320.4135921790032\" x2=\"702.0840188445494\" y2=\"324.7797376861762\" stroke-linecap=\"round\" style=\"stroke:green;stroke-width:4\"/><line x1=\"702.0840188445494\" y1=\"324.7797376861762\" x2=\"712.0718098388195\" y2=\"344.3818812183203\" stroke-linecap=\"round\" style=\"stroke:yellow;stroke-width:4\"/><line x1=\"712.0718098388195\" y1=\"344.3818812183203\" x2=\"702.7168670480761\" y2=\"365.3934267441001\" stroke-linecap=\"round\" style=\"stroke:purple;stroke-width:4\"/><line x1=\"702.7168670480761\" y1=\"365.3934267441001\" x2=\"679.5346472171385\" y2=\"371.60508382656064\" stroke-linecap=\"round\" style=\"stroke:orange;stroke-width:4\"/><line x1=\"679.5346472171385\" y1=\"371.60508382656064\" x2=\"659.3092223577648\" y2=\"356.9104525192488\" stroke-linecap=\"round\" style=\"stroke:orange;stroke-width:4\"/><line x1=\"659.3092223577648\" y1=\"356.9104525192488\" x2=\"657.9484874954483\" y2=\"330.94608461562984\" stroke-linecap=\"round\" style=\"stroke:blue;stroke-width:4\"/><line x1=\"657.9484874954483\" y1=\"330.94608461562984\" x2=\"678.013397783338\" y2=\"312.87955824394066\" stroke-linecap=\"round\" style=\"stroke:white;stroke-width:4\"/><line x1=\"678.013397783338\" y1=\"312.87955824394066\" x2=\"705.6686713200017\" y2=\"317.2597232650671\" stroke-linecap=\"round\" style=\"stroke:green;stroke-width:4\"/><line x1=\"705.6686713200017\" y1=\"317.2597232650671\" x2=\"720.1686713200017\" y2=\"342.37445997481586\" stroke-linecap=\"round\" style=\"stroke:purple;stroke-width:4\"/><line x1=\"720.1686713200017\" y1=\"342.37445997481586\" x2=\"709.4176328336428\" y2=\"370.3818727697319\" stroke-linecap=\"round\" style=\"stroke:yellow;stroke-width:4\"/><line x1=\"709.4176328336428\" y1=\"370.3818727697319\" x2=\"679.934880828493\" y2=\"379.96139959535526\" stroke-linecap=\"round\" style=\"stroke:purple;stroke-width:4\"/><line x1=\"679.934880828493\" y1=\"379.96139959535526\" x2=\"653.0974226542394\" y2=\"362.5329504748744\" stroke-linecap=\"round\" style=\"stroke:grey;stroke-width:4\"/><line x1=\"653.0974226542394\" y1=\"362.5329504748744\" x2=\"649.6479833664068\" y2=\"329.7137279277214\" stroke-linecap=\"round\" style=\"stroke:grey;stroke-width:4\"/><line x1=\"649.6479833664068\" y1=\"329.7137279277214\" x2=\"673.6896139267494\" y2=\"305.67209736737874\" stroke-linecap=\"round\" style=\"stroke:green;stroke-width:4\"/><line x1=\"673.6896139267494\" y1=\"305.67209736737874\" x2=\"708.497880264639\" y2=\"309.3305935817466\" stroke-linecap=\"round\" style=\"stroke:yellow;stroke-width:4\"/><line x1=\"708.497880264639\" y1=\"309.3305935817466\" x2=\"728.10488552518\" y2=\"339.5227340277819\" stroke-linecap=\"round\" style=\"stroke:blue;stroke-width:4\"/><line x1=\"728.10488552518\" y1=\"339.5227340277819\" x2=\"716.6712567333069\" y2=\"374.71182513070255\" stroke-linecap=\"round\" style=\"stroke:yellow;stroke-width:4\"/><line x1=\"716.6712567333069\" y1=\"374.71182513070255\" x2=\"681.1952005264133\" y2=\"388.329807213424\" stroke-linecap=\"round\" style=\"stroke:yellow;stroke-width:4\"/><line x1=\"681.1952005264133\" y1=\"388.329807213424\" x2=\"647.4202097788202\" y2=\"368.829807213424\" stroke-linecap=\"round\" style=\"stroke:green;stroke-width:4\"/><line x1=\"647.4202097788202\" y1=\"368.829807213424\" x2=\"641.1628311772109\" y2=\"329.3222735896185\" stroke-linecap=\"round\" style=\"stroke:white;stroke-width:4\"/><line x1=\"641.1628311772109\" y1=\"329.3222735896185\" x2=\"668.5971860379241\" y2=\"298.8533357450453\" stroke-linecap=\"round\" style=\"stroke:grey;stroke-width:4\"/><line x1=\"668.5971860379241\" y1=\"298.8533357450453\" x2=\"710.5396264976162\" y2=\"301.05144590724893\" stroke-linecap=\"round\" style=\"stroke:orange;stroke-width:4\"/><line x1=\"710.5396264976162\" y1=\"301.05144590724893\" x2=\"735.8143923461924\" y2=\"335.83917666537167\" stroke-linecap=\"round\" style=\"stroke:grey;stroke-width:4\"/><line x1=\"735.8143923461924\" y1=\"335.83917666537167\" x2=\"724.4263543616815\" y2=\"378.3399130220907\" stroke-linecap=\"round\" style=\"stroke:purple;stroke-width:4\"/><line x1=\"724.4263543616815\" y1=\"378.3399130220907\" x2=\"683.3168087677645\" y2=\"396.6430619605017\" stroke-linecap=\"round\" style=\"stroke:orange;stroke-width:4\"/><line x1=\"683.3168087677645\" y1=\"396.6430619605017\" x2=\"642.3305086550996\" y2=\"375.75949897248256\" stroke-linecap=\"round\" style=\"stroke:grey;stroke-width:4\"/><line x1=\"642.3305086550996\" y1=\"375.75949897248256\" x2=\"632.558659186665\" y2=\"329.7865617379937\" stroke-linecap=\"round\" style=\"stroke:grey;stroke-width:4\"/><line x1=\"632.558659186665\" y1=\"329.7865617379937\" x2=\"662.7660379570572\" y2=\"292.48355558805906\" stroke-linecap=\"round\" style=\"stroke:white;stroke-width:4\"/><line x1=\"662.7660379570572\" y1=\"292.48355558805906\" x2=\"711.7660379570572\" y2=\"292.48355558805906\" stroke-linecap=\"round\" style=\"stroke:grey;stroke-width:4\"/><line x1=\"711.7660379570572\" y1=\"292.48355558805906\" x2=\"743.232057509549\" y2=\"331.3408536609076\" stroke-linecap=\"round\" style=\"stroke:orange;stroke-width:4\"/><line x1=\"743.232057509549\" y1=\"331.3408536609076\" x2=\"732.6285612778432\" y2=\"381.2263812983317\" stroke-linecap=\"round\" style=\"stroke:orange;stroke-width:4\"/><line x1=\"732.6285612778432\" y1=\"381.2263812983317\" x2=\"686.2962220200482\" y2=\"404.83388728478815\" stroke-linecap=\"round\" style=\"stroke:yellow;stroke-width:4\"/><line x1=\"686.2962220200482\" y1=\"404.83388728478815\" x2=\"637.8783127649904\" y2=\"383.27684520177075\" stroke-linecap=\"round\" style=\"stroke:blue;stroke-width:4\"/><line x1=\"637.8783127649904\" y1=\"383.27684520177075\" x2=\"623.9020843294543\" y2=\"331.1168505821611\" stroke-linecap=\"round\" style=\"stroke:orange;stroke-width:4\"/><line x1=\"623.9020843294543\" y1=\"331.1168505821611\" x2=\"656.2302732055402\" y2=\"286.62091589153897\" stroke-linecap=\"round\" style=\"stroke:red;stroke-width:4\"/><line x1=\"656.2302732055402\" y1=\"286.62091589153897\" x2=\"712.1535271517964\" y2=\"283.6901023419341\" stroke-linecap=\"round\" style=\"stroke:orange;stroke-width:4\"/><line x1=\"712.1535271517964\" y1=\"283.6901023419341\" x2=\"750.2939717142514\" y2=\"326.0493573941456\" stroke-linecap=\"round\" style=\"stroke:purple;stroke-width:4\"/><line x1=\"750.2939717142514\" y1=\"326.0493573941456\" x2=\"741.2207727419179\" y2=\"383.33528114866357\" stroke-linecap=\"round\" style=\"stroke:purple;stroke-width:4\"/><line x1=\"741.2207727419179\" y1=\"383.33528114866357\" x2=\"690.125273918636\" y2=\"412.83528114866357\" stroke-linecap=\"round\" style=\"stroke:white;stroke-width:4\"/><line x1=\"690.125273918636\" y1=\"412.83528114866357\" x2=\"634.110448328804\" y2=\"391.3332041759455\" stroke-linecap=\"round\" style=\"stroke:blue;stroke-width:4\"/><line x1=\"634.110448328804\" y1=\"391.3332041759455\" x2=\"615.2604116719322\" y2=\"333.3187566819412\" stroke-linecap=\"round\" style=\"stroke:purple;stroke-width:4\"/><line x1=\"615.2604116719322\" y1=\"333.3187566819412\" x2=\"649.0280318428638\" y2=\"281.32118146932487\" stroke-linecap=\"round\" style=\"stroke:white;stroke-width:4\"/><line x1=\"649.0280318428638\" y1=\"281.32118146932487\" x2=\"711.682911251065\" y2=\"274.7358882834627\" stroke-linecap=\"round\" style=\"stroke:orange;stroke-width:4\"/><line x1=\"711.682911251065\" y1=\"274.7358882834627\" x2=\"756.937745247004\" y2=\"319.9907222794018\" stroke-linecap=\"round\" style=\"stroke:green;stroke-width:4\"/><line x1=\"756.937745247004\" y1=\"319.9907222794018\" x2=\"750.1433951346065\" y2=\"384.63464547833956\" stroke-linecap=\"round\" style=\"stroke:blue;stroke-width:4\"/><line x1=\"750.1433951346065\" y1=\"384.63464547833956\" x2=\"694.7911376502085\" y2=\"420.58082178933137\" stroke-linecap=\"round\" style=\"stroke:orange;stroke-width:4\"/><line x1=\"694.7911376502085\" y1=\"420.58082178933137\" x2=\"631.0703510584332\" y2=\"399.8766831662099\" stroke-linecap=\"round\" style=\"stroke:red;stroke-width:4\"/><line x1=\"631.0703510584332\" y1=\"399.8766831662099\" x2=\"606.7013304893527\" y2=\"336.3932141644002\" stroke-linecap=\"round\" style=\"stroke:red;stroke-width:4\"/><line x1=\"606.7013304893527\" y1=\"336.3932141644002\" x2=\"641.2013304893527\" y2=\"276.63746130327394\" stroke-linecap=\"round\" style=\"stroke:red;stroke-width:4\"/><line x1=\"641.2013304893527\" y1=\"276.63746130327394\" x2=\"710.3395143310123\" y2=\"265.68704875045773\" stroke-linecap=\"round\" style=\"stroke:grey;stroke-width:4\"/><line x1=\"710.3395143310123\" y1=\"265.68704875045773\" x2=\"763.1027969399073\" y2=\"313.19532180193664\" stroke-linecap=\"round\" style=\"stroke:blue;stroke-width:4\"/><line x1=\"763.1027969399073\" y1=\"313.19532180193664\" x2=\"759.3346080904154\" y2=\"385.09664830426595\" stroke-linecap=\"round\" style=\"stroke:green;stroke-width:4\"/><line x1=\"759.3346080904154\" y1=\"385.09664830426595\" x2=\"700.2763675010442\" y2=\"428.00497172161647\" stroke-linecap=\"round\" style=\"stroke:green;stroke-width:4\"/><line x1=\"700.2763675010442\" y1=\"428.00497172161647\" x2=\"628.7978563556532\" y2=\"408.8523623840299\" stroke-linecap=\"round\" style=\"stroke:grey;stroke-width:4\"/><line x1=\"628.7978563556532\" y1=\"408.8523623840299\" x2=\"598.2926081249682\" y2=\"340.33645306083486\" stroke-linecap=\"round\" style=\"stroke:orange;stroke-width:4\"/><line x1=\"598.2926081249682\" y1=\"340.33645306083486\" x2=\"632.7958861051737\" y2=\"272.6199572225189\" stroke-linecap=\"round\" style=\"stroke:yellow;stroke-width:4\"/><line x1=\"632.7958861051737\" y1=\"272.6199572225189\" x2=\"708.1132513616767\" y2=\"256.6107570295514\" stroke-linecap=\"round\" style=\"stroke:green;stroke-width:4\"/><line x1=\"708.1132513616767\" y1=\"256.6107570295514\" x2=\"768.7306363553205\" y2=\"305.6977475314387\" stroke-linecap=\"round\" style=\"stroke:purple;stroke-width:4\"/><line x1=\"768.7306363553205\" y1=\"305.6977475314387\" x2=\"768.7306363553205\" y2=\"384.6977475314387\" stroke-linecap=\"round\" style=\"stroke:blue;stroke-width:4\"/><line x1=\"768.7306363553205\" y1=\"384.6977475314387\" x2=\"582.2156056056474\" y2=\"535.7346413833997\" stroke-linecap=\"round\" style=\"stroke:purple;stroke-width:4\"/><line x1=\"582.2156056056474\" y1=\"535.7346413833997\" x2=\"566.672686376508\" y2=\"548.3210492043964\" stroke-linecap=\"round\" style=\"stroke:purple;stroke-width:4\"/><line x1=\"566.672686376508\" y1=\"548.3210492043964\" x2=\"546.131586761098\" y2=\"543.9549036972235\" stroke-linecap=\"round\" style=\"stroke:purple;stroke-width:4\"/><line x1=\"546.131586761098\" y1=\"543.9549036972235\" x2=\"536.1437957668279\" y2=\"524.3527601650794\" stroke-linecap=\"round\" style=\"stroke:green;stroke-width:4\"/><line x1=\"536.1437957668279\" y1=\"524.3527601650794\" x2=\"545.4987385575713\" y2=\"503.3412146392996\" stroke-linecap=\"round\" style=\"stroke:grey;stroke-width:4\"/><line x1=\"545.4987385575713\" y1=\"503.3412146392996\" x2=\"568.680958388509\" y2=\"497.12955755683913\" stroke-linecap=\"round\" style=\"stroke:yellow;stroke-width:4\"/><line x1=\"568.680958388509\" y1=\"497.12955755683913\" x2=\"588.9063832478827\" y2=\"511.824188864151\" stroke-linecap=\"round\" style=\"stroke:blue;stroke-width:4\"/><line x1=\"588.9063832478827\" y1=\"511.824188864151\" x2=\"590.2671181101992\" y2=\"537.7885567677699\" stroke-linecap=\"round\" style=\"stroke:grey;stroke-width:4\"/><line x1=\"590.2671181101992\" y1=\"537.7885567677699\" x2=\"570.2022078223096\" y2=\"555.8550831394591\" stroke-linecap=\"round\" style=\"stroke:red;stroke-width:4\"/><line x1=\"570.2022078223096\" y1=\"555.8550831394591\" x2=\"542.5469342856456\" y2=\"551.4749181183327\" stroke-linecap=\"round\" style=\"stroke:blue;stroke-width:4\"/><line x1=\"542.5469342856456\" y1=\"551.4749181183327\" x2=\"528.0469342856456\" y2=\"526.3601814085839\" stroke-linecap=\"round\" style=\"stroke:grey;stroke-width:4\"/><line x1=\"528.0469342856456\" y1=\"526.3601814085839\" x2=\"538.7979727720046\" y2=\"498.3527686136679\" stroke-linecap=\"round\" style=\"stroke:grey;stroke-width:4\"/><line x1=\"538.7979727720046\" y1=\"498.3527686136679\" x2=\"568.2807247771544\" y2=\"488.7732417880445\" stroke-linecap=\"round\" style=\"stroke:orange;stroke-width:4\"/><line x1=\"568.2807247771544\" y1=\"488.7732417880445\" x2=\"595.118182951408\" y2=\"506.2016909085254\" stroke-linecap=\"round\" style=\"stroke:orange;stroke-width:4\"/><line x1=\"595.118182951408\" y1=\"506.2016909085254\" x2=\"598.5676222392406\" y2=\"539.0209134556784\" stroke-linecap=\"round\" style=\"stroke:grey;stroke-width:4\"/><line x1=\"598.5676222392406\" y1=\"539.0209134556784\" x2=\"574.525991678898\" y2=\"563.062544016021\" stroke-linecap=\"round\" style=\"stroke:orange;stroke-width:4\"/><line x1=\"574.525991678898\" y1=\"563.062544016021\" x2=\"539.7177253410084\" y2=\"559.4040478016531\" stroke-linecap=\"round\" style=\"stroke:green;stroke-width:4\"/><line x1=\"539.7177253410084\" y1=\"559.4040478016531\" x2=\"520.1107200804674\" y2=\"529.2119073556178\" stroke-linecap=\"round\" style=\"stroke:green;stroke-width:4\"/><line x1=\"520.1107200804674\" y1=\"529.2119073556178\" x2=\"531.5443488723405\" y2=\"494.0228162526971\" stroke-linecap=\"round\" style=\"stroke:grey;stroke-width:4\"/><line x1=\"531.5443488723405\" y1=\"494.0228162526971\" x2=\"567.0204050792341\" y2=\"480.4048341699757\" stroke-linecap=\"round\" style=\"stroke:red;stroke-width:4\"/><line x1=\"567.0204050792341\" y1=\"480.4048341699757\" x2=\"600.7953958268272\" y2=\"499.9048341699757\" stroke-linecap=\"round\" style=\"stroke:grey;stroke-width:4\"/><line x1=\"600.7953958268272\" y1=\"499.9048341699757\" x2=\"607.0527744284365\" y2=\"539.4123677937812\" stroke-linecap=\"round\" style=\"stroke:white;stroke-width:4\"/><line x1=\"607.0527744284365\" y1=\"539.4123677937812\" x2=\"579.6184195677233\" y2=\"569.8813056383543\" stroke-linecap=\"round\" style=\"stroke:grey;stroke-width:4\"/><line x1=\"579.6184195677233\" y1=\"569.8813056383543\" x2=\"537.6759791080312\" y2=\"567.6831954761507\" stroke-linecap=\"round\" style=\"stroke:yellow;stroke-width:4\"/><line x1=\"537.6759791080312\" y1=\"567.6831954761507\" x2=\"512.4012132594548\" y2=\"532.8954647180279\" stroke-linecap=\"round\" style=\"stroke:red;stroke-width:4\"/><line x1=\"512.4012132594548\" y1=\"532.8954647180279\" x2=\"523.7892512439657\" y2=\"490.3947283613089\" stroke-linecap=\"round\" style=\"stroke:blue;stroke-width:4\"/><line x1=\"523.7892512439657\" y1=\"490.3947283613089\" x2=\"564.8987968378827\" y2=\"472.0915794228979\" stroke-linecap=\"round\" style=\"stroke:red;stroke-width:4\"/><line x1=\"564.8987968378827\" y1=\"472.0915794228979\" x2=\"605.8850969505477\" y2=\"492.97514241091704\" stroke-linecap=\"round\" style=\"stroke:green;stroke-width:4\"/><line x1=\"605.8850969505477\" y1=\"492.97514241091704\" x2=\"615.6569464189823\" y2=\"538.9480796454059\" stroke-linecap=\"round\" style=\"stroke:orange;stroke-width:4\"/><line x1=\"615.6569464189823\" y1=\"538.9480796454059\" x2=\"585.4495676485901\" y2=\"576.2510857953405\" stroke-linecap=\"round\" style=\"stroke:orange;stroke-width:4\"/><line x1=\"585.4495676485901\" y1=\"576.2510857953405\" x2=\"225.44956764859012\" y2=\"576.2510857953405\" stroke-linecap=\"round\" style=\"stroke:purple;stroke-width:4\"/><line x1=\"225.44956764859012\" y1=\"576.2510857953405\" x2=\"176.44956764859012\" y2=\"576.2510857953405\" stroke-linecap=\"round\" style=\"stroke:purple;stroke-width:4\"/><line x1=\"176.44956764859012\" y1=\"576.2510857953405\" x2=\"144.98354809609822\" y2=\"537.393787722492\" stroke-linecap=\"round\" style=\"stroke:purple;stroke-width:4\"/><line x1=\"144.98354809609822\" y1=\"537.393787722492\" x2=\"155.58704432780394\" y2=\"487.5082600850679\" stroke-linecap=\"round\" style=\"stroke:blue;stroke-width:4\"/><line x1=\"155.58704432780394\" y1=\"487.5082600850679\" x2=\"201.91938358559906\" y2=\"463.90075409861146\" stroke-linecap=\"round\" style=\"stroke:red;stroke-width:4\"/><line x1=\"201.91938358559906\" y1=\"463.90075409861146\" x2=\"250.33729284065691\" y2=\"485.45779618162885\" stroke-linecap=\"round\" style=\"stroke:grey;stroke-width:4\"/><line x1=\"250.33729284065691\" y1=\"485.45779618162885\" x2=\"264.31352127619306\" y2=\"537.6177908012386\" stroke-linecap=\"round\" style=\"stroke:yellow;stroke-width:4\"/><line x1=\"264.31352127619306\" y1=\"537.6177908012386\" x2=\"231.98533240010704\" y2=\"582.1137254918607\" stroke-linecap=\"round\" style=\"stroke:red;stroke-width:4\"/><line x1=\"231.98533240010704\" y1=\"582.1137254918607\" x2=\"176.06207845385092\" y2=\"585.0445390414656\" stroke-linecap=\"round\" style=\"stroke:red;stroke-width:4\"/><line x1=\"176.06207845385092\" y1=\"585.0445390414656\" x2=\"137.921633891396\" y2=\"542.6852839892541\" stroke-linecap=\"round\" style=\"stroke:grey;stroke-width:4\"/><line x1=\"137.921633891396\" y1=\"542.6852839892541\" x2=\"146.99483286372939\" y2=\"485.39936023473615\" stroke-linecap=\"round\" style=\"stroke:blue;stroke-width:4\"/><line x1=\"146.99483286372939\" y1=\"485.39936023473615\" x2=\"198.09033168701126\" y2=\"455.89936023473615\" stroke-linecap=\"round\" style=\"stroke:orange;stroke-width:4\"/><line x1=\"198.09033168701126\" y1=\"455.89936023473615\" x2=\"254.10515727684336\" y2=\"477.40143720745414\" stroke-linecap=\"round\" style=\"stroke:blue;stroke-width:4\"/><line x1=\"254.10515727684336\" y1=\"477.40143720745414\" x2=\"272.9551939337151\" y2=\"535.4158847014585\" stroke-linecap=\"round\" style=\"stroke:grey;stroke-width:4\"/><line x1=\"272.9551939337151\" y1=\"535.4158847014585\" x2=\"239.18757376278344\" y2=\"587.4134599140748\" stroke-linecap=\"round\" style=\"stroke:yellow;stroke-width:4\"/><line x1=\"239.18757376278344\" y1=\"587.4134599140748\" x2=\"176.53269435458222\" y2=\"593.998753099937\" stroke-linecap=\"round\" style=\"stroke:grey;stroke-width:4\"/><line x1=\"176.53269435458222\" y1=\"593.998753099937\" x2=\"131.27786035864318\" y2=\"548.7439191039979\" stroke-linecap=\"round\" style=\"stroke:white;stroke-width:4\"/><line x1=\"131.27786035864318\" y1=\"548.7439191039979\" x2=\"138.07221047104062\" y2=\"484.0999959050601\" stroke-linecap=\"round\" style=\"stroke:yellow;stroke-width:4\"/><line x1=\"138.07221047104062\" y1=\"484.0999959050601\" x2=\"193.42446795543862\" y2=\"448.1538195940683\" stroke-linecap=\"round\" style=\"stroke:blue;stroke-width:4\"/><line x1=\"193.42446795543862\" y1=\"448.1538195940683\" x2=\"257.1452545472139\" y2=\"468.8579582171898\" stroke-linecap=\"round\" style=\"stroke:green;stroke-width:4\"/><line x1=\"257.1452545472139\" y1=\"468.8579582171898\" x2=\"281.5142751162943\" y2=\"532.3414272189995\" stroke-linecap=\"round\" style=\"stroke:grey;stroke-width:4\"/><line x1=\"281.5142751162943\" y1=\"532.3414272189995\" x2=\"247.0142751162943\" y2=\"592.0971800801258\" stroke-linecap=\"round\" style=\"stroke:orange;stroke-width:4\"/><line x1=\"247.0142751162943\" y1=\"592.0971800801258\" x2=\"177.87609127463466\" y2=\"603.0475926329419\" stroke-linecap=\"round\" style=\"stroke:red;stroke-width:4\"/><line x1=\"177.87609127463466\" y1=\"603.0475926329419\" x2=\"125.11280866573966\" y2=\"555.539319581463\" stroke-linecap=\"round\" style=\"stroke:grey;stroke-width:4\"/><line x1=\"125.11280866573966\" y1=\"555.539319581463\" x2=\"128.88099751523163\" y2=\"483.6379930791337\" stroke-linecap=\"round\" style=\"stroke:purple;stroke-width:4\"/><line x1=\"128.88099751523163\" y1=\"483.6379930791337\" x2=\"187.9392381046028\" y2=\"440.72966966178313\" stroke-linecap=\"round\" style=\"stroke:yellow;stroke-width:4\"/><line x1=\"187.9392381046028\" y1=\"440.72966966178313\" x2=\"259.41774924999385\" y2=\"459.88227899936965\" stroke-linecap=\"round\" style=\"stroke:blue;stroke-width:4\"/><line x1=\"259.41774924999385\" y1=\"459.88227899936965\" x2=\"289.9229974806789\" y2=\"528.3981883225647\" stroke-linecap=\"round\" style=\"stroke:grey;stroke-width:4\"/><line x1=\"289.9229974806789\" y1=\"528.3981883225647\" x2=\"255.41971950047332\" y2=\"596.1146841608806\" stroke-linecap=\"round\" style=\"stroke:purple;stroke-width:4\"/><line x1=\"255.41971950047332\" y1=\"596.1146841608806\" x2=\"180.1023542439703\" y2=\"612.1238843538481\" stroke-linecap=\"round\" style=\"stroke:blue;stroke-width:4\"/><line x1=\"180.1023542439703\" y1=\"612.1238843538481\" x2=\"119.48496925032657\" y2=\"563.0368938519607\" stroke-linecap=\"round\" style=\"stroke:grey;stroke-width:4\"/><line x1=\"119.48496925032657\" y1=\"563.0368938519607\" x2=\"119.48496925032656\" y2=\"484.0368938519607\" stroke-linecap=\"round\" style=\"stroke:orange;stroke-width:4\"/><line x1=\"119.48496925032656\" y1=\"484.0368938519607\" x2=\"305.9999999999995\" y2=\"332.99999999999966\" stroke-linecap=\"round\" style=\"stroke:blue;stroke-width:4\"/><line x1=\"305.9999999999995\" y1=\"332.99999999999966\" x2=\"321.5429192291389\" y2=\"320.4135921790029\" stroke-linecap=\"round\" style=\"stroke:blue;stroke-width:4\"/><line x1=\"321.5429192291389\" y1=\"320.4135921790029\" x2=\"342.0840188445488\" y2=\"324.77973768617585\" stroke-linecap=\"round\" style=\"stroke:blue;stroke-width:4\"/><line x1=\"342.0840188445488\" y1=\"324.77973768617585\" x2=\"352.0718098388188\" y2=\"344.38188121831996\" stroke-linecap=\"round\" style=\"stroke:blue;stroke-width:4\"/><line x1=\"352.0718098388188\" y1=\"344.38188121831996\" x2=\"342.7168670480754\" y2=\"365.39342674409977\" stroke-linecap=\"round\" style=\"stroke:orange;stroke-width:4\"/><line x1=\"342.7168670480754\" y1=\"365.39342674409977\" x2=\"319.5346472171378\" y2=\"371.6050838265603\" stroke-linecap=\"round\" style=\"stroke:green;stroke-width:4\"/><line x1=\"319.5346472171378\" y1=\"371.6050838265603\" x2=\"299.3092223577641\" y2=\"356.91045251924845\" stroke-linecap=\"round\" style=\"stroke:orange;stroke-width:4\"/><line x1=\"299.3092223577641\" y1=\"356.91045251924845\" x2=\"297.9484874954475\" y2=\"330.9460846156295\" stroke-linecap=\"round\" style=\"stroke:blue;stroke-width:4\"/><line x1=\"297.9484874954475\" y1=\"330.9460846156295\" x2=\"318.01339778333715\" y2=\"312.8795582439403\" stroke-linecap=\"round\" style=\"stroke:white;stroke-width:4\"/><line x1=\"318.01339778333715\" y1=\"312.8795582439403\" x2=\"345.668671320001\" y2=\"317.2597232650668\" stroke-linecap=\"round\" style=\"stroke:grey;stroke-width:4\"/><line x1=\"345.668671320001\" y1=\"317.2597232650668\" x2=\"360.168671320001\" y2=\"342.3744599748155\" stroke-linecap=\"round\" style=\"stroke:purple;stroke-width:4\"/><line x1=\"360.168671320001\" y1=\"342.3744599748155\" x2=\"349.417632833642\" y2=\"370.38187276973156\" stroke-linecap=\"round\" style=\"stroke:blue;stroke-width:4\"/><line x1=\"349.417632833642\" y1=\"370.38187276973156\" x2=\"319.9348808284923\" y2=\"379.9613995953549\" stroke-linecap=\"round\" style=\"stroke:blue;stroke-width:4\"/><line x1=\"319.9348808284923\" y1=\"379.9613995953549\" x2=\"293.0974226542387\" y2=\"362.53295047487404\" stroke-linecap=\"round\" style=\"stroke:white;stroke-width:4\"/><line x1=\"293.0974226542387\" y1=\"362.53295047487404\" x2=\"289.64798336640615\" y2=\"329.71372792772104\" stroke-linecap=\"round\" style=\"stroke:orange;stroke-width:4\"/><line x1=\"289.64798336640615\" y1=\"329.71372792772104\" x2=\"313.68961392674873\" y2=\"305.6720973673784\" stroke-linecap=\"round\" style=\"stroke:blue;stroke-width:4\"/><line x1=\"313.68961392674873\" y1=\"305.6720973673784\" x2=\"348.4978802646383\" y2=\"309.33059358174626\" stroke-linecap=\"round\" style=\"stroke:white;stroke-width:4\"/><line x1=\"348.4978802646383\" y1=\"309.33059358174626\" x2=\"368.10488552517927\" y2=\"339.52273402778155\" stroke-linecap=\"round\" style=\"stroke:yellow;stroke-width:4\"/><line x1=\"368.10488552517927\" y1=\"339.52273402778155\" x2=\"356.6712567333062\" y2=\"374.7118251307022\" stroke-linecap=\"round\" style=\"stroke:orange;stroke-width:4\"/><line x1=\"356.6712567333062\" y1=\"374.7118251307022\" x2=\"321.1952005264126\" y2=\"388.32980721342363\" stroke-linecap=\"round\" style=\"stroke:blue;stroke-width:4\"/><line x1=\"321.1952005264126\" y1=\"388.32980721342363\" x2=\"287.42020977881947\" y2=\"368.82980721342363\" stroke-linecap=\"round\" style=\"stroke:orange;stroke-width:4\"/><line x1=\"287.42020977881947\" y1=\"368.82980721342363\" x2=\"281.16283117721025\" y2=\"329.32227358961813\" stroke-linecap=\"round\" style=\"stroke:grey;stroke-width:4\"/><line x1=\"281.16283117721025\" y1=\"329.32227358961813\" x2=\"308.5971860379234\" y2=\"298.85333574504494\" stroke-linecap=\"round\" style=\"stroke:green;stroke-width:4\"/><line x1=\"308.5971860379234\" y1=\"298.85333574504494\" x2=\"350.5396264976155\" y2=\"301.0514459072486\" stroke-linecap=\"round\" style=\"stroke:white;stroke-width:4\"/><line x1=\"350.5396264976155\" y1=\"301.0514459072486\" x2=\"375.8143923461918\" y2=\"335.8391766653713\" stroke-linecap=\"round\" style=\"stroke:green;stroke-width:4\"/><line x1=\"375.8143923461918\" y1=\"335.8391766653713\" x2=\"364.4263543616809\" y2=\"378.33991302209034\" stroke-linecap=\"round\" style=\"stroke:red;stroke-width:4\"/><line x1=\"364.4263543616809\" y1=\"378.33991302209034\" x2=\"323.31680876776386\" y2=\"396.64306196050137\" stroke-linecap=\"round\" style=\"stroke:yellow;stroke-width:4\"/><line x1=\"323.31680876776386\" y1=\"396.64306196050137\" x2=\"282.3305086550989\" y2=\"375.7594989724822\" stroke-linecap=\"round\" style=\"stroke:green;stroke-width:4\"/><line x1=\"282.3305086550989\" y1=\"375.7594989724822\" x2=\"272.5586591866642\" y2=\"329.78656173799334\" stroke-linecap=\"round\" style=\"stroke:red;stroke-width:4\"/><line x1=\"272.5586591866642\" y1=\"329.78656173799334\" x2=\"302.7660379570564\" y2=\"292.4835555880587\" stroke-linecap=\"round\" style=\"stroke:orange;stroke-width:4\"/><line x1=\"302.7660379570564\" y1=\"292.4835555880587\" x2=\"351.7660379570564\" y2=\"292.4835555880587\" stroke-linecap=\"round\" style=\"stroke:yellow;stroke-width:4\"/><line x1=\"351.7660379570564\" y1=\"292.4835555880587\" x2=\"383.2320575095483\" y2=\"331.34085366090727\" stroke-linecap=\"round\" style=\"stroke:purple;stroke-width:4\"/><line x1=\"383.2320575095483\" y1=\"331.34085366090727\" x2=\"372.6285612778426\" y2=\"381.2263812983314\" stroke-linecap=\"round\" style=\"stroke:green;stroke-width:4\"/><line x1=\"372.6285612778426\" y1=\"381.2263812983314\" x2=\"326.2962220200475\" y2=\"404.8338872847878\" stroke-linecap=\"round\" style=\"stroke:grey;stroke-width:4\"/><line x1=\"326.2962220200475\" y1=\"404.8338872847878\" x2=\"277.87831276498963\" y2=\"383.2768452017704\" stroke-linecap=\"round\" style=\"stroke:orange;stroke-width:4\"/><line x1=\"277.87831276498963\" y1=\"383.2768452017704\" x2=\"263.9020843294535\" y2=\"331.11685058216074\" stroke-linecap=\"round\" style=\"stroke:white;stroke-width:4\"/><line x1=\"263.9020843294535\" y1=\"331.11685058216074\" x2=\"296.2302732055395\" y2=\"286.62091589153863\" stroke-linecap=\"round\" style=\"stroke:green;stroke-width:4\"/><line x1=\"296.2302732055395\" y1=\"286.62091589153863\" x2=\"352.15352715179563\" y2=\"283.69010234193377\" stroke-linecap=\"round\" style=\"stroke:white;stroke-width:4\"/><line x1=\"352.15352715179563\" y1=\"283.69010234193377\" x2=\"390.2939717142506\" y2=\"326.04935739414526\" stroke-linecap=\"round\" style=\"stroke:red;stroke-width:4\"/><line x1=\"390.2939717142506\" y1=\"326.04935739414526\" x2=\"381.2207727419172\" y2=\"383.3352811486632\" stroke-linecap=\"round\" style=\"stroke:orange;stroke-width:4\"/><line x1=\"381.2207727419172\" y1=\"383.3352811486632\" x2=\"330.1252739186353\" y2=\"412.8352811486632\" stroke-linecap=\"round\" style=\"stroke:yellow;stroke-width:4\"/><line x1=\"330.1252739186353\" y1=\"412.8352811486632\" x2=\"274.11044832880316\" y2=\"391.3332041759452\" stroke-linecap=\"round\" style=\"stroke:green;stroke-width:4\"/><line x1=\"274.11044832880316\" y1=\"391.3332041759452\" x2=\"255.26041167193137\" y2=\"333.31875668194084\" stroke-linecap=\"round\" style=\"stroke:grey;stroke-width:4\"/><line x1=\"255.26041167193137\" y1=\"333.31875668194084\" x2=\"289.028031842863\" y2=\"281.32118146932453\" stroke-linecap=\"round\" style=\"stroke:orange;stroke-width:4\"/><line x1=\"289.028031842863\" y1=\"281.32118146932453\" x2=\"351.68291125106424\" y2=\"274.7358882834624\" stroke-linecap=\"round\" style=\"stroke:red;stroke-width:4\"/><line x1=\"351.68291125106424\" y1=\"274.7358882834624\" x2=\"396.9377452470033\" y2=\"319.99072227940144\" stroke-linecap=\"round\" style=\"stroke:purple;stroke-width:4\"/><line x1=\"396.9377452470033\" y1=\"319.99072227940144\" x2=\"390.14339513460584\" y2=\"384.6346454783392\" stroke-linecap=\"round\" style=\"stroke:green;stroke-width:4\"/><line x1=\"390.14339513460584\" y1=\"384.6346454783392\" x2=\"334.7911376502079\" y2=\"420.580821789331\" stroke-linecap=\"round\" style=\"stroke:grey;stroke-width:4\"/><line x1=\"334.7911376502079\" y1=\"420.580821789331\" x2=\"271.0703510584326\" y2=\"399.87668316620955\" stroke-linecap=\"round\" style=\"stroke:orange;stroke-width:4\"/><line x1=\"271.0703510584326\" y1=\"399.87668316620955\" x2=\"246.70133048935216\" y2=\"336.39321416439986\" stroke-linecap=\"round\" style=\"stroke:green;stroke-width:4\"/><line x1=\"246.70133048935216\" y1=\"336.39321416439986\" x2=\"281.2013304893522\" y2=\"276.6374613032736\" stroke-linecap=\"round\" style=\"stroke:blue;stroke-width:4\"/><line x1=\"281.2013304893522\" y1=\"276.6374613032736\" x2=\"350.33951433101186\" y2=\"265.6870487504574\" stroke-linecap=\"round\" style=\"stroke:grey;stroke-width:4\"/><line x1=\"350.33951433101186\" y1=\"265.6870487504574\" x2=\"403.10279693990685\" y2=\"313.1953218019363\" stroke-linecap=\"round\" style=\"stroke:white;stroke-width:4\"/><line x1=\"403.10279693990685\" y1=\"313.1953218019363\" x2=\"399.3346080904149\" y2=\"385.0966483042656\" stroke-linecap=\"round\" style=\"stroke:purple;stroke-width:4\"/><line x1=\"399.3346080904149\" y1=\"385.0966483042656\" x2=\"340.27636750104375\" y2=\"428.00497172161613\" stroke-linecap=\"round\" style=\"stroke:green;stroke-width:4\"/><line x1=\"340.27636750104375\" y1=\"428.00497172161613\" x2=\"268.7978563556527\" y2=\"408.85236238402956\" stroke-linecap=\"round\" style=\"stroke:purple;stroke-width:4\"/><line x1=\"268.7978563556527\" y1=\"408.85236238402956\" x2=\"238.2926081249677\" y2=\"340.3364530608345\" stroke-linecap=\"round\" style=\"stroke:blue;stroke-width:4\"/><line x1=\"238.2926081249677\" y1=\"340.3364530608345\" x2=\"272.7958861051732\" y2=\"272.61995722251856\" stroke-linecap=\"round\" style=\"stroke:yellow;stroke-width:4\"/><line x1=\"272.7958861051732\" y1=\"272.61995722251856\" x2=\"348.11325136167625\" y2=\"256.61075702955105\" stroke-linecap=\"round\" style=\"stroke:yellow;stroke-width:4\"/><line x1=\"348.11325136167625\" y1=\"256.61075702955105\" x2=\"627.8857974861858\" y2=\"483.1660978074925\" stroke-linecap=\"round\" style=\"stroke:grey;stroke-width:4\"/><line x1=\"627.8857974861858\" y1=\"483.1660978074925\" x2=\"688.5031824798295\" y2=\"532.2530883093798\" stroke-linecap=\"round\" style=\"stroke:grey;stroke-width:4\"/><line x1=\"688.5031824798295\" y1=\"532.2530883093798\" x2=\"688.5031824798295\" y2=\"611.2530883093798\" stroke-linecap=\"round\" style=\"stroke:white;stroke-width:4\"/><line x1=\"688.5031824798295\" y1=\"611.2530883093798\" x2=\"501.9881517301565\" y2=\"762.2899821613407\" stroke-linecap=\"round\" style=\"stroke:purple;stroke-width:4\"/><line x1=\"501.9881517301565\" y1=\"762.2899821613407\" x2=\"486.4452325010171\" y2=\"774.8763899823375\" stroke-linecap=\"round\" style=\"stroke:purple;stroke-width:4\"/><line x1=\"486.4452325010171\" y1=\"774.8763899823375\" x2=\"465.90413288560717\" y2=\"770.5102444751645\" stroke-linecap=\"round\" style=\"stroke:red;stroke-width:4\"/><line x1=\"465.90413288560717\" y1=\"770.5102444751645\" x2=\"455.91634189133714\" y2=\"750.9081009430205\" stroke-linecap=\"round\" style=\"stroke:white;stroke-width:4\"/><line x1=\"455.91634189133714\" y1=\"750.9081009430205\" x2=\"465.27128468208053\" y2=\"729.8965554172406\" stroke-linecap=\"round\" style=\"stroke:orange;stroke-width:4\"/><line x1=\"465.27128468208053\" y1=\"729.8965554172406\" x2=\"488.4535045130182\" y2=\"723.6848983347801\" stroke-linecap=\"round\" style=\"stroke:blue;stroke-width:4\"/><line x1=\"488.4535045130182\" y1=\"723.6848983347801\" x2=\"508.67892937239185\" y2=\"738.3795296420919\" stroke-linecap=\"round\" style=\"stroke:orange;stroke-width:4\"/><line x1=\"508.67892937239185\" y1=\"738.3795296420919\" x2=\"510.03966423470837\" y2=\"764.3438975457109\" stroke-linecap=\"round\" style=\"stroke:purple;stroke-width:4\"/><line x1=\"510.03966423470837\" y1=\"764.3438975457109\" x2=\"489.97475394681874\" y2=\"782.4104239174001\" stroke-linecap=\"round\" style=\"stroke:red;stroke-width:4\"/><line x1=\"489.97475394681874\" y1=\"782.4104239174001\" x2=\"462.3194804101549\" y2=\"778.0302588962736\" stroke-linecap=\"round\" style=\"stroke:purple;stroke-width:4\"/><line x1=\"462.3194804101549\" y1=\"778.0302588962736\" x2=\"447.8194804101549\" y2=\"752.9155221865249\" stroke-linecap=\"round\" style=\"stroke:yellow;stroke-width:4\"/><line x1=\"447.8194804101549\" y1=\"752.9155221865249\" x2=\"458.5705188965139\" y2=\"724.9081093916088\" stroke-linecap=\"round\" style=\"stroke:orange;stroke-width:4\"/><line x1=\"458.5705188965139\" y1=\"724.9081093916088\" x2=\"488.0532709016636\" y2=\"715.3285825659855\" stroke-linecap=\"round\" style=\"stroke:grey;stroke-width:4\"/><line x1=\"488.0532709016636\" y1=\"715.3285825659855\" x2=\"514.8907290759172\" y2=\"732.7570316864663\" stroke-linecap=\"round\" style=\"stroke:white;stroke-width:4\"/><line x1=\"514.8907290759172\" y1=\"732.7570316864663\" x2=\"518.3401683637497\" y2=\"765.5762542336194\" stroke-linecap=\"round\" style=\"stroke:green;stroke-width:4\"/><line x1=\"518.3401683637497\" y1=\"765.5762542336194\" x2=\"494.2985378034071\" y2=\"789.6178847939619\" stroke-linecap=\"round\" style=\"stroke:orange;stroke-width:4\"/><line x1=\"494.2985378034071\" y1=\"789.6178847939619\" x2=\"459.49027146551754\" y2=\"785.959388579594\" stroke-linecap=\"round\" style=\"stroke:blue;stroke-width:4\"/><line x1=\"459.49027146551754\" y1=\"785.959388579594\" x2=\"439.88326620497656\" y2=\"755.7672481335587\" stroke-linecap=\"round\" style=\"stroke:red;stroke-width:4\"/><line x1=\"439.88326620497656\" y1=\"755.7672481335587\" x2=\"451.3168949968496\" y2=\"720.5781570306381\" stroke-linecap=\"round\" style=\"stroke:orange;stroke-width:4\"/><line x1=\"451.3168949968496\" y1=\"720.5781570306381\" x2=\"486.79295120374326\" y2=\"706.9601749479166\" stroke-linecap=\"round\" style=\"stroke:purple;stroke-width:4\"/><line x1=\"486.79295120374326\" y1=\"706.9601749479166\" x2=\"520.5679419513364\" y2=\"726.4601749479166\" stroke-linecap=\"round\" style=\"stroke:purple;stroke-width:4\"/><line x1=\"520.5679419513364\" y1=\"726.4601749479166\" x2=\"526.8253205529456\" y2=\"765.9677085717221\" stroke-linecap=\"round\" style=\"stroke:red;stroke-width:4\"/><line x1=\"526.8253205529456\" y1=\"765.9677085717221\" x2=\"499.39096569223244\" y2=\"796.4366464162953\" stroke-linecap=\"round\" style=\"stroke:grey;stroke-width:4\"/><line x1=\"499.39096569223244\" y1=\"796.4366464162953\" x2=\"457.44852523254036\" y2=\"794.2385362540916\" stroke-linecap=\"round\" style=\"stroke:grey;stroke-width:4\"/><line x1=\"457.44852523254036\" y1=\"794.2385362540916\" x2=\"432.173759383964\" y2=\"759.4508054959689\" stroke-linecap=\"round\" style=\"stroke:blue;stroke-width:4\"/><line x1=\"432.173759383964\" y1=\"759.4508054959689\" x2=\"443.5617973684749\" y2=\"716.9500691392499\" stroke-linecap=\"round\" style=\"stroke:green;stroke-width:4\"/><line x1=\"443.5617973684749\" y1=\"716.9500691392499\" x2=\"484.671342962392\" y2=\"698.6469202008388\" stroke-linecap=\"round\" style=\"stroke:blue;stroke-width:4\"/><line x1=\"484.671342962392\" y1=\"698.6469202008388\" x2=\"525.6576430750569\" y2=\"719.5304831888579\" stroke-linecap=\"round\" style=\"stroke:yellow;stroke-width:4\"/><line x1=\"525.6576430750569\" y1=\"719.5304831888579\" x2=\"535.4294925434915\" y2=\"765.5034204233468\" stroke-linecap=\"round\" style=\"stroke:green;stroke-width:4\"/><line x1=\"535.4294925434915\" y1=\"765.5034204233468\" x2=\"505.2221137730993\" y2=\"802.8064265732814\" stroke-linecap=\"round\" style=\"stroke:white;stroke-width:4\"/><line x1=\"505.2221137730993\" y1=\"802.8064265732814\" x2=\"456.2221137730993\" y2=\"802.8064265732814\" stroke-linecap=\"round\" style=\"stroke:white;stroke-width:4\"/><line x1=\"456.2221137730993\" y1=\"802.8064265732814\" x2=\"424.7560942206074\" y2=\"763.949128500433\" stroke-linecap=\"round\" style=\"stroke:green;stroke-width:4\"/><line x1=\"424.7560942206074\" y1=\"763.949128500433\" x2=\"435.3595904523131\" y2=\"714.0636008630089\" stroke-linecap=\"round\" style=\"stroke:yellow;stroke-width:4\"/><line x1=\"435.3595904523131\" y1=\"714.0636008630089\" x2=\"481.69192971010824\" y2=\"690.4560948765525\" stroke-linecap=\"round\" style=\"stroke:white;stroke-width:4\"/><line x1=\"481.69192971010824\" y1=\"690.4560948765525\" x2=\"530.1098389651661\" y2=\"712.0131369595699\" stroke-linecap=\"round\" style=\"stroke:yellow;stroke-width:4\"/><line x1=\"530.1098389651661\" y1=\"712.0131369595699\" x2=\"544.0860674007022\" y2=\"764.1731315791797\" stroke-linecap=\"round\" style=\"stroke:blue;stroke-width:4\"/><line x1=\"544.0860674007022\" y1=\"764.1731315791797\" x2=\"511.75787852461616\" y2=\"808.6690662698018\" stroke-linecap=\"round\" style=\"stroke:grey;stroke-width:4\"/><line x1=\"511.75787852461616\" y1=\"808.6690662698018\" x2=\"455.83462457836004\" y2=\"811.5998798194066\" stroke-linecap=\"round\" style=\"stroke:green;stroke-width:4\"/><line x1=\"455.83462457836004\" y1=\"811.5998798194066\" x2=\"417.69418001590515\" y2=\"769.2406247671952\" stroke-linecap=\"round\" style=\"stroke:grey;stroke-width:4\"/><line x1=\"417.69418001590515\" y1=\"769.2406247671952\" x2=\"426.76737898823853\" y2=\"711.9547010126772\" stroke-linecap=\"round\" style=\"stroke:orange;stroke-width:4\"/><line x1=\"426.76737898823853\" y1=\"711.9547010126772\" x2=\"477.8628778115204\" y2=\"682.4547010126772\" stroke-linecap=\"round\" style=\"stroke:orange;stroke-width:4\"/><line x1=\"477.8628778115204\" y1=\"682.4547010126772\" x2=\"533.8777034013525\" y2=\"703.9567779853952\" stroke-linecap=\"round\" style=\"stroke:purple;stroke-width:4\"/><line x1=\"533.8777034013525\" y1=\"703.9567779853952\" x2=\"552.7277400582243\" y2=\"761.9712254793995\" stroke-linecap=\"round\" style=\"stroke:grey;stroke-width:4\"/><line x1=\"552.7277400582243\" y1=\"761.9712254793995\" x2=\"518.9601198872926\" y2=\"813.9688006920159\" stroke-linecap=\"round\" style=\"stroke:red;stroke-width:4\"/><line x1=\"518.9601198872926\" y1=\"813.9688006920159\" x2=\"456.3052404790914\" y2=\"820.554093877878\" stroke-linecap=\"round\" style=\"stroke:grey;stroke-width:4\"/><line x1=\"456.3052404790914\" y1=\"820.554093877878\" x2=\"411.05040648315236\" y2=\"775.299259881939\" stroke-linecap=\"round\" style=\"stroke:yellow;stroke-width:4\"/><line x1=\"411.05040648315236\" y1=\"775.299259881939\" x2=\"417.8447565955498\" y2=\"710.6553366830012\" stroke-linecap=\"round\" style=\"stroke:blue;stroke-width:4\"/><line x1=\"417.8447565955498\" y1=\"710.6553366830012\" x2=\"473.1970140799478\" y2=\"674.7091603720095\" stroke-linecap=\"round\" style=\"stroke:white;stroke-width:4\"/><line x1=\"473.1970140799478\" y1=\"674.7091603720095\" x2=\"536.9178006717231\" y2=\"695.413298995131\" stroke-linecap=\"round\" style=\"stroke:yellow;stroke-width:4\"/><line x1=\"536.9178006717231\" y1=\"695.413298995131\" x2=\"561.2868212408035\" y2=\"758.8967679969406\" stroke-linecap=\"round\" style=\"stroke:red;stroke-width:4\"/><line x1=\"561.2868212408035\" y1=\"758.8967679969406\" x2=\"526.7868212408035\" y2=\"818.652520858067\" stroke-linecap=\"round\" style=\"stroke:grey;stroke-width:4\"/><line x1=\"526.7868212408035\" y1=\"818.652520858067\" x2=\"457.6486373991439\" y2=\"829.6029334108831\" stroke-linecap=\"round\" style=\"stroke:blue;stroke-width:4\"/><line x1=\"457.6486373991439\" y1=\"829.6029334108831\" x2=\"404.8853547902489\" y2=\"782.0946603594042\" stroke-linecap=\"round\" style=\"stroke:blue;stroke-width:4\"/><line x1=\"404.8853547902489\" y1=\"782.0946603594042\" x2=\"408.6535436397409\" y2=\"710.1933338570749\" stroke-linecap=\"round\" style=\"stroke:white;stroke-width:4\"/><line x1=\"408.6535436397409\" y1=\"710.1933338570749\" x2=\"467.7117842291121\" y2=\"667.2850104397244\" stroke-linecap=\"round\" style=\"stroke:purple;stroke-width:4\"/><line x1=\"467.7117842291121\" y1=\"667.2850104397244\" x2=\"539.1902953745032\" y2=\"686.4376197773109\" stroke-linecap=\"round\" style=\"stroke:purple;stroke-width:4\"/><line x1=\"539.1902953745032\" y1=\"686.4376197773109\" x2=\"569.6955436051882\" y2=\"754.953529100506\" stroke-linecap=\"round\" style=\"stroke:red;stroke-width:4\"/><line x1=\"569.6955436051882\" y1=\"754.953529100506\" x2=\"535.1922656249826\" y2=\"822.6700249388219\" stroke-linecap=\"round\" style=\"stroke:red;stroke-width:4\"/><line x1=\"535.1922656249826\" y1=\"822.6700249388219\" x2=\"459.8749003684796\" y2=\"838.6792251317894\" stroke-linecap=\"round\" style=\"stroke:grey;stroke-width:4\"/><line x1=\"459.8749003684796\" y1=\"838.6792251317894\" x2=\"399.25751537483586\" y2=\"789.592234629902\" stroke-linecap=\"round\" style=\"stroke:yellow;stroke-width:4\"/><line x1=\"399.25751537483586\" y1=\"789.592234629902\" x2=\"399.25751537483586\" y2=\"710.592234629902\" stroke-linecap=\"round\" style=\"stroke:green;stroke-width:4\"/><line x1=\"399.25751537483586\" y1=\"710.592234629902\" x2=\"585.7725461245088\" y2=\"559.555340777941\" stroke-linecap=\"round\" style=\"stroke:purple;stroke-width:4\"/><line x1=\"585.7725461245088\" y1=\"559.555340777941\" x2=\"601.3154653536483\" y2=\"546.9689329569442\" stroke-linecap=\"round\" style=\"stroke:purple;stroke-width:4\"/><line x1=\"601.3154653536483\" y1=\"546.9689329569442\" x2=\"621.8565649690582\" y2=\"551.3350784641171\" stroke-linecap=\"round\" style=\"stroke:yellow;stroke-width:4\"/><line x1=\"621.8565649690582\" y1=\"551.3350784641171\" x2=\"631.8443559633283\" y2=\"570.9372219962612\" stroke-linecap=\"round\" style=\"stroke:orange;stroke-width:4\"/><line x1=\"631.8443559633283\" y1=\"570.9372219962612\" x2=\"622.4894131725849\" y2=\"591.9487675220411\" stroke-linecap=\"round\" style=\"stroke:white;stroke-width:4\"/><line x1=\"622.4894131725849\" y1=\"591.9487675220411\" x2=\"599.3071933416473\" y2=\"598.1604246045016\" stroke-linecap=\"round\" style=\"stroke:grey;stroke-width:4\"/><line x1=\"599.3071933416473\" y1=\"598.1604246045016\" x2=\"579.0817684822737\" y2=\"583.4657932971897\" stroke-linecap=\"round\" style=\"stroke:green;stroke-width:4\"/><line x1=\"579.0817684822737\" y1=\"583.4657932971897\" x2=\"577.7210336199571\" y2=\"557.5014253935708\" stroke-linecap=\"round\" style=\"stroke:grey;stroke-width:4\"/><line x1=\"577.7210336199571\" y1=\"557.5014253935708\" x2=\"597.7859439078468\" y2=\"539.4348990218816\" stroke-linecap=\"round\" style=\"stroke:yellow;stroke-width:4\"/><line x1=\"597.7859439078468\" y1=\"539.4348990218816\" x2=\"625.4412174445106\" y2=\"543.8150640430081\" stroke-linecap=\"round\" style=\"stroke:red;stroke-width:4\"/><line x1=\"625.4412174445106\" y1=\"543.8150640430081\" x2=\"639.9412174445106\" y2=\"568.9298007527568\" stroke-linecap=\"round\" style=\"stroke:grey;stroke-width:4\"/><line x1=\"639.9412174445106\" y1=\"568.9298007527568\" x2=\"629.1901789581516\" y2=\"596.9372135476729\" stroke-linecap=\"round\" style=\"stroke:red;stroke-width:4\"/><line x1=\"629.1901789581516\" y1=\"596.9372135476729\" x2=\"599.7074269530018\" y2=\"606.5167403732962\" stroke-linecap=\"round\" style=\"stroke:yellow;stroke-width:4\"/><line x1=\"599.7074269530018\" y1=\"606.5167403732962\" x2=\"572.8699687787482\" y2=\"589.0882912528153\" stroke-linecap=\"round\" style=\"stroke:orange;stroke-width:4\"/><line x1=\"572.8699687787482\" y1=\"589.0882912528153\" x2=\"569.4205294909157\" y2=\"556.2690687056623\" stroke-linecap=\"round\" style=\"stroke:red;stroke-width:4\"/><line x1=\"569.4205294909157\" y1=\"556.2690687056623\" x2=\"593.4621600512583\" y2=\"532.2274381453198\" stroke-linecap=\"round\" style=\"stroke:purple;stroke-width:4\"/><line x1=\"593.4621600512583\" y1=\"532.2274381453198\" x2=\"628.2704263891478\" y2=\"535.8859343596877\" stroke-linecap=\"round\" style=\"stroke:orange;stroke-width:4\"/><line x1=\"628.2704263891478\" y1=\"535.8859343596877\" x2=\"647.8774316496888\" y2=\"566.078074805723\" stroke-linecap=\"round\" style=\"stroke:green;stroke-width:4\"/><line x1=\"647.8774316496888\" y1=\"566.078074805723\" x2=\"636.4438028578157\" y2=\"601.2671659086436\" stroke-linecap=\"round\" style=\"stroke:blue;stroke-width:4\"/><line x1=\"636.4438028578157\" y1=\"601.2671659086436\" x2=\"600.9677466509221\" y2=\"614.885147991365\" stroke-linecap=\"round\" style=\"stroke:yellow;stroke-width:4\"/><line x1=\"600.9677466509221\" y1=\"614.885147991365\" x2=\"567.192755903329\" y2=\"595.385147991365\" stroke-linecap=\"round\" style=\"stroke:blue;stroke-width:4\"/><line x1=\"567.192755903329\" y1=\"595.385147991365\" x2=\"560.9353773017198\" y2=\"555.8776143675594\" stroke-linecap=\"round\" style=\"stroke:grey;stroke-width:4\"/><line x1=\"560.9353773017198\" y1=\"555.8776143675594\" x2=\"588.3697321624329\" y2=\"525.4086765229863\" stroke-linecap=\"round\" style=\"stroke:purple;stroke-width:4\"/><line x1=\"588.3697321624329\" y1=\"525.4086765229863\" x2=\"630.312172622125\" y2=\"527.60678668519\" stroke-linecap=\"round\" style=\"stroke:yellow;stroke-width:4\"/><line x1=\"630.312172622125\" y1=\"527.60678668519\" x2=\"655.5869384707013\" y2=\"562.3945174433127\" stroke-linecap=\"round\" style=\"stroke:white;stroke-width:4\"/><line x1=\"655.5869384707013\" y1=\"562.3945174433127\" x2=\"644.1989004861904\" y2=\"604.8952538000317\" stroke-linecap=\"round\" style=\"stroke:purple;stroke-width:4\"/><line x1=\"644.1989004861904\" y1=\"604.8952538000317\" x2=\"603.0893548922734\" y2=\"623.1984027384427\" stroke-linecap=\"round\" style=\"stroke:yellow;stroke-width:4\"/><line x1=\"603.0893548922734\" y1=\"623.1984027384427\" x2=\"562.1030547796084\" y2=\"602.3148397504236\" stroke-linecap=\"round\" style=\"stroke:blue;stroke-width:4\"/><line x1=\"562.1030547796084\" y1=\"602.3148397504236\" x2=\"487.2548460852149\" y2=\"250.18170348625364\" stroke-linecap=\"round\" style=\"stroke:blue;stroke-width:4\"/><line x1=\"487.2548460852149\" y1=\"250.18170348625364\" x2=\"477.4829966167802\" y2=\"204.20876625176479\" stroke-linecap=\"round\" style=\"stroke:blue;stroke-width:4\"/><line x1=\"477.4829966167802\" y1=\"204.20876625176479\" x2=\"507.6903753871724\" y2=\"166.9057601018302\" stroke-linecap=\"round\" style=\"stroke:blue;stroke-width:4\"/><line x1=\"507.6903753871724\" y1=\"166.9057601018302\" x2=\"556.6903753871725\" y2=\"166.9057601018302\" stroke-linecap=\"round\" style=\"stroke:grey;stroke-width:4\"/><line x1=\"556.6903753871725\" y1=\"166.9057601018302\" x2=\"588.1563949396643\" y2=\"205.76305817467875\" stroke-linecap=\"round\" style=\"stroke:green;stroke-width:4\"/><line x1=\"588.1563949396643\" y1=\"205.76305817467875\" x2=\"577.5528987079585\" y2=\"255.64858581210285\" stroke-linecap=\"round\" style=\"stroke:red;stroke-width:4\"/><line x1=\"577.5528987079585\" y1=\"255.64858581210285\" x2=\"531.2205594501634\" y2=\"279.2560917985593\" stroke-linecap=\"round\" style=\"stroke:blue;stroke-width:4\"/><line x1=\"531.2205594501634\" y1=\"279.2560917985593\" x2=\"482.8026501951055\" y2=\"257.6990497155419\" stroke-linecap=\"round\" style=\"stroke:yellow;stroke-width:4\"/><line x1=\"482.8026501951055\" y1=\"257.6990497155419\" x2=\"468.82642175956937\" y2=\"205.5390550959322\" stroke-linecap=\"round\" style=\"stroke:purple;stroke-width:4\"/><line x1=\"468.82642175956937\" y1=\"205.5390550959322\" x2=\"501.1546106356554\" y2=\"161.0431204053101\" stroke-linecap=\"round\" style=\"stroke:purple;stroke-width:4\"/><line x1=\"501.1546106356554\" y1=\"161.0431204053101\" x2=\"557.0778645819115\" y2=\"158.1123068557052\" stroke-linecap=\"round\" style=\"stroke:blue;stroke-width:4\"/><line x1=\"557.0778645819115\" y1=\"158.1123068557052\" x2=\"595.2183091443665\" y2=\"200.47156190791668\" stroke-linecap=\"round\" style=\"stroke:white;stroke-width:4\"/><line x1=\"595.2183091443665\" y1=\"200.47156190791668\" x2=\"586.1451101720331\" y2=\"257.75748566243465\" stroke-linecap=\"round\" style=\"stroke:purple;stroke-width:4\"/><line x1=\"586.1451101720331\" y1=\"257.75748566243465\" x2=\"535.0496113487512\" y2=\"287.25748566243465\" stroke-linecap=\"round\" style=\"stroke:white;stroke-width:4\"/><line x1=\"535.0496113487512\" y1=\"287.25748566243465\" x2=\"479.0347857589191\" y2=\"265.7554086897166\" stroke-linecap=\"round\" style=\"stroke:purple;stroke-width:4\"/><line x1=\"479.0347857589191\" y1=\"265.7554086897166\" x2=\"460.1847491020473\" y2=\"207.74096119571223\" stroke-linecap=\"round\" style=\"stroke:yellow;stroke-width:4\"/><line x1=\"460.1847491020473\" y1=\"207.74096119571223\" x2=\"493.95236927297896\" y2=\"155.74338598309592\" stroke-linecap=\"round\" style=\"stroke:white;stroke-width:4\"/><line x1=\"493.95236927297896\" y1=\"155.74338598309592\" x2=\"556.6072486811802\" y2=\"149.15809279723376\" stroke-linecap=\"round\" style=\"stroke:blue;stroke-width:4\"/><line x1=\"556.6072486811802\" y1=\"149.15809279723376\" x2=\"601.8620826771192\" y2=\"194.4129267931728\" stroke-linecap=\"round\" style=\"stroke:white;stroke-width:4\"/><line x1=\"601.8620826771192\" y1=\"194.4129267931728\" x2=\"595.0677325647217\" y2=\"259.0568499921106\" stroke-linecap=\"round\" style=\"stroke:orange;stroke-width:4\"/><line x1=\"595.0677325647217\" y1=\"259.0568499921106\" x2=\"539.7154750803237\" y2=\"295.0030263031024\" stroke-linecap=\"round\" style=\"stroke:yellow;stroke-width:4\"/><line x1=\"539.7154750803237\" y1=\"295.0030263031024\" x2=\"475.9946884885484\" y2=\"274.2988876799809\" stroke-linecap=\"round\" style=\"stroke:orange;stroke-width:4\"/><line x1=\"475.9946884885484\" y1=\"274.2988876799809\" x2=\"451.6256679194679\" y2=\"210.8154186781712\" stroke-linecap=\"round\" style=\"stroke:white;stroke-width:4\"/><line x1=\"451.6256679194679\" y1=\"210.8154186781712\" x2=\"486.1256679194679\" y2=\"151.05966581704493\" stroke-linecap=\"round\" style=\"stroke:yellow;stroke-width:4\"/><line x1=\"486.1256679194679\" y1=\"151.05966581704493\" x2=\"555.2638517611275\" y2=\"140.10925326422876\" stroke-linecap=\"round\" style=\"stroke:orange;stroke-width:4\"/><line x1=\"555.2638517611275\" y1=\"140.10925326422876\" x2=\"608.0271343700225\" y2=\"187.6175263157077\" stroke-linecap=\"round\" style=\"stroke:white;stroke-width:4\"/><line x1=\"608.0271343700225\" y1=\"187.6175263157077\" x2=\"604.2589455205306\" y2=\"259.518852818037\" stroke-linecap=\"round\" style=\"stroke:blue;stroke-width:4\"/><line x1=\"604.2589455205306\" y1=\"259.518852818037\" x2=\"545.2007049311594\" y2=\"302.4271762353875\" stroke-linecap=\"round\" style=\"stroke:orange;stroke-width:4\"/><line x1=\"545.2007049311594\" y1=\"302.4271762353875\" x2=\"473.72219378576835\" y2=\"283.2745668978009\" stroke-linecap=\"round\" style=\"stroke:orange;stroke-width:4\"/><line x1=\"473.72219378576835\" y1=\"283.2745668978009\" x2=\"443.2169455550833\" y2=\"214.75865757460585\" stroke-linecap=\"round\" style=\"stroke:orange;stroke-width:4\"/><line x1=\"443.2169455550833\" y1=\"214.75865757460585\" x2=\"477.7202235352889\" y2=\"147.04216173628987\" stroke-linecap=\"round\" style=\"stroke:yellow;stroke-width:4\"/><line x1=\"477.7202235352889\" y1=\"147.04216173628987\" x2=\"553.0375887917919\" y2=\"131.03296154332236\" stroke-linecap=\"round\" style=\"stroke:yellow;stroke-width:4\"/><line x1=\"553.0375887917919\" y1=\"131.03296154332236\" x2=\"613.6549737854357\" y2=\"180.1199520452097\" stroke-linecap=\"round\" style=\"stroke:purple;stroke-width:4\"/><line x1=\"613.6549737854357\" y1=\"180.1199520452097\" x2=\"613.6549737854357\" y2=\"259.1199520452097\" stroke-linecap=\"round\" style=\"stroke:yellow;stroke-width:4\"/><line x1=\"613.6549737854357\" y1=\"259.1199520452097\" x2=\"427.13994303576266\" y2=\"410.1568458971707\" stroke-linecap=\"round\" style=\"stroke:blue;stroke-width:4\"/><line x1=\"427.13994303576266\" y1=\"410.1568458971707\" x2=\"411.5970238066232\" y2=\"422.7432537181674\" stroke-linecap=\"round\" style=\"stroke:blue;stroke-width:4\"/><line x1=\"411.5970238066232\" y1=\"422.7432537181674\" x2=\"391.0559241912133\" y2=\"418.37710821099444\" stroke-linecap=\"round\" style=\"stroke:blue;stroke-width:4\"/><line x1=\"391.0559241912133\" y1=\"418.37710821099444\" x2=\"381.0681331969433\" y2=\"398.7749646788503\" stroke-linecap=\"round\" style=\"stroke:red;stroke-width:4\"/><line x1=\"381.0681331969433\" y1=\"398.7749646788503\" x2=\"390.4230759876867\" y2=\"377.7634191530705\" stroke-linecap=\"round\" style=\"stroke:yellow;stroke-width:4\"/><line x1=\"390.4230759876867\" y1=\"377.7634191530705\" x2=\"413.6052958186243\" y2=\"371.55176207061004\" stroke-linecap=\"round\" style=\"stroke:purple;stroke-width:4\"/><line x1=\"413.6052958186243\" y1=\"371.55176207061004\" x2=\"433.830720677998\" y2=\"386.2463933779219\" stroke-linecap=\"round\" style=\"stroke:green;stroke-width:4\"/><line x1=\"433.830720677998\" y1=\"386.2463933779219\" x2=\"435.1914555403145\" y2=\"412.21076128154084\" stroke-linecap=\"round\" style=\"stroke:green;stroke-width:4\"/><line x1=\"435.1914555403145\" y1=\"412.21076128154084\" x2=\"415.1265452524249\" y2=\"430.27728765323\" stroke-linecap=\"round\" style=\"stroke:red;stroke-width:4\"/><line x1=\"415.1265452524249\" y1=\"430.27728765323\" x2=\"387.471271715761\" y2=\"425.89712263210356\" stroke-linecap=\"round\" style=\"stroke:green;stroke-width:4\"/><line x1=\"387.471271715761\" y1=\"425.89712263210356\" x2=\"372.971271715761\" y2=\"400.7823859223548\" stroke-linecap=\"round\" style=\"stroke:white;stroke-width:4\"/><line x1=\"372.971271715761\" y1=\"400.7823859223548\" x2=\"383.72231020212\" y2=\"372.7749731274388\" stroke-linecap=\"round\" style=\"stroke:green;stroke-width:4\"/><line x1=\"383.72231020212\" y1=\"372.7749731274388\" x2=\"413.20506220726975\" y2=\"363.1954463018154\" stroke-linecap=\"round\" style=\"stroke:green;stroke-width:4\"/><line x1=\"413.20506220726975\" y1=\"363.1954463018154\" x2=\"440.04252038152333\" y2=\"380.6238954222963\" stroke-linecap=\"round\" style=\"stroke:red;stroke-width:4\"/><line x1=\"440.04252038152333\" y1=\"380.6238954222963\" x2=\"443.4919596693559\" y2=\"413.4431179694493\" stroke-linecap=\"round\" style=\"stroke:white;stroke-width:4\"/><line x1=\"443.4919596693559\" y1=\"413.4431179694493\" x2=\"419.45032910901324\" y2=\"437.48474852979194\" stroke-linecap=\"round\" style=\"stroke:white;stroke-width:4\"/><line x1=\"419.45032910901324\" y1=\"437.48474852979194\" x2=\"384.6420627711237\" y2=\"433.8262523154241\" stroke-linecap=\"round\" style=\"stroke:red;stroke-width:4\"/><line x1=\"384.6420627711237\" y1=\"433.8262523154241\" x2=\"365.0350575105827\" y2=\"403.6341118693888\" stroke-linecap=\"round\" style=\"stroke:purple;stroke-width:4\"/><line x1=\"365.0350575105827\" y1=\"403.6341118693888\" x2=\"376.46868630245575\" y2=\"368.44502076646813\" stroke-linecap=\"round\" style=\"stroke:green;stroke-width:4\"/><line x1=\"376.46868630245575\" y1=\"368.44502076646813\" x2=\"411.9447425093494\" y2=\"354.8270386837467\" stroke-linecap=\"round\" style=\"stroke:blue;stroke-width:4\"/><line x1=\"411.9447425093494\" y1=\"354.8270386837467\" x2=\"445.7197332569425\" y2=\"374.3270386837467\" stroke-linecap=\"round\" style=\"stroke:grey;stroke-width:4\"/><line x1=\"445.7197332569425\" y1=\"374.3270386837467\" x2=\"451.9771118585517\" y2=\"413.8345723075522\" stroke-linecap=\"round\" style=\"stroke:purple;stroke-width:4\"/><line x1=\"451.9771118585517\" y1=\"413.8345723075522\" x2=\"424.5427569978385\" y2=\"444.3035101521254\" stroke-linecap=\"round\" style=\"stroke:purple;stroke-width:4\"/><line x1=\"424.5427569978385\" y1=\"444.3035101521254\" x2=\"382.60031653814644\" y2=\"442.10539998992175\" stroke-linecap=\"round\" style=\"stroke:red;stroke-width:4\"/><line x1=\"382.60031653814644\" y1=\"442.10539998992175\" x2=\"357.3255506895701\" y2=\"407.317669231799\" stroke-linecap=\"round\" style=\"stroke:yellow;stroke-width:4\"/><line x1=\"357.3255506895701\" y1=\"407.317669231799\" x2=\"368.713588674081\" y2=\"364.81693287508\" stroke-linecap=\"round\" style=\"stroke:red;stroke-width:4\"/><line x1=\"368.713588674081\" y1=\"364.81693287508\" x2=\"409.82313426799806\" y2=\"346.513783936669\" stroke-linecap=\"round\" style=\"stroke:yellow;stroke-width:4\"/><line x1=\"409.82313426799806\" y1=\"346.513783936669\" x2=\"450.809434380663\" y2=\"367.3973469246881\" stroke-linecap=\"round\" style=\"stroke:grey;stroke-width:4\"/><line x1=\"450.809434380663\" y1=\"367.3973469246881\" x2=\"460.5812838490977\" y2=\"413.370284159177\" stroke-linecap=\"round\" style=\"stroke:white;stroke-width:4\"/><line x1=\"460.5812838490977\" y1=\"413.370284159177\" x2=\"430.3739050787055\" y2=\"450.6732903091116\" stroke-linecap=\"round\" style=\"stroke:red;stroke-width:4\"/><line x1=\"430.3739050787055\" y1=\"450.6732903091116\" x2=\"381.3739050787055\" y2=\"450.6732903091116\" stroke-linecap=\"round\" style=\"stroke:orange;stroke-width:4\"/><line x1=\"381.3739050787055\" y1=\"450.6732903091116\" x2=\"349.9078855262136\" y2=\"411.81599223626307\" stroke-linecap=\"round\" style=\"stroke:white;stroke-width:4\"/><line x1=\"349.9078855262136\" y1=\"411.81599223626307\" x2=\"360.5113817579193\" y2=\"361.93046459883897\" stroke-linecap=\"round\" style=\"stroke:grey;stroke-width:4\"/><line x1=\"360.5113817579193\" y1=\"361.93046459883897\" x2=\"406.84372101571444\" y2=\"338.32295861238254\" stroke-linecap=\"round\" style=\"stroke:orange;stroke-width:4\"/><line x1=\"406.84372101571444\" y1=\"338.32295861238254\" x2=\"455.2616302707723\" y2=\"359.88000069539993\" stroke-linecap=\"round\" style=\"stroke:yellow;stroke-width:4\"/><line x1=\"455.2616302707723\" y1=\"359.88000069539993\" x2=\"469.23785870630843\" y2=\"412.0399953150096\" stroke-linecap=\"round\" style=\"stroke:white;stroke-width:4\"/><line x1=\"469.23785870630843\" y1=\"412.0399953150096\" x2=\"436.9096698302224\" y2=\"456.5359300056317\" stroke-linecap=\"round\" style=\"stroke:blue;stroke-width:4\"/><line x1=\"436.9096698302224\" y1=\"456.5359300056317\" x2=\"380.9864158839663\" y2=\"459.4667435552366\" stroke-linecap=\"round\" style=\"stroke:grey;stroke-width:4\"/><line x1=\"380.9864158839663\" y1=\"459.4667435552366\" x2=\"342.8459713215114\" y2=\"417.1074885030251\" stroke-linecap=\"round\" style=\"stroke:red;stroke-width:4\"/><line x1=\"342.8459713215114\" y1=\"417.1074885030251\" x2=\"351.9191702938448\" y2=\"359.8215647485071\" stroke-linecap=\"round\" style=\"stroke:yellow;stroke-width:4\"/><line x1=\"351.9191702938448\" y1=\"359.8215647485071\" x2=\"403.01466911712663\" y2=\"330.3215647485071\" stroke-linecap=\"round\" style=\"stroke:red;stroke-width:4\"/><line x1=\"403.01466911712663\" y1=\"330.3215647485071\" x2=\"459.02949470695876\" y2=\"351.82364172122516\" stroke-linecap=\"round\" style=\"stroke:yellow;stroke-width:4\"/><line x1=\"459.02949470695876\" y1=\"351.82364172122516\" x2=\"477.87953136383055\" y2=\"409.8380892152295\" stroke-linecap=\"round\" style=\"stroke:white;stroke-width:4\"/><line x1=\"477.87953136383055\" y1=\"409.8380892152295\" x2=\"444.1119111928989\" y2=\"461.8356644278458\" stroke-linecap=\"round\" style=\"stroke:purple;stroke-width:4\"/><line x1=\"444.1119111928989\" y1=\"461.8356644278458\" x2=\"381.4570317846977\" y2=\"468.420957613708\" stroke-linecap=\"round\" style=\"stroke:orange;stroke-width:4\"/><line x1=\"381.4570317846977\" y1=\"468.420957613708\" x2=\"336.2021977887586\" y2=\"423.166123617769\" stroke-linecap=\"round\" style=\"stroke:purple;stroke-width:4\"/><line x1=\"336.2021977887586\" y1=\"423.166123617769\" x2=\"342.9965479011561\" y2=\"358.52220041883123\" stroke-linecap=\"round\" style=\"stroke:red;stroke-width:4\"/><line x1=\"342.9965479011561\" y1=\"358.52220041883123\" x2=\"398.34880538555404\" y2=\"322.57602410783943\" stroke-linecap=\"round\" style=\"stroke:purple;stroke-width:4\"/><line x1=\"398.34880538555404\" y1=\"322.57602410783943\" x2=\"462.0695919773293\" y2=\"343.2801627309609\" stroke-linecap=\"round\" style=\"stroke:red;stroke-width:4\"/><line x1=\"462.0695919773293\" y1=\"343.2801627309609\" x2=\"486.43861254640973\" y2=\"406.76363173277065\" stroke-linecap=\"round\" style=\"stroke:yellow;stroke-width:4\"/><line x1=\"486.43861254640973\" y1=\"406.76363173277065\" x2=\"451.93861254640973\" y2=\"466.5193845938969\" stroke-linecap=\"round\" style=\"stroke:green;stroke-width:4\"/><line x1=\"451.93861254640973\" y1=\"466.5193845938969\" x2=\"382.80042870475006\" y2=\"477.46979714671306\" stroke-linecap=\"round\" style=\"stroke:green;stroke-width:4\"/><line x1=\"382.80042870475006\" y1=\"477.46979714671306\" x2=\"330.03714609585506\" y2=\"429.96152409523415\" stroke-linecap=\"round\" style=\"stroke:purple;stroke-width:4\"/><line x1=\"330.03714609585506\" y1=\"429.96152409523415\" x2=\"333.80533494534706\" y2=\"358.06019759290484\" stroke-linecap=\"round\" style=\"stroke:red;stroke-width:4\"/><line x1=\"333.80533494534706\" y1=\"358.06019759290484\" x2=\"392.8635755347182\" y2=\"315.15187417555427\" stroke-linecap=\"round\" style=\"stroke:yellow;stroke-width:4\"/><line x1=\"392.8635755347182\" y1=\"315.15187417555427\" x2=\"464.3420866801093\" y2=\"334.3044835131408\" stroke-linecap=\"round\" style=\"stroke:orange;stroke-width:4\"/><line x1=\"464.3420866801093\" y1=\"334.3044835131408\" x2=\"494.8473349107943\" y2=\"402.8203928363358\" stroke-linecap=\"round\" style=\"stroke:red;stroke-width:4\"/>\n",
              "        \n",
              "      <g visibility=visible transform=\"rotate(-24,494.8473349107943,402.8203928363358) translate(494.8473349107943, 402.8203928363358)\">\n",
              "        <circle stroke=\"red\" stroke-width=\"3\" fill=\"transparent\" r=\"12\" cx=\"0\" cy=\"0\"/>\n",
              "        <polygon points=\"0,19 3,16 -3,16\" style=\"fill:red;stroke:red;stroke-width:2\"/>\n",
              "      </g>\n",
              "    \n",
              "      </svg>\n",
              "    "
            ],
            "text/plain": [
              "<IPython.core.display.HTML object>"
            ]
          },
          "metadata": {
            "tags": []
          }
        }
      ]
    },
    {
      "cell_type": "markdown",
      "metadata": {
        "id": "a2qnY8Jm4Exn"
      },
      "source": [
        ""
      ]
    },
    {
      "cell_type": "markdown",
      "metadata": {
        "id": "KBTyVLlPIorm"
      },
      "source": [
        "##Draw a random geometry"
      ]
    },
    {
      "cell_type": "code",
      "metadata": {
        "id": "f9c_V2n2p_zi",
        "outputId": "6a4d0515-bbff-48bf-98bc-06333f01b8b8",
        "colab": {
          "base_uri": "https://localhost:8080/",
          "height": 520
        }
      },
      "source": [
        "import random\n",
        "PEN_COLORS = ('white', 'yellow', 'orange', 'red', 'green', 'blue', 'purple', 'grey')\n",
        "pen_color = 'purple'\n",
        "ww = 800\n",
        "wh = 500\n",
        "WINDOW_SIZE = (ww, wh)\n",
        "alex.initializeTurtle(initial_window_size=WINDOW_SIZE)\n",
        "# move the pen to the left and lower place\n",
        "alex.penup()\n",
        "alex.goto(int(ww*1/2),int(wh*1/2))\n",
        "alex.pendown()\n",
        "alex.speed(7)\n",
        "alex.color(pen_color)\n",
        "\n",
        "random.seed()\n",
        "N = 180\n",
        "for n in np.arange(N):\n",
        "  color_rn = random.randrange(8)\n",
        "  alex.color(PEN_COLORS[color_rn])\n",
        "  angle_rn = 67#random.randrange(180)\n",
        "  alex.right(angle_rn)\n",
        "  length_rn = random.randrange(60)\n",
        "  alex.forward(length_rn)\n",
        "\n"
      ],
      "execution_count": 42,
      "outputs": [
        {
          "output_type": "display_data",
          "data": {
            "text/html": [
              "\n",
              "      <svg width=\"800\" height=\"500\">\n",
              "        <rect width=\"100%\" height=\"100%\" fill=\"black\"/>\n",
              "        <line x1=\"400\" y1=\"250\" x2=\"441.42271840535983\" y2=\"232.41709921798267\" stroke-linecap=\"round\" style=\"stroke:yellow;stroke-width:4\"/><line x1=\"441.42271840535983\" y1=\"232.41709921798267\" x2=\"469.47697061856724\" y2=\"259.50877566588355\" stroke-linecap=\"round\" style=\"stroke:yellow;stroke-width:4\"/><line x1=\"469.47697061856724\" y1=\"259.50877566588355\" x2=\"456.2173564853911\" y2=\"294.05125144628\" stroke-linecap=\"round\" style=\"stroke:blue;stroke-width:4\"/><line x1=\"456.2173564853911\" y1=\"294.05125144628\" x2=\"409.2459876154936\" y2=\"295.6915277912975\" stroke-linecap=\"round\" style=\"stroke:green;stroke-width:4\"/><line x1=\"409.2459876154936\" y1=\"295.6915277912975\" x2=\"388.96031105194004\" y2=\"252.1887540135383\" stroke-linecap=\"round\" style=\"stroke:grey;stroke-width:4\"/><line x1=\"388.96031105194004\" y1=\"252.1887540135383\" x2=\"391.6368334773755\" y2=\"249.21617471162872\" stroke-linecap=\"round\" style=\"stroke:yellow;stroke-width:4\"/><line x1=\"391.6368334773755\" y1=\"249.21617471162872\" x2=\"423.7844650477523\" y2=\"260.28549196317203\" stroke-linecap=\"round\" style=\"stroke:blue;stroke-width:4\"/><line x1=\"423.7844650477523\" y1=\"260.28549196317203\" x2=\"425.8074027863319\" y2=\"289.2148494207069\" stroke-linecap=\"round\" style=\"stroke:yellow;stroke-width:4\"/><line x1=\"425.8074027863319\" y1=\"289.2148494207069\" x2=\"385.7121091978554\" y2=\"309.64442190898654\" stroke-linecap=\"round\" style=\"stroke:yellow;stroke-width:4\"/><line x1=\"385.7121091978554\" y1=\"309.64442190898654\" x2=\"367.3270425629999\" y2=\"294.2175192765096\" stroke-linecap=\"round\" style=\"stroke:red;stroke-width:4\"/><line x1=\"367.3270425629999\" y1=\"294.2175192765096\" x2=\"377.26768052357295\" y2=\"261.7031575737664\" stroke-linecap=\"round\" style=\"stroke:orange;stroke-width:4\"/><line x1=\"377.26768052357295\" y1=\"261.7031575737664\" x2=\"401.1362060124115\" y2=\"259.19447445534274\" stroke-linecap=\"round\" style=\"stroke:green;stroke-width:4\"/><line x1=\"401.1362060124115\" y1=\"259.19447445534274\" x2=\"419.5589715817723\" y2=\"292.4300233266398\" stroke-linecap=\"round\" style=\"stroke:green;stroke-width:4\"/><line x1=\"419.5589715817723\" y1=\"292.4300233266398\" x2=\"386.31325191418676\" y2=\"334.9826040214028\" stroke-linecap=\"round\" style=\"stroke:red;stroke-width:4\"/><line x1=\"386.31325191418676\" y1=\"334.9826040214028\" x2=\"368.9265870409835\" y2=\"330.3238612095574\" stroke-linecap=\"round\" style=\"stroke:red;stroke-width:4\"/><line x1=\"368.9265870409835\" y1=\"330.3238612095574\" x2=\"361.41123958913994\" y2=\"276.84938549751257\" stroke-linecap=\"round\" style=\"stroke:orange;stroke-width:4\"/><line x1=\"361.41123958913994\" y1=\"276.84938549751257\" x2=\"392.26926241441595\" y2=\"258.3080148007506\" stroke-linecap=\"round\" style=\"stroke:green;stroke-width:4\"/><line x1=\"392.26926241441595\" y1=\"258.3080148007506\" x2=\"421.39387421191407\" y2=\"279.46828388327964\" stroke-linecap=\"round\" style=\"stroke:red;stroke-width:4\"/><line x1=\"421.39387421191407\" y1=\"279.46828388327964\" x2=\"413.7455383642227\" y2=\"312.59686608597764\" stroke-linecap=\"round\" style=\"stroke:grey;stroke-width:4\"/><line x1=\"413.7455383642227\" y1=\"312.59686608597764\" x2=\"372.38361273770994\" y2=\"319.89008954798874\" stroke-linecap=\"round\" style=\"stroke:blue;stroke-width:4\"/><line x1=\"372.38361273770994\" y1=\"319.89008954798874\" x2=\"352.23196844215397\" y2=\"288.85927853400807\" stroke-linecap=\"round\" style=\"stroke:purple;stroke-width:4\"/><line x1=\"352.23196844215397\" y1=\"288.85927853400807\" x2=\"357.8238974768614\" y2=\"280.56890280845766\" stroke-linecap=\"round\" style=\"stroke:blue;stroke-width:4\"/><line x1=\"357.8238974768614\" y1=\"280.56890280845766\" x2=\"396.1073576313203\" y2=\"288.0104536281429\" stroke-linecap=\"round\" style=\"stroke:orange;stroke-width:4\"/><line x1=\"396.1073576313203\" y1=\"288.0104536281429\" x2=\"401.92888497421757\" y2=\"315.39858644868946\" stroke-linecap=\"round\" style=\"stroke:yellow;stroke-width:4\"/><line x1=\"401.92888497421757\" y1=\"315.39858644868946\" x2=\"379.8117797784148\" y2=\"330.8851502301677\" stroke-linecap=\"round\" style=\"stroke:grey;stroke-width:4\"/><line x1=\"379.8117797784148\" y1=\"330.8851502301677\" x2=\"343.3457116436885\" y2=\"308.0986218681399\" stroke-linecap=\"round\" style=\"stroke:orange;stroke-width:4\"/><line x1=\"343.3457116436885\" y1=\"308.0986218681399\" x2=\"351.0110004306598\" y2=\"259.70189317897814\" stroke-linecap=\"round\" style=\"stroke:yellow;stroke-width:4\"/><line x1=\"351.0110004306598\" y1=\"259.70189317897814\" x2=\"403.4069696495636\" y2=\"246.63811081659608\" stroke-linecap=\"round\" style=\"stroke:purple;stroke-width:4\"/><line x1=\"403.4069696495636\" y1=\"246.63811081659608\" x2=\"413.63782504314844\" y2=\"260.21491448740005\" stroke-linecap=\"round\" style=\"stroke:green;stroke-width:4\"/><line x1=\"413.63782504314844\" y1=\"260.21491448740005\" x2=\"402.13782504314844\" y2=\"280.13349877444216\" stroke-linecap=\"round\" style=\"stroke:yellow;stroke-width:4\"/><line x1=\"402.13782504314844\" y1=\"280.13349877444216\" x2=\"400.15273273986577\" y2=\"279.8897600876319\" stroke-linecap=\"round\" style=\"stroke:blue;stroke-width:4\"/><line x1=\"400.15273273986577\" y1=\"279.8897600876319\" x2=\"385.8195902373818\" y2=\"229.9041518988393\" stroke-linecap=\"round\" style=\"stroke:green;stroke-width:4\"/><line x1=\"385.8195902373818\" y1=\"229.9041518988393\" x2=\"413.7968448498328\" y2=\"207.24861782104514\" stroke-linecap=\"round\" style=\"stroke:green;stroke-width:4\"/><line x1=\"413.7968448498328\" y1=\"207.24861782104514\" x2=\"453.5294865284845\" y2=\"228.37483814641024\" stroke-linecap=\"round\" style=\"stroke:green;stroke-width:4\"/><line x1=\"453.5294865284845\" y1=\"228.37483814641024\" x2=\"453.44233078573683\" y2=\"229.371032844502\" stroke-linecap=\"round\" style=\"stroke:orange;stroke-width:4\"/><line x1=\"453.44233078573683\" y1=\"229.371032844502\" x2=\"444.8828221390805\" y2=\"232.15218579387653\" stroke-linecap=\"round\" style=\"stroke:purple;stroke-width:4\"/><line x1=\"444.8828221390805\" y1=\"232.15218579387653\" x2=\"423.23287418239374\" y2=\"207.24676964652505\" stroke-linecap=\"round\" style=\"stroke:grey;stroke-width:4\"/><line x1=\"423.23287418239374\" y1=\"207.24676964652505\" x2=\"428.49332794386265\" y2=\"196.46124109093506\" stroke-linecap=\"round\" style=\"stroke:purple;stroke-width:4\"/><line x1=\"428.49332794386265\" y1=\"196.46124109093506\" x2=\"460.449473056009\" y2=\"198.13599169070926\" stroke-linecap=\"round\" style=\"stroke:blue;stroke-width:4\"/><line x1=\"460.449473056009\" y1=\"198.13599169070926\" x2=\"462.1595737726374\" y2=\"202.83445479463882\" stroke-linecap=\"round\" style=\"stroke:grey;stroke-width:4\"/><line x1=\"462.1595737726374\" y1=\"202.83445479463882\" x2=\"438.02490161920474\" y2=\"225.34040067670128\" stroke-linecap=\"round\" style=\"stroke:yellow;stroke-width:4\"/><line x1=\"438.02490161920474\" y1=\"225.34040067670128\" x2=\"421.58108338163794\" y2=\"218.01914110133688\" stroke-linecap=\"round\" style=\"stroke:green;stroke-width:4\"/><line x1=\"421.58108338163794\" y1=\"218.01914110133688\" x2=\"422.08720316831915\" y2=\"189.02355794180153\" stroke-linecap=\"round\" style=\"stroke:yellow;stroke-width:4\"/><line x1=\"422.08720316831915\" y1=\"189.02355794180153\" x2=\"474.936682878626\" y2=\"167.67098211709452\" stroke-linecap=\"round\" style=\"stroke:green;stroke-width:4\"/><line x1=\"474.936682878626\" y1=\"167.67098211709452\" x2=\"515.2417694062592\" y2=\"207.97606864472772\" stroke-linecap=\"round\" style=\"stroke:purple;stroke-width:4\"/><line x1=\"515.2417694062592\" y1=\"207.97606864472772\" x2=\"508.4988507247728\" y2=\"224.6653780269299\" stroke-linecap=\"round\" style=\"stroke:grey;stroke-width:4\"/><line x1=\"508.4988507247728\" y1=\"224.6653780269299\" x2=\"492.50128760227057\" y2=\"224.94461652992644\" stroke-linecap=\"round\" style=\"stroke:orange;stroke-width:4\"/><line x1=\"492.50128760227057\" y1=\"224.94461652992644\" x2=\"488.8406578145884\" y2=\"216.72270741114303\" stroke-linecap=\"round\" style=\"stroke:blue;stroke-width:4\"/><line x1=\"488.8406578145884\" y1=\"216.72270741114303\" x2=\"527.7145643381508\" y2=\"175.03554641885032\" stroke-linecap=\"round\" style=\"stroke:yellow;stroke-width:4\"/><line x1=\"527.7145643381508\" y1=\"175.03554641885032\" x2=\"565.3022691695871\" y2=\"188.71635215187706\" stroke-linecap=\"round\" style=\"stroke:green;stroke-width:4\"/><line x1=\"565.3022691695871\" y1=\"188.71635215187706\" x2=\"568.1284108067061\" y2=\"242.64234702862404\" stroke-linecap=\"round\" style=\"stroke:orange;stroke-width:4\"/><line x1=\"568.1284108067061\" y1=\"242.64234702862404\" x2=\"524.0875025380469\" y2=\"264.12253322128885\" stroke-linecap=\"round\" style=\"stroke:purple;stroke-width:4\"/><line x1=\"524.0875025380469\" y1=\"264.12253322128885\" x2=\"487.8614426873539\" y2=\"232.63169982974452\" stroke-linecap=\"round\" style=\"stroke:yellow;stroke-width:4\"/><line x1=\"487.8614426873539\" y1=\"232.63169982974452\" x2=\"494.96883355797763\" y2=\"210.75739995495599\" stroke-linecap=\"round\" style=\"stroke:white;stroke-width:4\"/><line x1=\"494.96883355797763\" y1=\"210.75739995495599\" x2=\"538.8014002740144\" y2=\"206.922547274059\" stroke-linecap=\"round\" style=\"stroke:red;stroke-width:4\"/><line x1=\"538.8014002740144\" y1=\"206.922547274059\" x2=\"564.1528646644525\" y2=\"254.60171728844108\" stroke-linecap=\"round\" style=\"stroke:blue;stroke-width:4\"/><line x1=\"564.1528646644525\" y1=\"254.60171728844108\" x2=\"540.2386898045587\" y2=\"284.133263823806\" stroke-linecap=\"round\" style=\"stroke:grey;stroke-width:4\"/><line x1=\"540.2386898045587\" y1=\"284.133263823806\" x2=\"526.7810260614223\" y2=\"280.27434084236796\" stroke-linecap=\"round\" style=\"stroke:purple;stroke-width:4\"/><line x1=\"526.7810260614223\" y1=\"280.27434084236796\" x2=\"522.1499910120267\" y2=\"242.55758707999772\" stroke-linecap=\"round\" style=\"stroke:red;stroke-width:4\"/><line x1=\"522.1499910120267\" y1=\"242.55758707999772\" x2=\"532.54229585744\" y2=\"236.55758707999772\" stroke-linecap=\"round\" style=\"stroke:green;stroke-width:4\"/><line x1=\"532.54229585744\" y1=\"236.55758707999772\" x2=\"553.3068191186696\" y2=\"252.204777681951\" stroke-linecap=\"round\" style=\"stroke:grey;stroke-width:4\"/><line x1=\"553.3068191186696\" y1=\"252.204777681951\" x2=\"543.1460995034836\" y2=\"292.95719818554284\" stroke-linecap=\"round\" style=\"stroke:yellow;stroke-width:4\"/><line x1=\"543.1460995034836\" y1=\"292.95719818554284\" x2=\"519.4415793292003\" y2=\"296.71162534650836\" stroke-linecap=\"round\" style=\"stroke:yellow;stroke-width:4\"/><line x1=\"519.4415793292003\" y1=\"296.71162534650836\" x2=\"518.9116600649671\" y2=\"295.8635772503519\" stroke-linecap=\"round\" style=\"stroke:purple;stroke-width:4\"/><line x1=\"518.9116600649671\" y1=\"295.8635772503519\" x2=\"541.2811410826579\" y2=\"263.9166475230812\" stroke-linecap=\"round\" style=\"stroke:orange;stroke-width:4\"/><line x1=\"541.2811410826579\" y1=\"263.9166475230812\" x2=\"553.0189122914635\" y2=\"266.4115878128943\" stroke-linecap=\"round\" style=\"stroke:orange;stroke-width:4\"/><line x1=\"553.0189122914635\" y1=\"266.4115878128943\" x2=\"553.9729572683462\" y2=\"271.31972373013264\" stroke-linecap=\"round\" style=\"stroke:green;stroke-width:4\"/><line x1=\"553.9729572683462\" y1=\"271.31972373013264\" x2=\"509.204928350374\" y2=\"301.51614051755297\" stroke-linecap=\"round\" style=\"stroke:blue;stroke-width:4\"/><line x1=\"509.204928350374\" y1=\"301.51614051755297\" x2=\"493.27018755941094\" y2=\"291.16799885226743\" stroke-linecap=\"round\" style=\"stroke:orange;stroke-width:4\"/><line x1=\"493.27018755941094\" y1=\"291.16799885226743\" x2=\"499.8688183107543\" y2=\"253.7453042378035\" stroke-linecap=\"round\" style=\"stroke:orange;stroke-width:4\"/><line x1=\"499.8688183107543\" y1=\"253.7453042378035\" x2=\"503.76629856989524\" y2=\"252.84550002042803\" stroke-linecap=\"round\" style=\"stroke:purple;stroke-width:4\"/><line x1=\"503.76629856989524\" y1=\"252.84550002042803\" x2=\"533.1555611845189\" y2=\"293.2963497391754\" stroke-linecap=\"round\" style=\"stroke:orange;stroke-width:4\"/><line x1=\"533.1555611845189\" y1=\"293.2963497391754\" x2=\"506.88861936410615\" y2=\"337.01188207498313\" stroke-linecap=\"round\" style=\"stroke:white;stroke-width:4\"/><line x1=\"506.88861936410615\" y1=\"337.01188207498313\" x2=\"488.07352605801634\" y2=\"334.36759315674186\" stroke-linecap=\"round\" style=\"stroke:red;stroke-width:4\"/><line x1=\"488.07352605801634\" y1=\"334.36759315674186\" x2=\"487.2970689227088\" y2=\"331.46981567787464\" stroke-linecap=\"round\" style=\"stroke:red;stroke-width:4\"/><line x1=\"487.2970689227088\" y1=\"331.46981567787464\" x2=\"512.5134130381239\" y2=\"311.76864846745354\" stroke-linecap=\"round\" style=\"stroke:purple;stroke-width:4\"/><line x1=\"512.5134130381239\" y1=\"311.76864846745354\" x2=\"526.5073283523542\" y2=\"319.52560239139495\" stroke-linecap=\"round\" style=\"stroke:purple;stroke-width:4\"/><line x1=\"526.5073283523542\" y1=\"319.52560239139495\" x2=\"525.4620437196777\" y2=\"329.4708213450777\" stroke-linecap=\"round\" style=\"stroke:purple;stroke-width:4\"/><line x1=\"525.4620437196777\" y1=\"329.4708213450777\" x2=\"504.42333908849093\" y2=\"335.9029988489779\" stroke-linecap=\"round\" style=\"stroke:grey;stroke-width:4\"/><line x1=\"504.42333908849093\" y1=\"335.9029988489779\" x2=\"488.996436456014\" y2=\"317.5179322141224\" stroke-linecap=\"round\" style=\"stroke:red;stroke-width:4\"/><line x1=\"488.996436456014\" y1=\"317.5179322141224\" x2=\"504.8861039468981\" y2=\"286.3327038675296\" stroke-linecap=\"round\" style=\"stroke:orange;stroke-width:4\"/><line x1=\"504.8861039468981\" y1=\"286.3327038675296\" x2=\"511.8690522987169\" y2=\"286.8209991837385\" stroke-linecap=\"round\" style=\"stroke:green;stroke-width:4\"/><line x1=\"511.8690522987169\" y1=\"286.8209991837385\" x2=\"519.3571198512315\" y2=\"308.56792642252276\" stroke-linecap=\"round\" style=\"stroke:white;stroke-width:4\"/><line x1=\"519.3571198512315\" y1=\"308.56792642252276\" x2=\"494.8333406104775\" y2=\"330.6492364323651\" stroke-linecap=\"round\" style=\"stroke:white;stroke-width:4\"/><line x1=\"494.8333406104775\" y1=\"330.6492364323651\" x2=\"493.0207250364042\" y2=\"329.8039999088837\" stroke-linecap=\"round\" style=\"stroke:red;stroke-width:4\"/><line x1=\"493.0207250364042\" y1=\"329.8039999088837\" x2=\"493.43951899683424\" y2=\"317.8113099846546\" stroke-linecap=\"round\" style=\"stroke:yellow;stroke-width:4\"/><line x1=\"493.43951899683424\" y1=\"317.8113099846546\" x2=\"539.1849598951972\" y2=\"300.25128045693486\" stroke-linecap=\"round\" style=\"stroke:grey;stroke-width:4\"/><line x1=\"539.1849598951972\" y1=\"300.25128045693486\" x2=\"571.139244936311\" y2=\"333.3409112725128\" stroke-linecap=\"round\" style=\"stroke:purple;stroke-width:4\"/><line x1=\"571.139244936311\" y1=\"333.3409112725128\" x2=\"562.1524289810577\" y2=\"354.51252290191894\" stroke-linecap=\"round\" style=\"stroke:grey;stroke-width:4\"/><line x1=\"562.1524289810577\" y1=\"354.51252290191894\" x2=\"558.1524289810577\" y2=\"354.51252290191894\" stroke-linecap=\"round\" style=\"stroke:red;stroke-width:4\"/><line x1=\"558.1524289810577\" y1=\"354.51252290191894\" x2=\"549.947075282783\" y2=\"335.18192097941767\" stroke-linecap=\"round\" style=\"stroke:purple;stroke-width:4\"/><line x1=\"549.947075282783\" y1=\"335.18192097941767\" x2=\"584.6799938057328\" y2=\"299.2149309624851\" stroke-linecap=\"round\" style=\"stroke:red;stroke-width:4\"/><line x1=\"584.6799938057328\" y1=\"299.2149309624851\" x2=\"623.8903717186153\" y2=\"314.2663848433877\" stroke-linecap=\"round\" style=\"stroke:orange;stroke-width:4\"/><line x1=\"623.8903717186153\" y1=\"314.2663848433877\" x2=\"624.3789646724503\" y2=\"328.25785642165505\" stroke-linecap=\"round\" style=\"stroke:yellow;stroke-width:4\"/><line x1=\"624.3789646724503\" y1=\"328.25785642165505\" x2=\"608.0654245057906\" y2=\"335.8649851329876\" stroke-linecap=\"round\" style=\"stroke:white;stroke-width:4\"/><line x1=\"608.0654245057906\" y1=\"335.8649851329876\" x2=\"600.6339762510166\" y2=\"329.17367906939904\" stroke-linecap=\"round\" style=\"stroke:green;stroke-width:4\"/><line x1=\"600.6339762510166\" y1=\"329.17367906939904\" x2=\"614.9589750471315\" y2=\"287.5708617430291\" stroke-linecap=\"round\" style=\"stroke:white;stroke-width:4\"/><line x1=\"614.9589750471315\" y1=\"287.5708617430291\" x2=\"622.9394874492101\" y2=\"287.0128099530761\" stroke-linecap=\"round\" style=\"stroke:yellow;stroke-width:4\"/><line x1=\"622.9394874492101\" y1=\"287.0128099530761\" x2=\"637.013192941136\" y2=\"314.6340122029155\" stroke-linecap=\"round\" style=\"stroke:grey;stroke-width:4\"/><line x1=\"637.013192941136\" y1=\"314.6340122029155\" x2=\"633.1564672830168\" y2=\"319.2302788616294\" stroke-linecap=\"round\" style=\"stroke:red;stroke-width:4\"/><line x1=\"633.1564672830168\" y1=\"319.2302788616294\" x2=\"614.030372163756\" y2=\"313.3828447671747\" stroke-linecap=\"round\" style=\"stroke:grey;stroke-width:4\"/><line x1=\"614.030372163756\" y1=\"313.3828447671747\" x2=\"611.939802898403\" y2=\"293.4924068598092\" stroke-linecap=\"round\" style=\"stroke:grey;stroke-width:4\"/><line x1=\"611.939802898403\" y1=\"293.4924068598092\" x2=\"628.5575773340514\" y2=\"284.2810240751288\" stroke-linecap=\"round\" style=\"stroke:yellow;stroke-width:4\"/><line x1=\"628.5575773340514\" y1=\"284.2810240751288\" x2=\"649.8338676814329\" y2=\"300.90388390892156\" stroke-linecap=\"round\" style=\"stroke:orange;stroke-width:4\"/><line x1=\"649.8338676814329\" y1=\"300.90388390892156\" x2=\"647.7633153206127\" y2=\"308.6312905192341\" stroke-linecap=\"round\" style=\"stroke:white;stroke-width:4\"/><line x1=\"647.7633153206127\" y1=\"308.6312905192341\" x2=\"645.7827791831296\" y2=\"308.90963672115424\" stroke-linecap=\"round\" style=\"stroke:red;stroke-width:4\"/><line x1=\"645.7827791831296\" y1=\"308.90963672115424\" x2=\"640.1173603591191\" y2=\"299.480796413431\" stroke-linecap=\"round\" style=\"stroke:yellow;stroke-width:4\"/><line x1=\"640.1173603591191\" y1=\"299.480796413431\" x2=\"643.0562866205814\" y2=\"295.43571144155624\" stroke-linecap=\"round\" style=\"stroke:red;stroke-width:4\"/><line x1=\"643.0562866205814\" y1=\"295.43571144155624\" x2=\"648.9025070092929\" y2=\"296.78541776761944\" stroke-linecap=\"round\" style=\"stroke:blue;stroke-width:4\"/><line x1=\"648.9025070092929\" y1=\"296.78541776761944\" x2=\"649.9443960752944\" y2=\"302.69426428569267\" stroke-linecap=\"round\" style=\"stroke:red;stroke-width:4\"/><line x1=\"649.9443960752944\" y1=\"302.69426428569267\" x2=\"645.7510432355673\" y2=\"305.4174594607678\" stroke-linecap=\"round\" style=\"stroke:grey;stroke-width:4\"/><line x1=\"645.7510432355673\" y1=\"305.4174594607678\" x2=\"615.0766530510307\" y2=\"284.7273220323502\" stroke-linecap=\"round\" style=\"stroke:red;stroke-width:4\"/><line x1=\"615.0766530510307\" y1=\"284.7273220323502\" x2=\"619.0836419539381\" y2=\"264.1131511799492\" stroke-linecap=\"round\" style=\"stroke:green;stroke-width:4\"/><line x1=\"619.0836419539381\" y1=\"264.1131511799492\" x2=\"658.2095459832904\" y2=\"255.79668354723884\" stroke-linecap=\"round\" style=\"stroke:white;stroke-width:4\"/><line x1=\"658.2095459832904\" y1=\"255.79668354723884\" x2=\"684.0204856190875\" y2=\"292.6585255402435\" stroke-linecap=\"round\" style=\"stroke:blue;stroke-width:4\"/><line x1=\"684.0204856190875\" y1=\"292.6585255402435\" x2=\"663.8835535782257\" y2=\"324.88435319418767\" stroke-linecap=\"round\" style=\"stroke:blue;stroke-width:4\"/><line x1=\"663.8835535782257\" y1=\"324.88435319418767\" x2=\"646.1051634475132\" y2=\"322.0685328234635\" stroke-linecap=\"round\" style=\"stroke:orange;stroke-width:4\"/><line x1=\"646.1051634475132\" y1=\"322.0685328234635\" x2=\"632.5575372939318\" y2=\"267.7319721520077\" stroke-linecap=\"round\" style=\"stroke:blue;stroke-width:4\"/><line x1=\"632.5575372939318\" y1=\"267.7319721520077\" x2=\"650.9261540250195\" y2=\"253.8902266195106\" stroke-linecap=\"round\" style=\"stroke:green;stroke-width:4\"/><line x1=\"650.9261540250195\" y1=\"253.8902266195106\" x2=\"655.2562810439417\" y2=\"256.3902266195106\" stroke-linecap=\"round\" style=\"stroke:red;stroke-width:4\"/><line x1=\"655.2562810439417\" y1=\"256.3902266195106\" x2=\"650.9908540247616\" y2=\"291.1293419269569\" stroke-linecap=\"round\" style=\"stroke:blue;stroke-width:4\"/><line x1=\"650.9908540247616\" y1=\"291.1293419269569\" x2=\"614.4629095791055\" y2=\"301.6035614480029\" stroke-linecap=\"round\" style=\"stroke:purple;stroke-width:4\"/><line x1=\"614.4629095791055\" y1=\"301.6035614480029\" x2=\"595.5832978476103\" y2=\"278.2891826042938\" stroke-linecap=\"round\" style=\"stroke:orange;stroke-width:4\"/><line x1=\"595.5832978476103\" y1=\"278.2891826042938\" x2=\"612.4842741079024\" y2=\"246.50306926137242\" stroke-linecap=\"round\" style=\"stroke:blue;stroke-width:4\"/><line x1=\"612.4842741079024\" y1=\"246.50306926137242\" x2=\"614.4766635040859\" y2=\"246.67738074686773\" stroke-linecap=\"round\" style=\"stroke:yellow;stroke-width:4\"/><line x1=\"614.4766635040859\" y1=\"246.67738074686773\" x2=\"629.0004622397084\" y2=\"291.37703701273995\" stroke-linecap=\"round\" style=\"stroke:blue;stroke-width:4\"/><line x1=\"629.0004622397084\" y1=\"291.37703701273995\" x2=\"616.1703993759213\" y2=\"302.5300405055786\" stroke-linecap=\"round\" style=\"stroke:orange;stroke-width:4\"/><line x1=\"616.1703993759213\" y1=\"302.5300405055786\" x2=\"573.9270791998605\" y2=\"281.92659660649196\" stroke-linecap=\"round\" style=\"stroke:red;stroke-width:4\"/><line x1=\"573.9270791998605\" y1=\"281.92659660649196\" x2=\"574.5027747185329\" y2=\"270.9416717241916\" stroke-linecap=\"round\" style=\"stroke:yellow;stroke-width:4\"/><line x1=\"574.5027747185329\" y1=\"270.9416717241916\" x2=\"604.572938583682\" y2=\"259.9970271377702\" stroke-linecap=\"round\" style=\"stroke:purple;stroke-width:4\"/><line x1=\"604.572938583682\" y1=\"259.9970271377702\" x2=\"637.3088598666819\" y2=\"295.1020048154904\" stroke-linecap=\"round\" style=\"stroke:blue;stroke-width:4\"/><line x1=\"637.3088598666819\" y1=\"295.1020048154904\" x2=\"637.3088598666819\" y2=\"295.1020048154904\" stroke-linecap=\"round\" style=\"stroke:green;stroke-width:4\"/><line x1=\"637.3088598666819\" y1=\"295.1020048154904\" x2=\"613.3125151829286\" y2=\"294.68314706099557\" stroke-linecap=\"round\" style=\"stroke:green;stroke-width:4\"/><line x1=\"613.3125151829286\" y1=\"294.68314706099557\" x2=\"606.1949899080263\" y2=\"277.0666538242266\" stroke-linecap=\"round\" style=\"stroke:green;stroke-width:4\"/><line x1=\"606.1949899080263\" y1=\"277.0666538242266\" x2=\"621.7513390941303\" y2=\"261.51030463812253\" stroke-linecap=\"round\" style=\"stroke:orange;stroke-width:4\"/><line x1=\"621.7513390941303\" y1=\"261.51030463812253\" x2=\"659.7658771313686\" y2=\"276.86917496817495\" stroke-linecap=\"round\" style=\"stroke:red;stroke-width:4\"/><line x1=\"659.7658771313686\" y1=\"276.86917496817495\" x2=\"659.7658771313686\" y2=\"276.86917496817495\" stroke-linecap=\"round\" style=\"stroke:orange;stroke-width:4\"/><line x1=\"659.7658771313686\" y1=\"276.86917496817495\" x2=\"630.5324224868053\" y2=\"289.8847475466006\" stroke-linecap=\"round\" style=\"stroke:orange;stroke-width:4\"/><line x1=\"630.5324224868053\" y1=\"289.8847475466006\" x2=\"623.9502391722328\" y2=\"283.7467623060381\" stroke-linecap=\"round\" style=\"stroke:red;stroke-width:4\"/><line x1=\"623.9502391722328\" y1=\"283.7467623060381\" x2=\"630.4486218954205\" y2=\"265.8926025111058\" stroke-linecap=\"round\" style=\"stroke:grey;stroke-width:4\"/><line x1=\"630.4486218954205\" y1=\"265.8926025111058\" x2=\"688.3691349111858\" y2=\"262.857117049015\" stroke-linecap=\"round\" style=\"stroke:grey;stroke-width:4\"/><line x1=\"688.3691349111858\" y1=\"262.857117049015\" x2=\"704.1504961955926\" y2=\"295.213702715785\" stroke-linecap=\"round\" style=\"stroke:orange;stroke-width:4\"/><line x1=\"704.1504961955926\" y1=\"295.213702715785\" x2=\"681.8444892099153\" y2=\"320.8738284433593\" stroke-linecap=\"round\" style=\"stroke:white;stroke-width:4\"/><line x1=\"681.8444892099153\" y1=\"320.8738284433593\" x2=\"659.9701893351267\" y2=\"313.7664375727355\" stroke-linecap=\"round\" style=\"stroke:yellow;stroke-width:4\"/><line x1=\"659.9701893351267\" y1=\"313.7664375727355\" x2=\"657.61698428094\" y2=\"286.8691807242584\" stroke-linecap=\"round\" style=\"stroke:blue;stroke-width:4\"/><line x1=\"657.61698428094\" y1=\"286.8691807242584\" x2=\"675.2759361381185\" y2=\"277.4797494685406\" stroke-linecap=\"round\" style=\"stroke:yellow;stroke-width:4\"/><line x1=\"675.2759361381185\" y1=\"277.4797494685406\" x2=\"714.133234210967\" y2=\"308.94576902103245\" stroke-linecap=\"round\" style=\"stroke:green;stroke-width:4\"/><line x1=\"714.133234210967\" y1=\"308.94576902103245\" x2=\"711.928135364431\" y2=\"316.635862588539\" stroke-linecap=\"round\" style=\"stroke:white;stroke-width:4\"/><line x1=\"711.928135364431\" y1=\"316.635862588539\" x2=\"706.9654046062244\" y2=\"317.24520930556474\" stroke-linecap=\"round\" style=\"stroke:purple;stroke-width:4\"/><line x1=\"706.9654046062244\" y1=\"317.24520930556474\" x2=\"687.9654046062244\" y2=\"284.33624396175605\" stroke-linecap=\"round\" style=\"stroke:red;stroke-width:4\"/><line x1=\"687.9654046062244\" y1=\"284.33624396175605\" x2=\"689.1690346525285\" y2=\"282.7389729416615\" stroke-linecap=\"round\" style=\"stroke:green;stroke-width:4\"/><line x1=\"689.1690346525285\" y1=\"282.7389729416615\" x2=\"721.1887936196364\" y2=\"290.72239549645053\" stroke-linecap=\"round\" style=\"stroke:orange;stroke-width:4\"/><line x1=\"721.1887936196364\" y1=\"290.72239549645053\" x2=\"724.6303518505215\" y2=\"312.45153898954356\" stroke-linecap=\"round\" style=\"stroke:grey;stroke-width:4\"/><line x1=\"724.6303518505215\" y1=\"312.45153898954356\" x2=\"701.7330532542979\" y2=\"326.7593591238401\" stroke-linecap=\"round\" style=\"stroke:red;stroke-width:4\"/><line x1=\"701.7330532542979\" y1=\"326.7593591238401\" x2=\"673.0627317041832\" y2=\"306.6841838515535\" stroke-linecap=\"round\" style=\"stroke:green;stroke-width:4\"/><line x1=\"673.0627317041832\" y1=\"306.6841838515535\" x2=\"674.3102018490897\" y2=\"300.8152982471507\" stroke-linecap=\"round\" style=\"stroke:red;stroke-width:4\"/><line x1=\"674.3102018490897\" y1=\"300.8152982471507\" x2=\"706.7038989028626\" y2=\"294.51860139972473\" stroke-linecap=\"round\" style=\"stroke:grey;stroke-width:4\"/><line x1=\"706.7038989028626\" y1=\"294.51860139972473\" x2=\"715.6509853583946\" y2=\"307.7832025606054\" stroke-linecap=\"round\" style=\"stroke:white;stroke-width:4\"/><line x1=\"715.6509853583946\" y1=\"307.7832025606054\" x2=\"691.6868678177334\" y2=\"344.68470755020405\" stroke-linecap=\"round\" style=\"stroke:yellow;stroke-width:4\"/><line x1=\"691.6868678177334\" y1=\"344.68470755020405\" x2=\"636.5376336490498\" y2=\"334.96040960085594\" stroke-linecap=\"round\" style=\"stroke:orange;stroke-width:4\"/><line x1=\"636.5376336490498\" y1=\"334.96040960085594\" x2=\"635.6378294316743\" y2=\"331.062929341715\" stroke-linecap=\"round\" style=\"stroke:red;stroke-width:4\"/><line x1=\"635.6378294316743\" y1=\"331.062929341715\" x2=\"638.8738974091741\" y2=\"328.7117883325451\" stroke-linecap=\"round\" style=\"stroke:purple;stroke-width:4\"/><line x1=\"638.8738974091741\" y1=\"328.7117883325451\" x2=\"666.3032510316417\" y2=\"345.1930067296668\" stroke-linecap=\"round\" style=\"stroke:orange;stroke-width:4\"/><line x1=\"666.3032510316417\" y1=\"345.1930067296668\" x2=\"663.1022697095602\" y2=\"367.9691723107229\" stroke-linecap=\"round\" style=\"stroke:yellow;stroke-width:4\"/><line x1=\"663.1022697095602\" y1=\"367.9691723107229\" x2=\"611.9082009162396\" y2=\"381.6865817011565\" stroke-linecap=\"round\" style=\"stroke:green;stroke-width:4\"/><line x1=\"611.9082009162396\" y1=\"381.6865817011565\" x2=\"604.5202632123317\" y2=\"372.23045265787584\" stroke-linecap=\"round\" style=\"stroke:white;stroke-width:4\"/><line x1=\"604.5202632123317\" y1=\"372.23045265787584\" x2=\"615.6708844779974\" y2=\"352.11419939366976\" stroke-linecap=\"round\" style=\"stroke:orange;stroke-width:4\"/><line x1=\"615.6708844779974\" y1=\"352.11419939366976\" x2=\"658.4353259788332\" y2=\"356.60892331417887\" stroke-linecap=\"round\" style=\"stroke:red;stroke-width:4\"/><line x1=\"658.4353259788332\" y1=\"356.60892331417887\" x2=\"658.4353259788332\" y2=\"356.60892331417887\" stroke-linecap=\"round\" style=\"stroke:blue;stroke-width:4\"/><line x1=\"658.4353259788332\" y1=\"356.60892331417887\" x2=\"636.2200371283828\" y2=\"375.24976399508853\" stroke-linecap=\"round\" style=\"stroke:yellow;stroke-width:4\"/><line x1=\"636.2200371283828\" y1=\"375.24976399508853\" x2=\"584.5416587254575\" y2=\"348.9183150101948\" stroke-linecap=\"round\" style=\"stroke:yellow;stroke-width:4\"/><line x1=\"584.5416587254575\" y1=\"348.9183150101948\" x2=\"587.8202129914314\" y2=\"302.0328046479831\" stroke-linecap=\"round\" style=\"stroke:yellow;stroke-width:4\"/><line x1=\"587.8202129914314\" y1=\"302.0328046479831\" x2=\"591.6022872938287\" y2=\"300.73053203015445\" stroke-linecap=\"round\" style=\"stroke:blue;stroke-width:4\"/><line x1=\"591.6022872938287\" y1=\"300.73053203015445\" x2=\"624.3896870054127\" y2=\"337.1446284785468\" stroke-linecap=\"round\" style=\"stroke:orange;stroke-width:4\"/><line x1=\"624.3896870054127\" y1=\"337.1446284785468\" x2=\"604.9492469653405\" y2=\"378.8347866822327\" stroke-linecap=\"round\" style=\"stroke:white;stroke-width:4\"/><line x1=\"604.9492469653405\" y1=\"378.8347866822327\" x2=\"585.9608212519777\" y2=\"378.17169624488514\" stroke-linecap=\"round\" style=\"stroke:grey;stroke-width:4\"/><line x1=\"585.9608212519777\" y1=\"378.17169624488514\" x2=\"568.7591596738032\" y2=\"333.3598357730195\" stroke-linecap=\"round\" style=\"stroke:purple;stroke-width:4\"/><line x1=\"568.7591596738032\" y1=\"333.3598357730195\" x2=\"608.322848692429\" y2=\"295.1536253977746\" stroke-linecap=\"round\" style=\"stroke:green;stroke-width:4\"/><line x1=\"608.322848692429\" y1=\"295.1536253977746\" x2=\"647.904557390884\" y2=\"311.95506392281334\" stroke-linecap=\"round\" style=\"stroke:red;stroke-width:4\"/><line x1=\"647.904557390884\" y1=\"311.95506392281334\" x2=\"647.904557390884\" y2=\"351.95506392281334\" stroke-linecap=\"round\" style=\"stroke:blue;stroke-width:4\"/>\n",
              "        \n",
              "      <g visibility=visible transform=\"rotate(0,647.904557390884,351.95506392281334) translate(647.904557390884, 351.95506392281334)\">\n",
              "        <circle stroke=\"blue\" stroke-width=\"3\" fill=\"transparent\" r=\"12\" cx=\"0\" cy=\"0\"/>\n",
              "        <polygon points=\"0,19 3,16 -3,16\" style=\"fill:blue;stroke:blue;stroke-width:2\"/>\n",
              "      </g>\n",
              "    \n",
              "      </svg>\n",
              "    "
            ],
            "text/plain": [
              "<IPython.core.display.HTML object>"
            ]
          },
          "metadata": {
            "tags": []
          }
        }
      ]
    },
    {
      "cell_type": "markdown",
      "metadata": {
        "id": "zaOtyAurJGDR"
      },
      "source": [
        "##TODO\n",
        "\n",
        "1. Add a button to break the while loop."
      ]
    },
    {
      "cell_type": "code",
      "metadata": {
        "id": "NaYD_LelMVTg",
        "outputId": "cf6ea3c2-1e8c-4970-bae0-1c6e9200214f",
        "colab": {
          "base_uri": "https://localhost:8080/",
          "height": 132
        }
      },
      "source": [
        "alex.penup()\n",
        "alex.goto(int(ww/4),int(wh*1/2)\n",
        "L=(60/n)\n",
        "alex.right(90)\n",
        "alex.forward(L)\n",
        "print('L = ', L)"
      ],
      "execution_count": null,
      "outputs": [
        {
          "output_type": "error",
          "ename": "SyntaxError",
          "evalue": "ignored",
          "traceback": [
            "\u001b[0;36m  File \u001b[0;32m\"<ipython-input-56-135e7e6c605d>\"\u001b[0;36m, line \u001b[0;32m3\u001b[0m\n\u001b[0;31m    L=(60/n)\u001b[0m\n\u001b[0m    ^\u001b[0m\n\u001b[0;31mSyntaxError\u001b[0m\u001b[0;31m:\u001b[0m invalid syntax\n"
          ]
        }
      ]
    },
    {
      "cell_type": "code",
      "metadata": {
        "id": "PXN0eSgvOFP7"
      },
      "source": [
        ""
      ],
      "execution_count": null,
      "outputs": []
    }
  ]
}